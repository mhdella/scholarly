{
 "cells": [
  {
   "cell_type": "markdown",
   "metadata": {},
   "source": [
    "# Analysis of Preprint Papers from the ArXiv"
   ]
  },
  {
   "cell_type": "markdown",
   "metadata": {},
   "source": [
    "The website [arxiv.org](https://arxiv.org) is a popular database for scientific papers in STEM fields. ArXiv has its own classification system consisting of roughly 150 different categories, which are manually added by the authors whenever a new paper is uploaded. A paper can be assigned multiple categories.\n",
    "\n",
    "The goal for this project is to develop a machine learning model which can predict the ArXiv category from a given title and abstract. The data set used here has been scraped from the [ArXiv API](https://arxiv.org/help/api) over several days, using the Python scraper `arxiv_scraper.py`.\n",
    "\n",
    "To get a sense for how long the scraping takes, you can uncomment and run the script below."
   ]
  },
  {
   "cell_type": "code",
   "execution_count": 2,
   "metadata": {
    "scrolled": true
   },
   "outputs": [],
   "source": [
    "#from arxiv_scraper import cat_scrape\n",
    "#cat_scrape(\n",
    "#    max_results_per_cat = 100, # maximum number of papers to download per category (there are ~150 categories)\n",
    "#    file_path = \"arxiv_data\", # name of output file\n",
    "#    batch_size = 100 # size of every batch - lower batch size requires less memory - must be less than 30,000\n",
    "#)"
   ]
  },
  {
   "cell_type": "markdown",
   "metadata": {},
   "source": [
    "Alternatively, I have downloaded metadata from about a million papers using this scraper (with `max_results_per_cat` = 10000), which can be freely downloaded below. This data set takes up ~1gb of space, however, so I've included many random samples of this data set as well:\n",
    "\n",
    "* `arxiv` contains the main data set\n",
    "* `arxiv_sample_1000` contains 1,000 papers\n",
    "* `arxiv_sample_5000` contains 5,000 papers\n",
    "* `arxiv_sample_10000` contains 10,000 papers\n",
    "* `arxiv_sample_25000` contains 25,000 papers\n",
    "* `arxiv_sample_50000` contains 50,000 papers\n",
    "* `arxiv_sample_100000` contains 100,000 papers\n",
    "* `arxiv_sample_200000` contains 200,000 papers\n",
    "* `arxiv_sample_500000` contains 500,000 papers\n",
    "* `arxiv_sample_750000` contains 750,000 papers\n",
    "\n",
    "Choose your favorite below. Alternatively, of course, you can set it to be the file name of your own scraped data."
   ]
  },
  {
   "cell_type": "code",
   "execution_count": 3,
   "metadata": {},
   "outputs": [],
   "source": [
    "file_name = \"arxiv_sample_1000\""
   ]
  },
  {
   "cell_type": "markdown",
   "metadata": {},
   "source": [
    "We start by importing all the packages we will need and setting up a data directory."
   ]
  },
  {
   "cell_type": "code",
   "execution_count": 4,
   "metadata": {},
   "outputs": [
    {
     "name": "stdout",
     "output_type": "stream",
     "text": [
      "Packages loaded and data directory created.\n"
     ]
    }
   ],
   "source": [
    "import os\n",
    "import pandas as pd\n",
    "import numpy as np\n",
    "import matplotlib.pyplot as plt\n",
    "import re # regular expressions\n",
    "import pickle # enables saving data and models locally\n",
    "import spacy as sp # used for lemmatising text\n",
    "import wget # downloading files\n",
    "import tarfile # dealing with compressed .tar.gz files\n",
    "\n",
    "os.system(\"mkdir data\") # create data directory\n",
    "\n",
    "print(\"Packages loaded and data directory created.\")"
   ]
  },
  {
   "cell_type": "markdown",
   "metadata": {},
   "source": [
    "<h2> Fetching data </h2>"
   ]
  },
  {
   "cell_type": "markdown",
   "metadata": {},
   "source": [
    "We then download the chosen data set --- if you've already scraped your own data set then skip this stage."
   ]
  },
  {
   "cell_type": "code",
   "execution_count": 5,
   "metadata": {},
   "outputs": [
    {
     "name": "stdout",
     "output_type": "stream",
     "text": [
      "arxiv_sample_1000.csv already downloaded.\n"
     ]
    }
   ],
   "source": [
    "url_start = f\"https://filedn.com/lRBwPhPxgV74tO0rDoe8SpH/scholarly_data/\"\n",
    "\n",
    "# download the paper data\n",
    "if not os.path.isfile(f'data/{file_name}.csv'):\n",
    "    print(f\"Downloading {file_name}.csv...\", end = \" \")\n",
    "    wget.download(url_start + f\"{file_name}.csv\", out = f\"data/{file_name}.csv\")\n",
    "    print(\"Done!\")\n",
    "else:\n",
    "    print(f\"{file_name}.csv already downloaded.\")"
   ]
  },
  {
   "cell_type": "markdown",
   "metadata": {},
   "source": [
    "Next, we download a list of all the arXiv categories and store them in `cats`."
   ]
  },
  {
   "cell_type": "code",
   "execution_count": 6,
   "metadata": {},
   "outputs": [
    {
     "name": "stdout",
     "output_type": "stream",
     "text": [
      "cats.csv already downloaded.\n"
     ]
    },
    {
     "data": {
      "text/html": [
       "<div>\n",
       "<style scoped>\n",
       "    .dataframe tbody tr th:only-of-type {\n",
       "        vertical-align: middle;\n",
       "    }\n",
       "\n",
       "    .dataframe tbody tr th {\n",
       "        vertical-align: top;\n",
       "    }\n",
       "\n",
       "    .dataframe thead th {\n",
       "        text-align: right;\n",
       "    }\n",
       "</style>\n",
       "<table border=\"1\" class=\"dataframe\">\n",
       "  <thead>\n",
       "    <tr style=\"text-align: right;\">\n",
       "      <th></th>\n",
       "      <th>category</th>\n",
       "      <th>description</th>\n",
       "    </tr>\n",
       "  </thead>\n",
       "  <tbody>\n",
       "    <tr>\n",
       "      <th>0</th>\n",
       "      <td>astro-ph</td>\n",
       "      <td>Astrophysics</td>\n",
       "    </tr>\n",
       "    <tr>\n",
       "      <th>1</th>\n",
       "      <td>astro-ph.CO</td>\n",
       "      <td>Cosmology and Nongalactic Astrophysics</td>\n",
       "    </tr>\n",
       "    <tr>\n",
       "      <th>2</th>\n",
       "      <td>astro-ph.EP</td>\n",
       "      <td>Earth and Planetary Astrophysics</td>\n",
       "    </tr>\n",
       "    <tr>\n",
       "      <th>3</th>\n",
       "      <td>astro-ph.GA</td>\n",
       "      <td>Astrophysics of Galaxies</td>\n",
       "    </tr>\n",
       "    <tr>\n",
       "      <th>4</th>\n",
       "      <td>astro-ph.HE</td>\n",
       "      <td>High Energy Astrophysical Phenomena</td>\n",
       "    </tr>\n",
       "  </tbody>\n",
       "</table>\n",
       "</div>"
      ],
      "text/plain": [
       "      category                             description\n",
       "0     astro-ph                            Astrophysics\n",
       "1  astro-ph.CO  Cosmology and Nongalactic Astrophysics\n",
       "2  astro-ph.EP        Earth and Planetary Astrophysics\n",
       "3  astro-ph.GA                Astrophysics of Galaxies\n",
       "4  astro-ph.HE     High Energy Astrophysical Phenomena"
      ]
     },
     "execution_count": 6,
     "metadata": {},
     "output_type": "execute_result"
    }
   ],
   "source": [
    "# download a list of all the arXiv categories\n",
    "if not os.path.isfile('data/cats.csv'):\n",
    "    print(\"Downloading cats.csv...\", end = \" \")\n",
    "    wget.download(url_start + \"cats.csv\", out = \"data/cats.csv\")\n",
    "    print(\"Done!\")\n",
    "else:\n",
    "    print(\"cats.csv already downloaded.\")\n",
    "\n",
    "# construct category dataframe and array\n",
    "cats_df = pd.read_csv(\"data/cats.csv\")\n",
    "cats = np.asarray(cats_df['category'].values)\n",
    "\n",
    "pd.set_option('display.max_colwidth', 50)\n",
    "cats_df.head()"
   ]
  },
  {
   "cell_type": "markdown",
   "metadata": {},
   "source": [
    "Next up we load the data into a dataframe. This might take a little while."
   ]
  },
  {
   "cell_type": "code",
   "execution_count": 7,
   "metadata": {},
   "outputs": [],
   "source": [
    "def nan_if_empty(x):\n",
    "    ''' Converts empty lists/arrays to NaNs, making it easier to detect by pandas. '''\n",
    "    arr = np.asarray(x)\n",
    "    if arr.size == 0:\n",
    "        return np.nan\n",
    "    else:\n",
    "        return arr\n",
    "\n",
    "def remove_non_cats(x):\n",
    "    ''' Removes every string in x which does not occur in the list of arXiv categories. '''\n",
    "    return np.intersect1d(np.asarray(x), cats)\n",
    "\n",
    "def str_to_arr(x):\n",
    "    ''' Converts a string to a numpy array. '''\n",
    "    return np.asarray(re.sub('[\\' \\[\\]]', '', x).split(','))\n",
    "\n",
    "def clean_cats(x):\n",
    "    ''' Composition of nan_if_empty, remove_non_cats and str_to_arr. Used to clean scraped data. '''\n",
    "    return nan_if_empty(remove_non_cats(str_to_arr(x)))"
   ]
  },
  {
   "cell_type": "code",
   "execution_count": 8,
   "metadata": {},
   "outputs": [
    {
     "name": "stdout",
     "output_type": "stream",
     "text": [
      "Loaded metadata from 1000 papers. Here are some of them:\n"
     ]
    },
    {
     "data": {
      "text/html": [
       "<div>\n",
       "<style scoped>\n",
       "    .dataframe tbody tr th:only-of-type {\n",
       "        vertical-align: middle;\n",
       "    }\n",
       "\n",
       "    .dataframe tbody tr th {\n",
       "        vertical-align: top;\n",
       "    }\n",
       "\n",
       "    .dataframe thead th {\n",
       "        text-align: right;\n",
       "    }\n",
       "</style>\n",
       "<table border=\"1\" class=\"dataframe\">\n",
       "  <thead>\n",
       "    <tr style=\"text-align: right;\">\n",
       "      <th></th>\n",
       "      <th>title</th>\n",
       "      <th>abstract</th>\n",
       "      <th>category</th>\n",
       "    </tr>\n",
       "  </thead>\n",
       "  <tbody>\n",
       "    <tr>\n",
       "      <th>999</th>\n",
       "      <td>A Complete Enumeration and Classification of Two-Locus Disease Models</td>\n",
       "      <td>There are 512 two-locus, two-allele, two-phenotype, fully-penetrant disease\\nmodels. Using the permutation between two alleles, between two loci, and\\nbetween being affected and unaffected, one model can be considered to be\\nequivalent to another model under the corresponding permutation. Thes...</td>\n",
       "      <td>[nlin.AO, q-bio.PE]</td>\n",
       "    </tr>\n",
       "    <tr>\n",
       "      <th>978</th>\n",
       "      <td>Rapidly Rotating Bose-Einstein Condensates in Homogeneous Traps</td>\n",
       "      <td>We extend the results of a previous paper on the Gross-Pitaevskii description\\nof rotating Bose-Einstein condensates in two-dimensional traps to confining\\npotentials of the form V(r) = r^s, $2&lt;s &lt;\\infty$. Writing the coupling constant\\nas $1/\\epsilon^2$ we study the limit $\\epsilon \\to 0$. We...</td>\n",
       "      <td>[cond-mat.other, cond-mat.stat-mech, math-ph, math.MP]</td>\n",
       "    </tr>\n",
       "    <tr>\n",
       "      <th>920</th>\n",
       "      <td>Quantum transport in high-quality shallow InSb quantum wells</td>\n",
       "      <td>InSb is one of the promising candidates to realize a topological state\\nthrough proximity induced superconductivity in a material with strong\\nspin-orbit interactions. In two-dimensional systems, thin barriers are needed\\nto allow strong coupling between superconductors and semiconductors. How...</td>\n",
       "      <td>[cond-mat.mes-hall]</td>\n",
       "    </tr>\n",
       "  </tbody>\n",
       "</table>\n",
       "</div>"
      ],
      "text/plain": [
       "                                                                     title  \\\n",
       "999  A Complete Enumeration and Classification of Two-Locus Disease Models   \n",
       "978        Rapidly Rotating Bose-Einstein Condensates in Homogeneous Traps   \n",
       "920           Quantum transport in high-quality shallow InSb quantum wells   \n",
       "\n",
       "                                                                                                                                                                                                                                                                                                        abstract  \\\n",
       "999    There are 512 two-locus, two-allele, two-phenotype, fully-penetrant disease\\nmodels. Using the permutation between two alleles, between two loci, and\\nbetween being affected and unaffected, one model can be considered to be\\nequivalent to another model under the corresponding permutation. Thes...   \n",
       "978    We extend the results of a previous paper on the Gross-Pitaevskii description\\nof rotating Bose-Einstein condensates in two-dimensional traps to confining\\npotentials of the form V(r) = r^s, $2<s <\\infty$. Writing the coupling constant\\nas $1/\\epsilon^2$ we study the limit $\\epsilon \\to 0$. We...   \n",
       "920    InSb is one of the promising candidates to realize a topological state\\nthrough proximity induced superconductivity in a material with strong\\nspin-orbit interactions. In two-dimensional systems, thin barriers are needed\\nto allow strong coupling between superconductors and semiconductors. How...   \n",
       "\n",
       "                                                   category  \n",
       "999                                     [nlin.AO, q-bio.PE]  \n",
       "978  [cond-mat.other, cond-mat.stat-mech, math-ph, math.MP]  \n",
       "920                                     [cond-mat.mes-hall]  "
      ]
     },
     "execution_count": 8,
     "metadata": {},
     "output_type": "execute_result"
    }
   ],
   "source": [
    "# set up dataframe\n",
    "df = pd.read_csv(f'data/{file_name}.csv', converters={'category': clean_cats})[['title', 'abstract', 'category']]\n",
    "\n",
    "print(f\"Loaded metadata from {df.shape[0]} papers. Here are some of them:\")\n",
    "pd.set_option('display.max_colwidth', 300)\n",
    "df.sample(3)"
   ]
  },
  {
   "cell_type": "markdown",
   "metadata": {},
   "source": [
    "<h2> Cleaning the data </h2>"
   ]
  },
  {
   "cell_type": "markdown",
   "metadata": {},
   "source": [
    "We next do some basic cleaning of the data."
   ]
  },
  {
   "cell_type": "code",
   "execution_count": 9,
   "metadata": {
    "scrolled": true
   },
   "outputs": [
    {
     "data": {
      "text/html": [
       "<div>\n",
       "<style scoped>\n",
       "    .dataframe tbody tr th:only-of-type {\n",
       "        vertical-align: middle;\n",
       "    }\n",
       "\n",
       "    .dataframe tbody tr th {\n",
       "        vertical-align: top;\n",
       "    }\n",
       "\n",
       "    .dataframe thead th {\n",
       "        text-align: right;\n",
       "    }\n",
       "</style>\n",
       "<table border=\"1\" class=\"dataframe\">\n",
       "  <thead>\n",
       "    <tr style=\"text-align: right;\">\n",
       "      <th></th>\n",
       "      <th>title</th>\n",
       "      <th>abstract</th>\n",
       "      <th>clean_text</th>\n",
       "    </tr>\n",
       "  </thead>\n",
       "  <tbody>\n",
       "    <tr>\n",
       "      <th>428</th>\n",
       "      <td>Revisiting elliptical satellite orbits to enhance the O3b constellation</td>\n",
       "      <td>We propose an addition of known elliptical orbits to the new equatorial O3b\\nsatellite constellation, extending O3b to cover high latitudes and the Earth's\\npoles. We simulate the O3b constellation and compare this to recent measurement\\nof the first real Internet traffic across the newly depl...</td>\n",
       "      <td>revisiting elliptical satellite orbits to enhance the o b constellation we propose an addition of known elliptical orbits to the new equatorial o b satellite constellation, extending o b to cover high latitudes and the earth's poles. we simulate the o b constellation and compare this to recent m...</td>\n",
       "    </tr>\n",
       "    <tr>\n",
       "      <th>973</th>\n",
       "      <td>A Nekrasov-Okounkov formula for Macdonald polynomials</td>\n",
       "      <td>We prove a Macdonald polynomial analogue of the celebrated Nekrasov-Okounkov\\nhook-length formula from the theory of random partitions. As an application we\\nobtain a proof of one of the main conjectures of Hausel and Rodriguez-Villegas\\nfrom their work on mixed Hodge polynomials of the moduli...</td>\n",
       "      <td>a nekrasov-okounkov formula for macdonald polynomials we prove a macdonald polynomial analogue of the celebrated nekrasov-okounkov hook-length formula from the theory of random partitions. as an application we obtain a proof of one of the main conjectures of hausel and rodriguez-villegas from th...</td>\n",
       "    </tr>\n",
       "    <tr>\n",
       "      <th>945</th>\n",
       "      <td>Quantum hardware simulating four-dimensional inelastic neutron\\n  scattering</td>\n",
       "      <td>Finite-size spin systems could constitute key elements in future spintronics\\ndevices [1-5], long-lasting nano-scale memories [6] or scalable and\\nnoise-resilient quantum computing platforms [7-9]. They are also natural\\ntest-beds for investigating peculiar quantum phenomena [10]. Inelastic Ne...</td>\n",
       "      <td>quantum hardware simulating four-dimensional inelastic neutron scattering finite-size spin systems could constitute key elements in future spintronics devices [ - ], long-lasting nano-scale memories [ ] or scalable and noise-resilient quantum computing platforms [ - ]. they are also natural test...</td>\n",
       "    </tr>\n",
       "  </tbody>\n",
       "</table>\n",
       "</div>"
      ],
      "text/plain": [
       "                                                                            title  \\\n",
       "428       Revisiting elliptical satellite orbits to enhance the O3b constellation   \n",
       "973                         A Nekrasov-Okounkov formula for Macdonald polynomials   \n",
       "945  Quantum hardware simulating four-dimensional inelastic neutron\\n  scattering   \n",
       "\n",
       "                                                                                                                                                                                                                                                                                                        abstract  \\\n",
       "428    We propose an addition of known elliptical orbits to the new equatorial O3b\\nsatellite constellation, extending O3b to cover high latitudes and the Earth's\\npoles. We simulate the O3b constellation and compare this to recent measurement\\nof the first real Internet traffic across the newly depl...   \n",
       "973    We prove a Macdonald polynomial analogue of the celebrated Nekrasov-Okounkov\\nhook-length formula from the theory of random partitions. As an application we\\nobtain a proof of one of the main conjectures of Hausel and Rodriguez-Villegas\\nfrom their work on mixed Hodge polynomials of the moduli...   \n",
       "945    Finite-size spin systems could constitute key elements in future spintronics\\ndevices [1-5], long-lasting nano-scale memories [6] or scalable and\\nnoise-resilient quantum computing platforms [7-9]. They are also natural\\ntest-beds for investigating peculiar quantum phenomena [10]. Inelastic Ne...   \n",
       "\n",
       "                                                                                                                                                                                                                                                                                                      clean_text  \n",
       "428  revisiting elliptical satellite orbits to enhance the o b constellation we propose an addition of known elliptical orbits to the new equatorial o b satellite constellation, extending o b to cover high latitudes and the earth's poles. we simulate the o b constellation and compare this to recent m...  \n",
       "973  a nekrasov-okounkov formula for macdonald polynomials we prove a macdonald polynomial analogue of the celebrated nekrasov-okounkov hook-length formula from the theory of random partitions. as an application we obtain a proof of one of the main conjectures of hausel and rodriguez-villegas from th...  \n",
       "945  quantum hardware simulating four-dimensional inelastic neutron scattering finite-size spin systems could constitute key elements in future spintronics devices [ - ], long-lasting nano-scale memories [ ] or scalable and noise-resilient quantum computing platforms [ - ]. they are also natural test...  "
      ]
     },
     "execution_count": 9,
     "metadata": {},
     "output_type": "execute_result"
    }
   ],
   "source": [
    "df_clean = df.copy()\n",
    "\n",
    "# drop rows with NaNs\n",
    "df_clean.dropna(inplace=True)\n",
    "\n",
    "# merge title and abstract\n",
    "df_clean['clean_text'] = df_clean['title'] + ' ' + df_clean['abstract']\n",
    "\n",
    "# remove punctuation marks\n",
    "punctuation ='\\!\\\"\\#\\$\\%\\&\\(\\)\\*\\+\\-\\/\\:\\;\\<\\=\\>\\?\\@\\[\\\\\\]\\^\\_\\`\\{\\|\\}\\~'\n",
    "df_clean['clean_text'] = df_clean['clean_text'].apply(lambda x: re.sub(punctuation, '', x))\n",
    "\n",
    "# convert text to lowercase\n",
    "df_clean['clean_text'] = df_clean['clean_text'].str.lower()\n",
    "\n",
    "# remove numbers\n",
    "df_clean['clean_text'] = df_clean['clean_text'].str.replace(\"[0-9]\", \" \")\n",
    "\n",
    "# remove whitespaces\n",
    "df_clean['clean_text'] = df_clean['clean_text'].apply(lambda x:' '.join(x.split()))\n",
    "\n",
    "pd.set_option('display.max_colwidth', 300)\n",
    "df_clean[['title', 'abstract', 'clean_text']].sample(3)"
   ]
  },
  {
   "cell_type": "markdown",
   "metadata": {},
   "source": [
    "Our last text cleaning step is to lemmatise the text, which reduces all words to its base form. For instance, 'eating' is converted into 'eat' and 'better' is converted into 'good'. This usually takes a while to finish, so instead we're simply going to download a lemmatised version of your chosen data set. Alternatively, if you're dealing with your own scraped data set, you can uncomment the marked lines below."
   ]
  },
  {
   "cell_type": "code",
   "execution_count": 10,
   "metadata": {},
   "outputs": [],
   "source": [
    "def lemmatise(texts):\n",
    "    ''' Lemmatise an iterable of strings. '''\n",
    "    \n",
    "    # import spacy's language model\n",
    "    try:\n",
    "        nlp = sp.load('en', disable=['parser', 'ner'])\n",
    "    except:\n",
    "        os.system(\"python -m spacy download en --user\")\n",
    "        nlp = sp.load('en', disable=['parser', 'ner']) \n",
    "\n",
    "    return np.asarray([' '.join(np.asarray([token.lemma_ for token in nlp(text)])) for text in texts])"
   ]
  },
  {
   "cell_type": "code",
   "execution_count": 11,
   "metadata": {
    "scrolled": true
   },
   "outputs": [
    {
     "name": "stdout",
     "output_type": "stream",
     "text": [
      "Loaded lemmatised data from data/arxiv_sample_1000_clean.csv.\n"
     ]
    },
    {
     "data": {
      "text/html": [
       "<div>\n",
       "<style scoped>\n",
       "    .dataframe tbody tr th:only-of-type {\n",
       "        vertical-align: middle;\n",
       "    }\n",
       "\n",
       "    .dataframe tbody tr th {\n",
       "        vertical-align: top;\n",
       "    }\n",
       "\n",
       "    .dataframe thead th {\n",
       "        text-align: right;\n",
       "    }\n",
       "</style>\n",
       "<table border=\"1\" class=\"dataframe\">\n",
       "  <thead>\n",
       "    <tr style=\"text-align: right;\">\n",
       "      <th></th>\n",
       "      <th>title</th>\n",
       "      <th>abstract</th>\n",
       "      <th>category</th>\n",
       "      <th>clean_text</th>\n",
       "    </tr>\n",
       "  </thead>\n",
       "  <tbody>\n",
       "    <tr>\n",
       "      <th>367</th>\n",
       "      <td>First-principles study of the inversion thermodynamics and electronic\\n  structure of Fe$M_2X_4$ (thio)spinels ($M=$ Cr, Mn, Co, Ni; $X=$ O, S)</td>\n",
       "      <td>Fe$M_2X_4$ spinels, where $M$ is a transition metal and $X$ is oxygen or\\nsulfur, are candidate materials for spin filters, one of the key devices in\\nspintronics. We present here a computational study of the inversion\\nthermodynamics and the electronic structure of these (thio)spinels for $M=...</td>\n",
       "      <td>[cond-mat.mtrl-sci, cond-mat.str-el, physics.chem-ph, physics.comp-ph]</td>\n",
       "      <td>first-principles study of the inversion thermodynamics and electronic structure of fe$m_ x_ $ (thio)spinels ($m=$ cr, mn, co, ni; $x=$ o, s) fe$m_ x_ $ spinels, where $m$ is a transition metal and $x$ is oxygen or sulfur, are candidate materials for spin filters, one of the key devices in spintr...</td>\n",
       "    </tr>\n",
       "    <tr>\n",
       "      <th>832</th>\n",
       "      <td>Parameter estimation for a subcritical affine two factor model</td>\n",
       "      <td>For an affine two factor model, we study the asymptotic properties of the\\nmaximum likelihood and least squares estimators of some appearing parameters in\\nthe so-called subcritical (ergodic) case based on continuous time observations.\\nWe prove strong consistency and asymptotic normality of t...</td>\n",
       "      <td>[math.ST, q-fin.ST, stat.TH]</td>\n",
       "      <td>parameter estimation for a subcritical affine two factor model for an affine two factor model, we study the asymptotic properties of the maximum likelihood and least squares estimators of some appearing parameters in the so-called subcritical (ergodic) case based on continuous time observations....</td>\n",
       "    </tr>\n",
       "    <tr>\n",
       "      <th>174</th>\n",
       "      <td>Optimization of linear and nonlinear interaction schemes for stable\\n  synchronization of weakly coupled limit-cycle oscillators</td>\n",
       "      <td>Optimization of mutual synchronization between a pair of limit-cycle\\noscillators with weak symmetric coupling is considered in the framework of the\\nphase reduction theory. By generalizing a previous study on the optimization of\\ncross-diffusion coupling matrices between the oscillators, we c...</td>\n",
       "      <td>[nlin.AO]</td>\n",
       "      <td>optimization of linear and nonlinear interaction schemes for stable synchronization of weakly coupled limit-cycle oscillators optimization of mutual synchronization between a pair of limit-cycle oscillators with weak symmetric coupling is considered in the framework of the phase reduction theory...</td>\n",
       "    </tr>\n",
       "  </tbody>\n",
       "</table>\n",
       "</div>"
      ],
      "text/plain": [
       "                                                                                                                                               title  \\\n",
       "367  First-principles study of the inversion thermodynamics and electronic\\n  structure of Fe$M_2X_4$ (thio)spinels ($M=$ Cr, Mn, Co, Ni; $X=$ O, S)   \n",
       "832                                                                                   Parameter estimation for a subcritical affine two factor model   \n",
       "174                 Optimization of linear and nonlinear interaction schemes for stable\\n  synchronization of weakly coupled limit-cycle oscillators   \n",
       "\n",
       "                                                                                                                                                                                                                                                                                                        abstract  \\\n",
       "367    Fe$M_2X_4$ spinels, where $M$ is a transition metal and $X$ is oxygen or\\nsulfur, are candidate materials for spin filters, one of the key devices in\\nspintronics. We present here a computational study of the inversion\\nthermodynamics and the electronic structure of these (thio)spinels for $M=...   \n",
       "832    For an affine two factor model, we study the asymptotic properties of the\\nmaximum likelihood and least squares estimators of some appearing parameters in\\nthe so-called subcritical (ergodic) case based on continuous time observations.\\nWe prove strong consistency and asymptotic normality of t...   \n",
       "174    Optimization of mutual synchronization between a pair of limit-cycle\\noscillators with weak symmetric coupling is considered in the framework of the\\nphase reduction theory. By generalizing a previous study on the optimization of\\ncross-diffusion coupling matrices between the oscillators, we c...   \n",
       "\n",
       "                                                                   category  \\\n",
       "367  [cond-mat.mtrl-sci, cond-mat.str-el, physics.chem-ph, physics.comp-ph]   \n",
       "832                                            [math.ST, q-fin.ST, stat.TH]   \n",
       "174                                                               [nlin.AO]   \n",
       "\n",
       "                                                                                                                                                                                                                                                                                                      clean_text  \n",
       "367  first-principles study of the inversion thermodynamics and electronic structure of fe$m_ x_ $ (thio)spinels ($m=$ cr, mn, co, ni; $x=$ o, s) fe$m_ x_ $ spinels, where $m$ is a transition metal and $x$ is oxygen or sulfur, are candidate materials for spin filters, one of the key devices in spintr...  \n",
       "832  parameter estimation for a subcritical affine two factor model for an affine two factor model, we study the asymptotic properties of the maximum likelihood and least squares estimators of some appearing parameters in the so-called subcritical (ergodic) case based on continuous time observations....  \n",
       "174  optimization of linear and nonlinear interaction schemes for stable synchronization of weakly coupled limit-cycle oscillators optimization of mutual synchronization between a pair of limit-cycle oscillators with weak symmetric coupling is considered in the framework of the phase reduction theory...  "
      ]
     },
     "execution_count": 11,
     "metadata": {},
     "output_type": "execute_result"
    }
   ],
   "source": [
    "df_lemm = df_clean.copy()\n",
    "\n",
    "if not os.path.isfile(f\"data/{file_name}_clean.csv\"):\n",
    "    \n",
    "    #  uncomment if you want to do it the hard way, or if you're dealing with your own data set\n",
    "    #df_lemm['clean_text'] = lemmatise(df_lemm['clean_text'])\n",
    "    #df_lemm.to_csv(f\"data/{file_name}_clean.csv\")\n",
    "    #print(f\"Finished lemmatising, and also saved lemmatised dataframe to data/{file_name}_clean.csv.\")\n",
    "    \n",
    "    # download lemmatised dataframe\n",
    "    print(f\"Downloading {file_name}_clean.csv...\", end = \" \")\n",
    "    wget.download(url_start + f\"{file_name}_clean.csv\", out = f\"data/{file_name}_clean.csv\")\n",
    "    print(\"Done!\")\n",
    "    \n",
    "# load lemmatised dataframe\n",
    "df_clean['clean_text'] = pd.read_csv(f\"data/{file_name}_clean.csv\")\n",
    "print(f\"Loaded lemmatised data from data/{file_name}_clean.csv.\")\n",
    "\n",
    "pd.set_option('display.max_colwidth', 300)\n",
    "df_lemm.sample(3)"
   ]
  },
  {
   "cell_type": "markdown",
   "metadata": {},
   "source": [
    "## One-hot encoding of categories"
   ]
  },
  {
   "cell_type": "markdown",
   "metadata": {},
   "source": [
    "We then perform a one hot encoding for the category variable, as this will make training our model easier. We do this by first creating a dataframe with columns the categories and binary values for every paper, and then concatenate our original dataframe with the binary values."
   ]
  },
  {
   "cell_type": "code",
   "execution_count": 12,
   "metadata": {
    "scrolled": true
   },
   "outputs": [
    {
     "name": "stdout",
     "output_type": "stream",
     "text": [
      "One-hot encoding... Done!\n",
      "Dimensions of df_1hot: (1000, 156).\n"
     ]
    },
    {
     "data": {
      "text/html": [
       "<div>\n",
       "<style scoped>\n",
       "    .dataframe tbody tr th:only-of-type {\n",
       "        vertical-align: middle;\n",
       "    }\n",
       "\n",
       "    .dataframe tbody tr th {\n",
       "        vertical-align: top;\n",
       "    }\n",
       "\n",
       "    .dataframe thead th {\n",
       "        text-align: right;\n",
       "    }\n",
       "</style>\n",
       "<table border=\"1\" class=\"dataframe\">\n",
       "  <thead>\n",
       "    <tr style=\"text-align: right;\">\n",
       "      <th></th>\n",
       "      <th>title</th>\n",
       "      <th>abstract</th>\n",
       "      <th>clean_text</th>\n",
       "      <th>astro-ph</th>\n",
       "      <th>astro-ph.CO</th>\n",
       "      <th>astro-ph.EP</th>\n",
       "      <th>astro-ph.GA</th>\n",
       "      <th>astro-ph.HE</th>\n",
       "      <th>astro-ph.IM</th>\n",
       "      <th>astro-ph.SR</th>\n",
       "      <th>...</th>\n",
       "      <th>q-fin.RM</th>\n",
       "      <th>q-fin.ST</th>\n",
       "      <th>q-fin.TR</th>\n",
       "      <th>quant-ph</th>\n",
       "      <th>stat.AP</th>\n",
       "      <th>stat.CO</th>\n",
       "      <th>stat.ME</th>\n",
       "      <th>stat.ML</th>\n",
       "      <th>stat.OT</th>\n",
       "      <th>stat.TH</th>\n",
       "    </tr>\n",
       "  </thead>\n",
       "  <tbody>\n",
       "    <tr>\n",
       "      <th>0</th>\n",
       "      <td>On inv...</td>\n",
       "      <td>In t...</td>\n",
       "      <td>1</td>\n",
       "      <td>0</td>\n",
       "      <td>0</td>\n",
       "      <td>0</td>\n",
       "      <td>0</td>\n",
       "      <td>0</td>\n",
       "      <td>0</td>\n",
       "      <td>0</td>\n",
       "      <td>...</td>\n",
       "      <td>0</td>\n",
       "      <td>0</td>\n",
       "      <td>0</td>\n",
       "      <td>0</td>\n",
       "      <td>0</td>\n",
       "      <td>0</td>\n",
       "      <td>0</td>\n",
       "      <td>0</td>\n",
       "      <td>0</td>\n",
       "      <td>0</td>\n",
       "    </tr>\n",
       "    <tr>\n",
       "      <th>1</th>\n",
       "      <td>On a p...</td>\n",
       "      <td>A th...</td>\n",
       "      <td>2</td>\n",
       "      <td>0</td>\n",
       "      <td>0</td>\n",
       "      <td>0</td>\n",
       "      <td>0</td>\n",
       "      <td>0</td>\n",
       "      <td>0</td>\n",
       "      <td>0</td>\n",
       "      <td>...</td>\n",
       "      <td>0</td>\n",
       "      <td>0</td>\n",
       "      <td>0</td>\n",
       "      <td>0</td>\n",
       "      <td>0</td>\n",
       "      <td>0</td>\n",
       "      <td>0</td>\n",
       "      <td>0</td>\n",
       "      <td>0</td>\n",
       "      <td>0</td>\n",
       "    </tr>\n",
       "    <tr>\n",
       "      <th>2</th>\n",
       "      <td>Restri...</td>\n",
       "      <td>In t...</td>\n",
       "      <td>3</td>\n",
       "      <td>0</td>\n",
       "      <td>0</td>\n",
       "      <td>0</td>\n",
       "      <td>0</td>\n",
       "      <td>0</td>\n",
       "      <td>0</td>\n",
       "      <td>0</td>\n",
       "      <td>...</td>\n",
       "      <td>0</td>\n",
       "      <td>0</td>\n",
       "      <td>0</td>\n",
       "      <td>0</td>\n",
       "      <td>0</td>\n",
       "      <td>0</td>\n",
       "      <td>0</td>\n",
       "      <td>0</td>\n",
       "      <td>0</td>\n",
       "      <td>0</td>\n",
       "    </tr>\n",
       "    <tr>\n",
       "      <th>3</th>\n",
       "      <td>Counti...</td>\n",
       "      <td>We c...</td>\n",
       "      <td>4</td>\n",
       "      <td>0</td>\n",
       "      <td>0</td>\n",
       "      <td>0</td>\n",
       "      <td>0</td>\n",
       "      <td>0</td>\n",
       "      <td>0</td>\n",
       "      <td>0</td>\n",
       "      <td>...</td>\n",
       "      <td>0</td>\n",
       "      <td>0</td>\n",
       "      <td>0</td>\n",
       "      <td>0</td>\n",
       "      <td>0</td>\n",
       "      <td>0</td>\n",
       "      <td>0</td>\n",
       "      <td>0</td>\n",
       "      <td>0</td>\n",
       "      <td>0</td>\n",
       "    </tr>\n",
       "    <tr>\n",
       "      <th>4</th>\n",
       "      <td>Curren...</td>\n",
       "      <td>We p...</td>\n",
       "      <td>5</td>\n",
       "      <td>0</td>\n",
       "      <td>0</td>\n",
       "      <td>0</td>\n",
       "      <td>0</td>\n",
       "      <td>0</td>\n",
       "      <td>0</td>\n",
       "      <td>0</td>\n",
       "      <td>...</td>\n",
       "      <td>0</td>\n",
       "      <td>0</td>\n",
       "      <td>0</td>\n",
       "      <td>0</td>\n",
       "      <td>0</td>\n",
       "      <td>0</td>\n",
       "      <td>0</td>\n",
       "      <td>0</td>\n",
       "      <td>0</td>\n",
       "      <td>0</td>\n",
       "    </tr>\n",
       "  </tbody>\n",
       "</table>\n",
       "<p>5 rows × 156 columns</p>\n",
       "</div>"
      ],
      "text/plain": [
       "       title   abstract clean_text  astro-ph  astro-ph.CO  astro-ph.EP  \\\n",
       "0  On inv...    In t...          1         0          0            0     \n",
       "1  On a p...    A th...          2         0          0            0     \n",
       "2  Restri...    In t...          3         0          0            0     \n",
       "3  Counti...    We c...          4         0          0            0     \n",
       "4  Curren...    We p...          5         0          0            0     \n",
       "\n",
       "   astro-ph.GA  astro-ph.HE  astro-ph.IM  astro-ph.SR  ...  q-fin.RM  \\\n",
       "0          0            0            0            0    ...         0   \n",
       "1          0            0            0            0    ...         0   \n",
       "2          0            0            0            0    ...         0   \n",
       "3          0            0            0            0    ...         0   \n",
       "4          0            0            0            0    ...         0   \n",
       "\n",
       "   q-fin.ST  q-fin.TR  quant-ph  stat.AP  stat.CO  stat.ME  stat.ML  stat.OT  \\\n",
       "0         0         0         0        0        0        0        0        0   \n",
       "1         0         0         0        0        0        0        0        0   \n",
       "2         0         0         0        0        0        0        0        0   \n",
       "3         0         0         0        0        0        0        0        0   \n",
       "4         0         0         0        0        0        0        0        0   \n",
       "\n",
       "   stat.TH  \n",
       "0        0  \n",
       "1        0  \n",
       "2        0  \n",
       "3        0  \n",
       "4        0  \n",
       "\n",
       "[5 rows x 156 columns]"
      ]
     },
     "execution_count": 12,
     "metadata": {},
     "output_type": "execute_result"
    }
   ],
   "source": [
    "def cats_to_binary(categories):\n",
    "    '''\n",
    "    Turns categories into a 0-1 sequence with 1's at every category index.\n",
    "    \n",
    "    INPUT\n",
    "        categories, an iterable of strings\n",
    "    \n",
    "    OUTPUT\n",
    "        numpy array with 1 at the category indexes and zeros everywhere else\n",
    "    '''\n",
    "    return np.in1d(cats, categories).astype('int8')\n",
    "\n",
    "print(\"One-hot encoding...\", end = \" \")\n",
    "\n",
    "df_1hot = df_clean.copy()\n",
    "\n",
    "# populate cats_df with the information from df\n",
    "bincat_arr = np.array([cats_to_binary(cat_list) for cat_list in df_1hot['category']]).transpose()\n",
    "bincat_dict = {key:value for (key,value) in zip(cats, bincat_arr)}\n",
    "bincat_df = pd.DataFrame.from_dict(bincat_dict)\n",
    "\n",
    "# concatenate df with the columns in cats_df\n",
    "df_1hot = pd.concat([df_1hot, bincat_df], axis=1, sort=False)\n",
    "\n",
    "# drop the category column\n",
    "df_1hot.drop(['category'], axis=1, inplace=True)\n",
    "\n",
    "print(\"Done!\")\n",
    "\n",
    "# show the new columns of the data frame\n",
    "pd.set_option('display.max_colwidth', 10)\n",
    "print(f\"Dimensions of df_1hot: {df_1hot.shape}.\")\n",
    "df_1hot.head()"
   ]
  },
  {
   "cell_type": "markdown",
   "metadata": {},
   "source": [
    "<h2> Analysis of the data </h2>"
   ]
  },
  {
   "cell_type": "markdown",
   "metadata": {},
   "source": [
    "Here is how the categories in our data set are distributed."
   ]
  },
  {
   "cell_type": "code",
   "execution_count": 13,
   "metadata": {
    "scrolled": true
   },
   "outputs": [
    {
     "data": {
      "text/plain": [
       "count    153.00...\n",
       "mean     14.450980\n",
       "std      11.656792\n",
       "min       0.000000\n",
       "25%       5.000000\n",
       "50%      12.000000\n",
       "75%      20.000000\n",
       "max      55.000000\n",
       "dtype: float64"
      ]
     },
     "execution_count": 13,
     "metadata": {},
     "output_type": "execute_result"
    }
   ],
   "source": [
    "# save a dataframe with the amount of papers in each category\n",
    "sum_cats = bincat_df.apply(lambda x: x.sum())\n",
    "\n",
    "# get statistical information about the distribution of the amount of papers\n",
    "sum_cats.describe()"
   ]
  },
  {
   "cell_type": "code",
   "execution_count": 14,
   "metadata": {
    "scrolled": false
   },
   "outputs": [
    {
     "data": {
      "image/png": "[encoded data removed]",
      "text/plain": [
       "<Figure size 1440x720 with 1 Axes>"
      ]
     },
     "metadata": {
      "needs_background": "light"
     },
     "output_type": "display_data"
    }
   ],
   "source": [
    "# plot the distribution of the amount of papers in each category\n",
    "plt.figure(figsize=(20,10))\n",
    "plt.bar(x=sum_cats.keys(), height=sum_cats.values)\n",
    "plt.xlabel('Categories', fontsize=13)\n",
    "plt.ylabel('Number of papers', fontsize=13)\n",
    "plt.title('Distribution of categories in data set', fontsize=18)\n",
    "plt.xticks([])\n",
    "plt.show()"
   ]
  },
  {
   "cell_type": "markdown",
   "metadata": {},
   "source": [
    "We see that our data is not particularly uniformly distributed. These are the categories with the most amount of papers in the data set."
   ]
  },
  {
   "cell_type": "code",
   "execution_count": 15,
   "metadata": {},
   "outputs": [
    {
     "data": {
      "text/html": [
       "<div>\n",
       "<style scoped>\n",
       "    .dataframe tbody tr th:only-of-type {\n",
       "        vertical-align: middle;\n",
       "    }\n",
       "\n",
       "    .dataframe tbody tr th {\n",
       "        vertical-align: top;\n",
       "    }\n",
       "\n",
       "    .dataframe thead th {\n",
       "        text-align: right;\n",
       "    }\n",
       "</style>\n",
       "<table border=\"1\" class=\"dataframe\">\n",
       "  <thead>\n",
       "    <tr style=\"text-align: right;\">\n",
       "      <th></th>\n",
       "      <th>category</th>\n",
       "      <th>description</th>\n",
       "      <th>count</th>\n",
       "    </tr>\n",
       "  </thead>\n",
       "  <tbody>\n",
       "    <tr>\n",
       "      <th>85</th>\n",
       "      <td>math.MP</td>\n",
       "      <td>Mathematical Physics</td>\n",
       "      <td>55</td>\n",
       "    </tr>\n",
       "    <tr>\n",
       "      <th>97</th>\n",
       "      <td>math-ph</td>\n",
       "      <td>Mathematical Physics</td>\n",
       "      <td>55</td>\n",
       "    </tr>\n",
       "    <tr>\n",
       "      <th>146</th>\n",
       "      <td>quant-ph</td>\n",
       "      <td>Quantum Physics</td>\n",
       "      <td>52</td>\n",
       "    </tr>\n",
       "    <tr>\n",
       "      <th>63</th>\n",
       "      <td>hep-ph</td>\n",
       "      <td>High Energy Physics - Phenomenology</td>\n",
       "      <td>51</td>\n",
       "    </tr>\n",
       "    <tr>\n",
       "      <th>38</th>\n",
       "      <td>cs.LG</td>\n",
       "      <td>Learning</td>\n",
       "      <td>49</td>\n",
       "    </tr>\n",
       "  </tbody>\n",
       "</table>\n",
       "</div>"
      ],
      "text/plain": [
       "     category                          description  count\n",
       "85    math.MP                 Mathematical Physics     55\n",
       "97    math-ph                 Mathematical Physics     55\n",
       "146  quant-ph                      Quantum Physics     52\n",
       "63     hep-ph  High Energy Physics - Phenomenology     51\n",
       "38      cs.LG                             Learning     49"
      ]
     },
     "execution_count": 15,
     "metadata": {},
     "output_type": "execute_result"
    }
   ],
   "source": [
    "# add the counts to the dataframe and sort \n",
    "cats_df['count'] = sum_cats.values\n",
    "cats_df = cats_df.sort_values(by=['count'], ascending=False)\n",
    "\n",
    "pd.set_option('display.max_colwidth', 50)\n",
    "cats_df.head()"
   ]
  },
  {
   "cell_type": "markdown",
   "metadata": {},
   "source": [
    "<h2> ELMo feature extraction </h2>"
   ]
  },
  {
   "cell_type": "markdown",
   "metadata": {},
   "source": [
    "To build our model we have to extract features from the titles and abstracts. We will be using ELMo, a state-of-the-art NLP framework developed by AllenNLP, which converts text input into vectors, with similar words being closer to each other. We will need the following extra packages."
   ]
  },
  {
   "cell_type": "markdown",
   "metadata": {},
   "source": [
    "Next, we download the ELMo model. It is over 350mb in size, so it might take a little while."
   ]
  },
  {
   "cell_type": "code",
   "execution_count": 16,
   "metadata": {},
   "outputs": [
    {
     "name": "stdout",
     "output_type": "stream",
     "text": [
      "The 'elmo' directory already exists, so assuming that the model has been downloaded.\n"
     ]
    }
   ],
   "source": [
    "if not os.path.isdir(\"elmo\"):\n",
    "    # download ELMo model\n",
    "    print(\"Downloading compressed ELMo model...\", end = \" \")\n",
    "    url = \"https://tfhub.dev/google/elmo/2?tf-hub-format=compressed\"\n",
    "    wget.download(url, out=\"elmo.tar.gz\")\n",
    "    print(\"Done!\")\n",
    "\n",
    "    # uncompress ELMo model\n",
    "    print(\"Uncompressing into the 'elmo' directory...\", end = \" \")\n",
    "    os.system(\"mkdir elmo\") # create directory\n",
    "    with tarfile.open(\"elmo.tar.gz\") as tar:\n",
    "        tar.extractall(\"elmo\")\n",
    "    os.remove(\"elmo.tar.gz\")\n",
    "    print(\"Done!\")\n",
    "else:\n",
    "    print(\"The 'elmo' directory already exists, so assuming that the model has been downloaded.\")"
   ]
  },
  {
   "cell_type": "markdown",
   "metadata": {},
   "source": [
    "We now need to extract ELMo features from our cleaned text data. This is done using the `extract` function from `elmo.py`. This usually takes a LONG time."
   ]
  },
  {
   "cell_type": "code",
   "execution_count": 17,
   "metadata": {
    "scrolled": true
   },
   "outputs": [
    {
     "name": "stderr",
     "output_type": "stream",
     "text": [
      "WARNING: Logging before flag parsing goes to stderr.\n",
      "W0601 19:37:23.960631 139786319603520 __init__.py:56] Some hub symbols are not available because TensorFlow version is less than 1.14\n"
     ]
    },
    {
     "name": "stdout",
     "output_type": "stream",
     "text": [
      "ELMo data loaded from data/arxiv_sample_1000_elmo.pickle.\n",
      "Dimensions of elmo_data: (989, 1024)\n",
      "Dimensions of df_elmo: (989, 1177)\n"
     ]
    },
    {
     "data": {
      "text/html": [
       "<div>\n",
       "<style scoped>\n",
       "    .dataframe tbody tr th:only-of-type {\n",
       "        vertical-align: middle;\n",
       "    }\n",
       "\n",
       "    .dataframe tbody tr th {\n",
       "        vertical-align: top;\n",
       "    }\n",
       "\n",
       "    .dataframe thead th {\n",
       "        text-align: right;\n",
       "    }\n",
       "</style>\n",
       "<table border=\"1\" class=\"dataframe\">\n",
       "  <thead>\n",
       "    <tr style=\"text-align: right;\">\n",
       "      <th></th>\n",
       "      <th>0</th>\n",
       "      <th>1</th>\n",
       "      <th>2</th>\n",
       "      <th>3</th>\n",
       "      <th>4</th>\n",
       "      <th>5</th>\n",
       "      <th>6</th>\n",
       "      <th>7</th>\n",
       "      <th>8</th>\n",
       "      <th>9</th>\n",
       "      <th>...</th>\n",
       "      <th>q-fin.RM</th>\n",
       "      <th>q-fin.ST</th>\n",
       "      <th>q-fin.TR</th>\n",
       "      <th>quant-ph</th>\n",
       "      <th>stat.AP</th>\n",
       "      <th>stat.CO</th>\n",
       "      <th>stat.ME</th>\n",
       "      <th>stat.ML</th>\n",
       "      <th>stat.OT</th>\n",
       "      <th>stat.TH</th>\n",
       "    </tr>\n",
       "  </thead>\n",
       "  <tbody>\n",
       "    <tr>\n",
       "      <th>0</th>\n",
       "      <td>0.010670</td>\n",
       "      <td>0.036672</td>\n",
       "      <td>0.012926</td>\n",
       "      <td>-0.032160</td>\n",
       "      <td>0.034860</td>\n",
       "      <td>0.032115</td>\n",
       "      <td>-0.036730</td>\n",
       "      <td>0.194203</td>\n",
       "      <td>0.022366</td>\n",
       "      <td>-0.146691</td>\n",
       "      <td>...</td>\n",
       "      <td>0</td>\n",
       "      <td>0</td>\n",
       "      <td>0</td>\n",
       "      <td>0</td>\n",
       "      <td>0</td>\n",
       "      <td>0</td>\n",
       "      <td>0</td>\n",
       "      <td>0</td>\n",
       "      <td>0</td>\n",
       "      <td>0</td>\n",
       "    </tr>\n",
       "    <tr>\n",
       "      <th>1</th>\n",
       "      <td>0.068165</td>\n",
       "      <td>0.125065</td>\n",
       "      <td>0.061963</td>\n",
       "      <td>-0.089762</td>\n",
       "      <td>0.018734</td>\n",
       "      <td>-0.072867</td>\n",
       "      <td>-0.000450</td>\n",
       "      <td>0.247011</td>\n",
       "      <td>0.005538</td>\n",
       "      <td>-0.183312</td>\n",
       "      <td>...</td>\n",
       "      <td>0</td>\n",
       "      <td>0</td>\n",
       "      <td>0</td>\n",
       "      <td>0</td>\n",
       "      <td>0</td>\n",
       "      <td>0</td>\n",
       "      <td>0</td>\n",
       "      <td>0</td>\n",
       "      <td>0</td>\n",
       "      <td>0</td>\n",
       "    </tr>\n",
       "    <tr>\n",
       "      <th>2</th>\n",
       "      <td>-0.017157</td>\n",
       "      <td>0.089970</td>\n",
       "      <td>-0.017110</td>\n",
       "      <td>0.020730</td>\n",
       "      <td>0.048162</td>\n",
       "      <td>-0.075034</td>\n",
       "      <td>-0.031217</td>\n",
       "      <td>0.063156</td>\n",
       "      <td>0.081665</td>\n",
       "      <td>-0.158918</td>\n",
       "      <td>...</td>\n",
       "      <td>0</td>\n",
       "      <td>0</td>\n",
       "      <td>0</td>\n",
       "      <td>0</td>\n",
       "      <td>0</td>\n",
       "      <td>0</td>\n",
       "      <td>0</td>\n",
       "      <td>0</td>\n",
       "      <td>0</td>\n",
       "      <td>0</td>\n",
       "    </tr>\n",
       "    <tr>\n",
       "      <th>3</th>\n",
       "      <td>0.185463</td>\n",
       "      <td>0.190429</td>\n",
       "      <td>-0.036074</td>\n",
       "      <td>-0.009252</td>\n",
       "      <td>0.125236</td>\n",
       "      <td>0.010753</td>\n",
       "      <td>-0.098363</td>\n",
       "      <td>0.250005</td>\n",
       "      <td>0.133494</td>\n",
       "      <td>-0.167484</td>\n",
       "      <td>...</td>\n",
       "      <td>0</td>\n",
       "      <td>0</td>\n",
       "      <td>0</td>\n",
       "      <td>0</td>\n",
       "      <td>0</td>\n",
       "      <td>0</td>\n",
       "      <td>0</td>\n",
       "      <td>0</td>\n",
       "      <td>0</td>\n",
       "      <td>0</td>\n",
       "    </tr>\n",
       "    <tr>\n",
       "      <th>4</th>\n",
       "      <td>0.009185</td>\n",
       "      <td>-0.001601</td>\n",
       "      <td>0.014676</td>\n",
       "      <td>-0.009795</td>\n",
       "      <td>0.012431</td>\n",
       "      <td>-0.048619</td>\n",
       "      <td>-0.014964</td>\n",
       "      <td>0.011422</td>\n",
       "      <td>-0.033436</td>\n",
       "      <td>-0.129378</td>\n",
       "      <td>...</td>\n",
       "      <td>0</td>\n",
       "      <td>0</td>\n",
       "      <td>0</td>\n",
       "      <td>0</td>\n",
       "      <td>0</td>\n",
       "      <td>0</td>\n",
       "      <td>0</td>\n",
       "      <td>0</td>\n",
       "      <td>0</td>\n",
       "      <td>0</td>\n",
       "    </tr>\n",
       "  </tbody>\n",
       "</table>\n",
       "<p>5 rows × 1177 columns</p>\n",
       "</div>"
      ],
      "text/plain": [
       "          0         1         2         3         4         5         6  \\\n",
       "0  0.010670  0.036672  0.012926 -0.032160  0.034860  0.032115 -0.036730   \n",
       "1  0.068165  0.125065  0.061963 -0.089762  0.018734 -0.072867 -0.000450   \n",
       "2 -0.017157  0.089970 -0.017110  0.020730  0.048162 -0.075034 -0.031217   \n",
       "3  0.185463  0.190429 -0.036074 -0.009252  0.125236  0.010753 -0.098363   \n",
       "4  0.009185 -0.001601  0.014676 -0.009795  0.012431 -0.048619 -0.014964   \n",
       "\n",
       "          7         8         9  ...  q-fin.RM  q-fin.ST  q-fin.TR  quant-ph  \\\n",
       "0  0.194203  0.022366 -0.146691  ...         0         0         0         0   \n",
       "1  0.247011  0.005538 -0.183312  ...         0         0         0         0   \n",
       "2  0.063156  0.081665 -0.158918  ...         0         0         0         0   \n",
       "3  0.250005  0.133494 -0.167484  ...         0         0         0         0   \n",
       "4  0.011422 -0.033436 -0.129378  ...         0         0         0         0   \n",
       "\n",
       "   stat.AP  stat.CO  stat.ME  stat.ML  stat.OT  stat.TH  \n",
       "0        0        0        0        0        0        0  \n",
       "1        0        0        0        0        0        0  \n",
       "2        0        0        0        0        0        0  \n",
       "3        0        0        0        0        0        0  \n",
       "4        0        0        0        0        0        0  \n",
       "\n",
       "[5 rows x 1177 columns]"
      ]
     },
     "execution_count": 17,
     "metadata": {},
     "output_type": "execute_result"
    }
   ],
   "source": [
    "from elmo import extract\n",
    "\n",
    "if not os.path.isfile(f\"data/{file_name}_elmo.pickle\"):\n",
    "    # extract ELMo data\n",
    "    elmo_data = extract(\n",
    "        df_1hot['clean_text'], \n",
    "        batch_size = 10 # lower batch size gives less accurate vectors but requires less RAM\n",
    "    )\n",
    "\n",
    "    # save ELMo data\n",
    "    with open(f\"data/{file_name}_elmo.pickle\", \"wb\") as pickle_out:\n",
    "        pickle.dump(elmo_data, pickle_out)\n",
    "\n",
    "    print(f\"ELMo extraction completed. Also saved elmo data to data/{file_name}.elmo.pickle.\")\n",
    "else:\n",
    "    # load ELMo data\n",
    "    with open(f\"data/{file_name}_elmo.pickle\", \"rb\") as pickle_in:\n",
    "        elmo_data = pickle.load(pickle_in)\n",
    "\n",
    "    print(f\"ELMo data loaded from data/{file_name}_elmo.pickle.\")\n",
    "\n",
    "print(f\"Dimensions of elmo_data: {elmo_data.shape}\")\n",
    "\n",
    "df_elmo = pd.DataFrame(elmo_data)\n",
    "df_elmo = df_elmo.join(pd.DataFrame(df_1hot.drop(columns=['title', 'abstract', 'clean_text'])))\n",
    "\n",
    "print(f\"Dimensions of df_elmo: {df_elmo.shape}\")\n",
    "\n",
    "df_elmo.head()"
   ]
  },
  {
   "cell_type": "code",
   "execution_count": 85,
   "metadata": {},
   "outputs": [],
   "source": [
    "from sklearn.decomposition import PCA\n",
    "import seaborn as sns"
   ]
  },
  {
   "cell_type": "code",
   "execution_count": 112,
   "metadata": {},
   "outputs": [
    {
     "data": {
      "text/plain": [
       "<matplotlib.axes._subplots.AxesSubplot at 0x7f21ea7dc588>"
      ]
     },
     "execution_count": 112,
     "metadata": {},
     "output_type": "execute_result"
    },
    {
     "data": {
      "image/png": "[encoded data removed]",
      "text/plain": [
       "<Figure size 1440x936 with 1 Axes>"
      ]
     },
     "metadata": {
      "needs_background": "light"
     },
     "output_type": "display_data"
    }
   ],
   "source": [
    "pca = PCA(n_components = 2)\n",
    "X_2d = pca.fit_transform(X)\n",
    "\n",
    "fig, ax = plt.subplots(1, figsize = (20, 13))\n",
    "\n",
    "sns.scatterplot(x = X_2d[:, 0], y = X_2d[:, 1])"
   ]
  },
  {
   "cell_type": "markdown",
   "metadata": {},
   "source": [
    "## Choosing a model"
   ]
  },
  {
   "cell_type": "markdown",
   "metadata": {},
   "source": [
    "We are now done manipulating our data, and the time has come to build a model."
   ]
  },
  {
   "cell_type": "code",
   "execution_count": 45,
   "metadata": {},
   "outputs": [],
   "source": [
    "from skmultilearn.adapt import MLkNN\n",
    "from sklearn.model_selection import GridSearchCV, train_test_split\n",
    "from sklearn.metrics import hamming_loss, make_scorer"
   ]
  },
  {
   "cell_type": "code",
   "execution_count": 40,
   "metadata": {},
   "outputs": [],
   "source": [
    "X = np.asarray(df_elmo.iloc[:, 0:1024])\n",
    "Y = np.asarray(df_elmo.iloc[:, 1024:])\n",
    "X_train, X_test, Y_train, Y_test = train_test_split(X, Y)"
   ]
  },
  {
   "cell_type": "code",
   "execution_count": 79,
   "metadata": {},
   "outputs": [],
   "source": [
    "def micro_avg_recall(Y_test, Y_hat):\n",
    "    TPs = np.sum(Y_hat.multiply(Y_test).todense())\n",
    "    return TPs / np.sum(Y_test)\n",
    "\n",
    "micro_avg_recall_scorer = make_scorer(micro_avg_recall)"
   ]
  },
  {
   "cell_type": "code",
   "execution_count": 80,
   "metadata": {},
   "outputs": [
    {
     "name": "stdout",
     "output_type": "stream",
     "text": [
      "Microaveraging recall score: 0.003738317757009346\n"
     ]
    }
   ],
   "source": [
    "clf = MLkNN(k = 3)\n",
    "clf.fit(X_train, Y_train)\n",
    "Y_hat = clf.predict(X_test)\n",
    "\n",
    "print(f\"Microaveraging recall score: {micro_avg_recall(Y_test, Y_hat)}\")"
   ]
  },
  {
   "cell_type": "code",
   "execution_count": 81,
   "metadata": {
    "scrolled": false
   },
   "outputs": [
    {
     "name": "stdout",
     "output_type": "stream",
     "text": [
      "The best parameters are {'k': 1, 's': 0.5}\n",
      "The best score was 0.018937468538278955.\n"
     ]
    }
   ],
   "source": [
    "parameters = {'k': range(1,5), 's': [0.5, 0.75, 1.0]}\n",
    "\n",
    "grid_search = GridSearchCV(MLkNN(), parameters, scoring = micro_avg_recall_scorer, cv = 10)\n",
    "grid_search.fit(X, Y)\n",
    "\n",
    "print(f\"The best parameters are {grid_search.best_params_}\")\n",
    "print(f\"The best score was {grid_search.best_score_}.\")"
   ]
  },
  {
   "cell_type": "code",
   "execution_count": null,
   "metadata": {},
   "outputs": [],
   "source": [
    "print(f\"The best parameters are {grid_search.best_params_}\")\n",
    "print(f\"The best score was {grid_search.best_score_}.\")"
   ]
  },
  {
   "cell_type": "code",
   "execution_count": null,
   "metadata": {
    "scrolled": true
   },
   "outputs": [],
   "source": [
    "clf = grid_search.best_estimator_\n",
    "\n",
    "with open(\"model.pickle\") as pickle_in:\n",
    "    pickle.dump(clf, pickle_in)"
   ]
  },
  {
   "cell_type": "code",
   "execution_count": null,
   "metadata": {},
   "outputs": [],
   "source": []
  }
 ],
 "metadata": {
  "kernelspec": {
   "display_name": "Python 3",
   "language": "python",
   "name": "python3"
  },
  "language_info": {
   "codemirror_mode": {
    "name": "ipython",
    "version": 3
   },
   "file_extension": ".py",
   "mimetype": "text/x-python",
   "name": "python",
   "nbconvert_exporter": "python",
   "pygments_lexer": "ipython3",
   "version": "3.7.1"
  }
 },
 "nbformat": 4,
 "nbformat_minor": 2
}
