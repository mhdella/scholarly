{
 "cells": [
  {
   "cell_type": "markdown",
   "metadata": {},
   "source": [
    "# Analysis of Preprint Papers from the ArXiv"
   ]
  },
  {
   "cell_type": "markdown",
   "metadata": {},
   "source": [
    "The website [arxiv.org](https://arxiv.org) is a popular database for scientific papers in STEM fields. ArXiv has its own classification system consisting of roughly 150 different categories, which are manually added by the authors whenever a new paper is uploaded. A paper can be assigned multiple categories.\n",
    "\n",
    "The goal for this project is to develop a machine learning model which can predict the ArXiv category from a given title and abstract. The data set used here has been scraped from the [ArXiv API](https://arxiv.org/help/api) over several days, using the Python scraper `arxiv_scraper.py`.\n",
    "\n",
    "To get a sense for how long the scraping takes, you can uncomment and run the script below."
   ]
  },
  {
   "cell_type": "code",
   "execution_count": 1,
   "metadata": {
    "scrolled": true
   },
   "outputs": [],
   "source": [
    "#from arxiv_scraper import cat_scrape\n",
    "#cat_scrape(\n",
    "#    max_results_per_cat = 100, # maximum number of papers to download per category (there are ~150 categories)\n",
    "#    file_path = \"arxiv_data\", # name of output file\n",
    "#    batch_size = 100 # size of every batch - lower batch size requires less memory - must be less than 30,000\n",
    "#)"
   ]
  },
  {
   "cell_type": "markdown",
   "metadata": {},
   "source": [
    "Alternatively, I have downloaded metadata from about a million papers using this scraper (with `max_results_per_cat` = 10000), which can be freely downloaded below. This data set takes up ~1gb of space, however, so I've included many random samples of this data set as well:\n",
    "\n",
    "* `arxiv` contains the main data set\n",
    "* `arxiv_sample_1000` contains 1,000 papers\n",
    "* `arxiv_sample_5000` contains 5,000 papers\n",
    "* `arxiv_sample_10000` contains 10,000 papers\n",
    "* `arxiv_sample_25000` contains 25,000 papers\n",
    "* `arxiv_sample_50000` contains 50,000 papers\n",
    "* `arxiv_sample_100000` contains 100,000 papers\n",
    "* `arxiv_sample_200000` contains 200,000 papers\n",
    "* `arxiv_sample_500000` contains 500,000 papers\n",
    "* `arxiv_sample_750000` contains 750,000 papers\n",
    "\n",
    "Choose your favorite below. Alternatively, of course, you can set it to be the file name of your own scraped data."
   ]
  },
  {
   "cell_type": "code",
   "execution_count": 2,
   "metadata": {},
   "outputs": [],
   "source": [
    "file_name = \"arxiv_sample_10000\""
   ]
  },
  {
   "cell_type": "markdown",
   "metadata": {},
   "source": [
    "We start by importing all the packages we will need and setting up a data directory."
   ]
  },
  {
   "cell_type": "code",
   "execution_count": 3,
   "metadata": {},
   "outputs": [
    {
     "name": "stdout",
     "output_type": "stream",
     "text": [
      "Packages loaded and data directory created.\n"
     ]
    }
   ],
   "source": [
    "# base packages\n",
    "import pandas as pd\n",
    "import numpy as np\n",
    "\n",
    "# plot packages\n",
    "import matplotlib.pyplot as plt\n",
    "import seaborn as sns\n",
    "\n",
    "# handling files\n",
    "import os\n",
    "import wget # downloading files\n",
    "import tarfile # dealing with compressed .tar.gz files\n",
    "import pickle # enables saving data and models locally\n",
    "\n",
    "# other stuff\n",
    "import re # regular expressions\n",
    "import spacy as sp # used for lemmatising text\n",
    "from sklearn.decomposition import PCA # dimension reduction of data\n",
    "\n",
    "os.system(\"mkdir data\") # create data directory\n",
    "\n",
    "print(\"Packages loaded and data directory created.\")"
   ]
  },
  {
   "cell_type": "markdown",
   "metadata": {},
   "source": [
    "## Fetching data"
   ]
  },
  {
   "cell_type": "markdown",
   "metadata": {},
   "source": [
    "We then download the chosen data set --- if you've already scraped your own data set then skip this stage."
   ]
  },
  {
   "cell_type": "code",
   "execution_count": 4,
   "metadata": {},
   "outputs": [
    {
     "name": "stdout",
     "output_type": "stream",
     "text": [
      "arxiv_sample_10000.csv already downloaded.\n"
     ]
    }
   ],
   "source": [
    "url_start = f\"https://filedn.com/lRBwPhPxgV74tO0rDoe8SpH/scholarly_data/\"\n",
    "\n",
    "# download the paper data\n",
    "if not os.path.isfile(f'data/{file_name}.csv'):\n",
    "    print(f\"Downloading {file_name}.csv...\", end = \" \")\n",
    "    wget.download(url_start + f\"{file_name}.csv\", out = f\"data/{file_name}.csv\")\n",
    "    print(\"Done!\")\n",
    "else:\n",
    "    print(f\"{file_name}.csv already downloaded.\")"
   ]
  },
  {
   "cell_type": "markdown",
   "metadata": {},
   "source": [
    "Next, we download a list of all the arXiv categories and store them in `cats`."
   ]
  },
  {
   "cell_type": "code",
   "execution_count": 5,
   "metadata": {},
   "outputs": [
    {
     "name": "stdout",
     "output_type": "stream",
     "text": [
      "cats.csv already downloaded.\n"
     ]
    },
    {
     "data": {
      "text/html": [
       "<div>\n",
       "<style scoped>\n",
       "    .dataframe tbody tr th:only-of-type {\n",
       "        vertical-align: middle;\n",
       "    }\n",
       "\n",
       "    .dataframe tbody tr th {\n",
       "        vertical-align: top;\n",
       "    }\n",
       "\n",
       "    .dataframe thead th {\n",
       "        text-align: right;\n",
       "    }\n",
       "</style>\n",
       "<table border=\"1\" class=\"dataframe\">\n",
       "  <thead>\n",
       "    <tr style=\"text-align: right;\">\n",
       "      <th></th>\n",
       "      <th>category</th>\n",
       "      <th>description</th>\n",
       "    </tr>\n",
       "  </thead>\n",
       "  <tbody>\n",
       "    <tr>\n",
       "      <th>0</th>\n",
       "      <td>astro-ph</td>\n",
       "      <td>Astrophysics</td>\n",
       "    </tr>\n",
       "    <tr>\n",
       "      <th>1</th>\n",
       "      <td>astro-ph.CO</td>\n",
       "      <td>Cosmology and Nongalactic Astrophysics</td>\n",
       "    </tr>\n",
       "    <tr>\n",
       "      <th>2</th>\n",
       "      <td>astro-ph.EP</td>\n",
       "      <td>Earth and Planetary Astrophysics</td>\n",
       "    </tr>\n",
       "    <tr>\n",
       "      <th>3</th>\n",
       "      <td>astro-ph.GA</td>\n",
       "      <td>Astrophysics of Galaxies</td>\n",
       "    </tr>\n",
       "    <tr>\n",
       "      <th>4</th>\n",
       "      <td>astro-ph.HE</td>\n",
       "      <td>High Energy Astrophysical Phenomena</td>\n",
       "    </tr>\n",
       "  </tbody>\n",
       "</table>\n",
       "</div>"
      ],
      "text/plain": [
       "      category                             description\n",
       "0     astro-ph                            Astrophysics\n",
       "1  astro-ph.CO  Cosmology and Nongalactic Astrophysics\n",
       "2  astro-ph.EP        Earth and Planetary Astrophysics\n",
       "3  astro-ph.GA                Astrophysics of Galaxies\n",
       "4  astro-ph.HE     High Energy Astrophysical Phenomena"
      ]
     },
     "execution_count": 5,
     "metadata": {},
     "output_type": "execute_result"
    }
   ],
   "source": [
    "# download a list of all the arXiv categories\n",
    "if not os.path.isfile('data/cats.csv'):\n",
    "    print(\"Downloading cats.csv...\", end = \" \")\n",
    "    wget.download(url_start + \"cats.csv\", out = \"data/cats.csv\")\n",
    "    print(\"Done!\")\n",
    "else:\n",
    "    print(\"cats.csv already downloaded.\")\n",
    "\n",
    "# construct category dataframe and array\n",
    "cats_df = pd.read_csv(\"data/cats.csv\")\n",
    "cats = np.asarray(cats_df['category'].values)\n",
    "\n",
    "pd.set_option('display.max_colwidth', 50)\n",
    "cats_df.head()"
   ]
  },
  {
   "cell_type": "markdown",
   "metadata": {},
   "source": [
    "Next up we load the data into a dataframe. This might take a little while."
   ]
  },
  {
   "cell_type": "code",
   "execution_count": 6,
   "metadata": {},
   "outputs": [],
   "source": [
    "def nan_if_empty(x):\n",
    "    ''' Converts empty lists/arrays to NaNs, making it easier to detect by pandas. '''\n",
    "    arr = np.asarray(x)\n",
    "    if arr.size == 0:\n",
    "        return np.nan\n",
    "    else:\n",
    "        return arr\n",
    "\n",
    "def remove_non_cats(x):\n",
    "    ''' Removes every string in x which does not occur in the list of arXiv categories. '''\n",
    "    return np.intersect1d(np.asarray(x), cats)\n",
    "\n",
    "def str_to_arr(x):\n",
    "    ''' Converts a string to a numpy array. '''\n",
    "    return np.asarray(re.sub('[\\' \\[\\]]', '', x).split(','))\n",
    "\n",
    "def clean_cats(x):\n",
    "    ''' Composition of nan_if_empty, remove_non_cats and str_to_arr. Used to clean scraped data. '''\n",
    "    return nan_if_empty(remove_non_cats(str_to_arr(x)))"
   ]
  },
  {
   "cell_type": "code",
   "execution_count": 7,
   "metadata": {
    "scrolled": true
   },
   "outputs": [
    {
     "name": "stdout",
     "output_type": "stream",
     "text": [
      "Loaded metadata from 10000 papers. Here are some of them:\n"
     ]
    },
    {
     "data": {
      "text/html": [
       "<div>\n",
       "<style scoped>\n",
       "    .dataframe tbody tr th:only-of-type {\n",
       "        vertical-align: middle;\n",
       "    }\n",
       "\n",
       "    .dataframe tbody tr th {\n",
       "        vertical-align: top;\n",
       "    }\n",
       "\n",
       "    .dataframe thead th {\n",
       "        text-align: right;\n",
       "    }\n",
       "</style>\n",
       "<table border=\"1\" class=\"dataframe\">\n",
       "  <thead>\n",
       "    <tr style=\"text-align: right;\">\n",
       "      <th></th>\n",
       "      <th>title</th>\n",
       "      <th>abstract</th>\n",
       "      <th>category</th>\n",
       "    </tr>\n",
       "  </thead>\n",
       "  <tbody>\n",
       "    <tr>\n",
       "      <th>9251</th>\n",
       "      <td>Caldeira-Leggett Model, Landau Damping, and the Vlasov-Poisson System</td>\n",
       "      <td>The Caldeira-Leggett Hamiltonian (Eq. (1) below) describes the interaction of\\na discrete harmonic oscillator with a continuous bath of harmonic oscillators.\\nThis system is a standard model of dissipation in macroscopic low temperature\\nphysics, and has applications to superconductors, quantu...</td>\n",
       "      <td>[math-ph, math.MP, physics.plasm-ph, quant-ph]</td>\n",
       "    </tr>\n",
       "    <tr>\n",
       "      <th>1360</th>\n",
       "      <td>Data-adaptive estimation of time-varying spectral densities</td>\n",
       "      <td>This paper introduces a data-adaptive non-parametric approach for the\\nestimation of time-varying spectral densities from nonstationary time series.\\nTime-varying spectral densities are commonly estimated by local kernel\\nsmoothing. The performance of these nonparametric estimators, however, d...</td>\n",
       "      <td>[stat.CO, stat.ME]</td>\n",
       "    </tr>\n",
       "    <tr>\n",
       "      <th>7519</th>\n",
       "      <td>A Minimalistic Approach to Segregation in Robot Swarms</td>\n",
       "      <td>We present a decentralized algorithm to achieve segregation into an arbitrary\\nnumber of groups with swarms of autonomous robots. The distinguishing feature\\nof our approach is in the minimalistic assumptions on which it is based.\\nSpecifically, we assume that (i) Each robot is equipped with a...</td>\n",
       "      <td>[cs.RO]</td>\n",
       "    </tr>\n",
       "  </tbody>\n",
       "</table>\n",
       "</div>"
      ],
      "text/plain": [
       "                                                                      title  \\\n",
       "9251  Caldeira-Leggett Model, Landau Damping, and the Vlasov-Poisson System   \n",
       "1360            Data-adaptive estimation of time-varying spectral densities   \n",
       "7519                 A Minimalistic Approach to Segregation in Robot Swarms   \n",
       "\n",
       "                                                                                                                                                                                                                                                                                                         abstract  \\\n",
       "9251    The Caldeira-Leggett Hamiltonian (Eq. (1) below) describes the interaction of\\na discrete harmonic oscillator with a continuous bath of harmonic oscillators.\\nThis system is a standard model of dissipation in macroscopic low temperature\\nphysics, and has applications to superconductors, quantu...   \n",
       "1360    This paper introduces a data-adaptive non-parametric approach for the\\nestimation of time-varying spectral densities from nonstationary time series.\\nTime-varying spectral densities are commonly estimated by local kernel\\nsmoothing. The performance of these nonparametric estimators, however, d...   \n",
       "7519    We present a decentralized algorithm to achieve segregation into an arbitrary\\nnumber of groups with swarms of autonomous robots. The distinguishing feature\\nof our approach is in the minimalistic assumptions on which it is based.\\nSpecifically, we assume that (i) Each robot is equipped with a...   \n",
       "\n",
       "                                            category  \n",
       "9251  [math-ph, math.MP, physics.plasm-ph, quant-ph]  \n",
       "1360                              [stat.CO, stat.ME]  \n",
       "7519                                         [cs.RO]  "
      ]
     },
     "execution_count": 7,
     "metadata": {},
     "output_type": "execute_result"
    }
   ],
   "source": [
    "# set up dataframe\n",
    "df = pd.read_csv(f'data/{file_name}.csv', converters={'category': clean_cats})[['title', 'abstract', 'category']]\n",
    "\n",
    "print(f\"Loaded metadata from {df.shape[0]} papers. Here are some of them:\")\n",
    "pd.set_option('display.max_colwidth', 300)\n",
    "df.sample(3)"
   ]
  },
  {
   "cell_type": "markdown",
   "metadata": {},
   "source": [
    "## Cleaning the data"
   ]
  },
  {
   "cell_type": "markdown",
   "metadata": {},
   "source": [
    "We next do some basic cleaning of the data."
   ]
  },
  {
   "cell_type": "code",
   "execution_count": 8,
   "metadata": {
    "scrolled": false
   },
   "outputs": [
    {
     "name": "stdout",
     "output_type": "stream",
     "text": [
      "Shape of df_clean: (10000, 4)\n"
     ]
    },
    {
     "data": {
      "text/html": [
       "<div>\n",
       "<style scoped>\n",
       "    .dataframe tbody tr th:only-of-type {\n",
       "        vertical-align: middle;\n",
       "    }\n",
       "\n",
       "    .dataframe tbody tr th {\n",
       "        vertical-align: top;\n",
       "    }\n",
       "\n",
       "    .dataframe thead th {\n",
       "        text-align: right;\n",
       "    }\n",
       "</style>\n",
       "<table border=\"1\" class=\"dataframe\">\n",
       "  <thead>\n",
       "    <tr style=\"text-align: right;\">\n",
       "      <th></th>\n",
       "      <th>title</th>\n",
       "      <th>abstract</th>\n",
       "      <th>clean_text</th>\n",
       "    </tr>\n",
       "  </thead>\n",
       "  <tbody>\n",
       "    <tr>\n",
       "      <th>0</th>\n",
       "      <td>Staggered fermions, zero modes, and flavor-singlet mesons</td>\n",
       "      <td>We examine the taste structure of eigenvectors of the staggered-fermion Dirac\\noperator. We derive a set of conditions on the eigenvectors of modes with small\\neigenvalues (near-zero modes), such that staggered fermions reproduce the 't\\nHooft vertex in the continuum limit. We also show that, ...</td>\n",
       "      <td>staggered fermions, zero modes, and flavor-singlet mesons we examine the taste structure of eigenvectors of the staggered-fermion dirac operator. we derive a set of conditions on the eigenvectors of modes with small eigenvalues (near-zero modes), such that staggered fermions reproduce the 't hoo...</td>\n",
       "    </tr>\n",
       "    <tr>\n",
       "      <th>1</th>\n",
       "      <td>PhyNetLab: An IoT-Based Warehouse Testbed</td>\n",
       "      <td>Future warehouses will be made of modular embedded entities with\\ncommunication ability and energy aware operation attached to the traditional\\nmaterials handling and warehousing objects. This advancement is mainly to\\nfulfill the flexibility and scalability needs of the emerging warehouses.\\n...</td>\n",
       "      <td>phynetlab: an iot-based warehouse testbed future warehouses will be made of modular embedded entities with communication ability and energy aware operation attached to the traditional materials handling and warehousing objects. this advancement is mainly to fulfill the flexibility and scalabilit...</td>\n",
       "    </tr>\n",
       "    <tr>\n",
       "      <th>2</th>\n",
       "      <td>Geometry of nonadiabatic quantum hydrodynamics</td>\n",
       "      <td>The Hamiltonian action of a Lie group on a symplectic manifold induces a\\nmomentum map generalizing Noether's conserved quantity occurring in the case of\\na symmetry group. Then, when a Hamiltonian function can be written in terms of\\nthis momentum map, the Hamiltonian is called `collective'. ...</td>\n",
       "      <td>geometry of nonadiabatic quantum hydrodynamics the hamiltonian action of a lie group on a symplectic manifold induces a momentum map generalizing noether's conserved quantity occurring in the case of a symmetry group. then, when a hamiltonian function can be written in terms of this momentum map...</td>\n",
       "    </tr>\n",
       "    <tr>\n",
       "      <th>3</th>\n",
       "      <td>E2E-MLT - an Unconstrained End-to-End Method for Multi-Language Scene\\n  Text</td>\n",
       "      <td>An end-to-end trainable (fully differentiable) method for multi-language\\nscene text localization and recognition is proposed. The approach is based on a\\nsingle fully convolutional network (FCN) with shared layers for both tasks.\\n  E2E-MLT is the first published multi-language OCR for scene ...</td>\n",
       "      <td>e e-mlt - an unconstrained end-to-end method for multi-language scene text an end-to-end trainable (fully differentiable) method for multi-language scene text localization and recognition is proposed. the approach is based on a single fully convolutional network (fcn) with shared layers for both...</td>\n",
       "    </tr>\n",
       "    <tr>\n",
       "      <th>4</th>\n",
       "      <td>State of the Practice in Software Effort Estimation: A Survey and\\n  Literature Review</td>\n",
       "      <td>Effort estimation is a key factor for software project success, defined as\\ndelivering software of agreed quality and functionality within schedule and\\nbudget. Traditionally, effort estimation has been used for planning and\\ntracking project resources. Effort estimation methods founded on tho...</td>\n",
       "      <td>state of the practice in software effort estimation: a survey and literature review effort estimation is a key factor for software project success, defined as delivering software of agreed quality and functionality within schedule and budget. traditionally, effort estimation has been used for pl...</td>\n",
       "    </tr>\n",
       "  </tbody>\n",
       "</table>\n",
       "</div>"
      ],
      "text/plain": [
       "                                                                                    title  \\\n",
       "0                               Staggered fermions, zero modes, and flavor-singlet mesons   \n",
       "1                                               PhyNetLab: An IoT-Based Warehouse Testbed   \n",
       "2                                          Geometry of nonadiabatic quantum hydrodynamics   \n",
       "3           E2E-MLT - an Unconstrained End-to-End Method for Multi-Language Scene\\n  Text   \n",
       "4  State of the Practice in Software Effort Estimation: A Survey and\\n  Literature Review   \n",
       "\n",
       "                                                                                                                                                                                                                                                                                                      abstract  \\\n",
       "0    We examine the taste structure of eigenvectors of the staggered-fermion Dirac\\noperator. We derive a set of conditions on the eigenvectors of modes with small\\neigenvalues (near-zero modes), such that staggered fermions reproduce the 't\\nHooft vertex in the continuum limit. We also show that, ...   \n",
       "1    Future warehouses will be made of modular embedded entities with\\ncommunication ability and energy aware operation attached to the traditional\\nmaterials handling and warehousing objects. This advancement is mainly to\\nfulfill the flexibility and scalability needs of the emerging warehouses.\\n...   \n",
       "2    The Hamiltonian action of a Lie group on a symplectic manifold induces a\\nmomentum map generalizing Noether's conserved quantity occurring in the case of\\na symmetry group. Then, when a Hamiltonian function can be written in terms of\\nthis momentum map, the Hamiltonian is called `collective'. ...   \n",
       "3    An end-to-end trainable (fully differentiable) method for multi-language\\nscene text localization and recognition is proposed. The approach is based on a\\nsingle fully convolutional network (FCN) with shared layers for both tasks.\\n  E2E-MLT is the first published multi-language OCR for scene ...   \n",
       "4    Effort estimation is a key factor for software project success, defined as\\ndelivering software of agreed quality and functionality within schedule and\\nbudget. Traditionally, effort estimation has been used for planning and\\ntracking project resources. Effort estimation methods founded on tho...   \n",
       "\n",
       "                                                                                                                                                                                                                                                                                                    clean_text  \n",
       "0  staggered fermions, zero modes, and flavor-singlet mesons we examine the taste structure of eigenvectors of the staggered-fermion dirac operator. we derive a set of conditions on the eigenvectors of modes with small eigenvalues (near-zero modes), such that staggered fermions reproduce the 't hoo...  \n",
       "1  phynetlab: an iot-based warehouse testbed future warehouses will be made of modular embedded entities with communication ability and energy aware operation attached to the traditional materials handling and warehousing objects. this advancement is mainly to fulfill the flexibility and scalabilit...  \n",
       "2  geometry of nonadiabatic quantum hydrodynamics the hamiltonian action of a lie group on a symplectic manifold induces a momentum map generalizing noether's conserved quantity occurring in the case of a symmetry group. then, when a hamiltonian function can be written in terms of this momentum map...  \n",
       "3  e e-mlt - an unconstrained end-to-end method for multi-language scene text an end-to-end trainable (fully differentiable) method for multi-language scene text localization and recognition is proposed. the approach is based on a single fully convolutional network (fcn) with shared layers for both...  \n",
       "4  state of the practice in software effort estimation: a survey and literature review effort estimation is a key factor for software project success, defined as delivering software of agreed quality and functionality within schedule and budget. traditionally, effort estimation has been used for pl...  "
      ]
     },
     "execution_count": 8,
     "metadata": {},
     "output_type": "execute_result"
    }
   ],
   "source": [
    "df_clean = df.copy()\n",
    "\n",
    "# drop rows with NaNs\n",
    "df_clean.dropna(inplace = True)\n",
    "\n",
    "# merge title and abstract\n",
    "df_clean['clean_text'] = df_clean['title'] + ' ' + df_clean['abstract']\n",
    "\n",
    "# remove punctuation marks\n",
    "punctuation ='\\!\\\"\\#\\$\\%\\&\\(\\)\\*\\+\\-\\/\\:\\;\\<\\=\\>\\?\\@\\[\\\\\\]\\^\\_\\`\\{\\|\\}\\~'\n",
    "df_clean['clean_text'] = df_clean['clean_text'].apply(lambda x: re.sub(punctuation, '', x))\n",
    "\n",
    "# convert text to lowercase\n",
    "df_clean['clean_text'] = df_clean['clean_text'].str.lower()\n",
    "\n",
    "# remove numbers\n",
    "df_clean['clean_text'] = df_clean['clean_text'].str.replace(\"[0-9]\", \" \")\n",
    "\n",
    "# remove whitespaces\n",
    "df_clean['clean_text'] = df_clean['clean_text'].apply(lambda x:' '.join(x.split()))\n",
    "\n",
    "print(f\"Shape of df_clean: {df_clean.shape}\")\n",
    "pd.set_option('display.max_colwidth', 300)\n",
    "df_clean[['title', 'abstract', 'clean_text']].head()"
   ]
  },
  {
   "cell_type": "markdown",
   "metadata": {},
   "source": [
    "Our last text cleaning step is to lemmatise the text, which reduces all words to its base form. For instance, 'eating' is converted into 'eat' and 'better' is converted into 'good'. This usually takes a while to finish, so instead we're simply going to download a lemmatised version of your chosen data set. Alternatively, if you're dealing with your own scraped data set, you can uncomment the marked lines below."
   ]
  },
  {
   "cell_type": "code",
   "execution_count": 9,
   "metadata": {},
   "outputs": [],
   "source": [
    "def lemmatise(texts):\n",
    "    ''' Lemmatise an iterable of strings. '''\n",
    "    \n",
    "    # import spacy's language model\n",
    "    try:\n",
    "        nlp = sp.load('en', disable=['parser', 'ner'])\n",
    "    except:\n",
    "        os.system(\"python -m spacy download en --user\")\n",
    "        nlp = sp.load('en', disable=['parser', 'ner']) \n",
    "\n",
    "    return np.asarray([' '.join(np.asarray([token.lemma_ for token in nlp(text)])) for text in texts])"
   ]
  },
  {
   "cell_type": "code",
   "execution_count": 10,
   "metadata": {
    "scrolled": false
   },
   "outputs": [
    {
     "name": "stdout",
     "output_type": "stream",
     "text": [
      "Loaded lemmatised data from data/arxiv_sample_10000_clean.csv.\n",
      "Shape of df_lemm: (9898, 4). Here are some of the lemmatised texts:\n"
     ]
    },
    {
     "data": {
      "text/html": [
       "<div>\n",
       "<style scoped>\n",
       "    .dataframe tbody tr th:only-of-type {\n",
       "        vertical-align: middle;\n",
       "    }\n",
       "\n",
       "    .dataframe tbody tr th {\n",
       "        vertical-align: top;\n",
       "    }\n",
       "\n",
       "    .dataframe thead th {\n",
       "        text-align: right;\n",
       "    }\n",
       "</style>\n",
       "<table border=\"1\" class=\"dataframe\">\n",
       "  <thead>\n",
       "    <tr style=\"text-align: right;\">\n",
       "      <th></th>\n",
       "      <th>clean_text</th>\n",
       "    </tr>\n",
       "  </thead>\n",
       "  <tbody>\n",
       "    <tr>\n",
       "      <th>0</th>\n",
       "      <td>e e - mlt - an unconstrained end - to - end method for multi - language scene text an end - to - end trainable ( fully differentiable ) method for multi - language scene text localization and recognition be propose . the approach be base on a single fully convolutional network ( fcn ) with share layer for both task . e e - mlt be the first publish multi - language ocr for scene text . while train in multi - language setup , e e - mlt demonstrate competitive performance when compare to other method train for english scene text alone . the experiment show that obtain accurate multi - language multi - script annotation be a challenging problem .</td>\n",
       "    </tr>\n",
       "    <tr>\n",
       "      <th>1</th>\n",
       "      <td>state of the practice in software effort estimation : a survey and literature review effort estimation be a key factor for software project success , define as deliver software of agree quality and functionality within schedule and budget . traditionally , effort estimation have be use for planning and tracking project resource . effort estimation method found on those goal typically focus on provide exact estimate and usually do not support objective that have recently become important within the software industry , such as systematic and reliable analysis of causal effort dependency . this article present the result of a study of software effort estimation from an industrial perspective . the study survey industrial objective , the ability of software organization to apply certain estimation method , and actually apply practice of software effort estimation . finally , requirement for effort estimation method identify in the survey be compare against exist estimation method .</td>\n",
       "    </tr>\n",
       "    <tr>\n",
       "      <th>2</th>\n",
       "      <td>momentum - resolve radio - frequency spectroscopy of ultracold atomic fermi gas in a spin - orbit couple lattice -PRON- investigate theoretically momentum - resolve radio - frequency ( rf ) spectroscopy of a noninteracte atomic fermi gas in a spin - orbit couple lattice . this lattice configuration have be recently create at mit [ cheuk et al . , arxiv : . ] for li atom , by couple the two hyperfine spin - state with a pair of raman laser beam and additional rf coupling . here , -PRON- show that momentum - resolve rf spectroscopy can measure single - particle energy and eigenstate and therefore resolve the band structure of the spin - orbit couple lattice . in -PRON- calculation , -PRON- take into account the effect of temperature and harmonic trap . -PRON- prediction be to be confront with future experiment on spin - orbit couple fermi gas of k atom in a lattice potential .</td>\n",
       "    </tr>\n",
       "    <tr>\n",
       "      <th>3</th>\n",
       "      <td>solution of laplace 's equation with simple boundary condition , and -PRON- application for capacitor with multiple symmetry -PRON- find solution of laplace 's equation with specific boundary condition ( in which such solution take either the value zero or unity in each surface ) use a generic curvilinear system of coordinate . such purely geometrical solution ( that -PRON- shall call basic harmonic function bhf 's ) be utilize to obtain a more general class of solution for laplace 's equation , in which the function take arbitrary constant value on the boundary . on the other hand , the bhf 's be also use to obtain the capacitance of many electrostatic configuration of conductor . this method of find solution of laplace 's equation and capacitance with multiple symmetry be particularly simple , owe to the fact that the method of separation of variable become much simple under the boundary condition that lead to the bhf 's . example of application in complex symmetry be give . then...</td>\n",
       "    </tr>\n",
       "    <tr>\n",
       "      <th>4</th>\n",
       "      <td>accelerate cosmo in a non - extensive setup here , -PRON- consider a flat frw universe whose -PRON- horizon entropy meet the r\\'enyi entropy of non - extensive system . in -PRON- model , the ordinary energy - momentum conservation law be not always valid . by apply the clausius relation as well as the cai - kim temperature to the apparent horizon of a flat frw universe , -PRON- obtain modify friedmann equation . fit the model to the observational datum on current accelerate universe , some value for the model parameter be also address . -PRON- study show that the current accelerate phase of universe expansion may be describe by a geometrical fluid , originate from the non - extensive aspect of geometry , which model a vary dark energy source interact with matter field in the rastall way . moreover , -PRON- result indicate that the probable non - extensive feature of spacetime may also be use to model a vary dark energy source which do not interact with matter field , and be compati...</td>\n",
       "    </tr>\n",
       "  </tbody>\n",
       "</table>\n",
       "</div>"
      ],
      "text/plain": [
       "                                                                                                                                                                                                                                                                                                                                                                                                                                                                                                                                                                                                                                                                                                                                                                                                                                                                                                                                                                                                                                clean_text\n",
       "0                                                                                                                                                                                                                                                                                                                                                               e e - mlt - an unconstrained end - to - end method for multi - language scene text an end - to - end trainable ( fully differentiable ) method for multi - language scene text localization and recognition be propose . the approach be base on a single fully convolutional network ( fcn ) with share layer for both task . e e - mlt be the first publish multi - language ocr for scene text . while train in multi - language setup , e e - mlt demonstrate competitive performance when compare to other method train for english scene text alone . the experiment show that obtain accurate multi - language multi - script annotation be a challenging problem .\n",
       "1         state of the practice in software effort estimation : a survey and literature review effort estimation be a key factor for software project success , define as deliver software of agree quality and functionality within schedule and budget . traditionally , effort estimation have be use for planning and tracking project resource . effort estimation method found on those goal typically focus on provide exact estimate and usually do not support objective that have recently become important within the software industry , such as systematic and reliable analysis of causal effort dependency . this article present the result of a study of software effort estimation from an industrial perspective . the study survey industrial objective , the ability of software organization to apply certain estimation method , and actually apply practice of software effort estimation . finally , requirement for effort estimation method identify in the survey be compare against exist estimation method .\n",
       "2                                                                                                                  momentum - resolve radio - frequency spectroscopy of ultracold atomic fermi gas in a spin - orbit couple lattice -PRON- investigate theoretically momentum - resolve radio - frequency ( rf ) spectroscopy of a noninteracte atomic fermi gas in a spin - orbit couple lattice . this lattice configuration have be recently create at mit [ cheuk et al . , arxiv : . ] for li atom , by couple the two hyperfine spin - state with a pair of raman laser beam and additional rf coupling . here , -PRON- show that momentum - resolve rf spectroscopy can measure single - particle energy and eigenstate and therefore resolve the band structure of the spin - orbit couple lattice . in -PRON- calculation , -PRON- take into account the effect of temperature and harmonic trap . -PRON- prediction be to be confront with future experiment on spin - orbit couple fermi gas of k atom in a lattice potential .\n",
       "3  solution of laplace 's equation with simple boundary condition , and -PRON- application for capacitor with multiple symmetry -PRON- find solution of laplace 's equation with specific boundary condition ( in which such solution take either the value zero or unity in each surface ) use a generic curvilinear system of coordinate . such purely geometrical solution ( that -PRON- shall call basic harmonic function bhf 's ) be utilize to obtain a more general class of solution for laplace 's equation , in which the function take arbitrary constant value on the boundary . on the other hand , the bhf 's be also use to obtain the capacitance of many electrostatic configuration of conductor . this method of find solution of laplace 's equation and capacitance with multiple symmetry be particularly simple , owe to the fact that the method of separation of variable become much simple under the boundary condition that lead to the bhf 's . example of application in complex symmetry be give . then...\n",
       "4  accelerate cosmo in a non - extensive setup here , -PRON- consider a flat frw universe whose -PRON- horizon entropy meet the r\\'enyi entropy of non - extensive system . in -PRON- model , the ordinary energy - momentum conservation law be not always valid . by apply the clausius relation as well as the cai - kim temperature to the apparent horizon of a flat frw universe , -PRON- obtain modify friedmann equation . fit the model to the observational datum on current accelerate universe , some value for the model parameter be also address . -PRON- study show that the current accelerate phase of universe expansion may be describe by a geometrical fluid , originate from the non - extensive aspect of geometry , which model a vary dark energy source interact with matter field in the rastall way . moreover , -PRON- result indicate that the probable non - extensive feature of spacetime may also be use to model a vary dark energy source which do not interact with matter field , and be compati..."
      ]
     },
     "execution_count": 10,
     "metadata": {},
     "output_type": "execute_result"
    }
   ],
   "source": [
    "df_lemm = df_clean.copy()\n",
    "\n",
    "if not os.path.isfile(f\"data/{file_name}_clean.csv\"):\n",
    "    \n",
    "    #  uncomment if you want to do it the hard way, or if you're dealing with your own data set\n",
    "    #df_lemm['clean_text'] = lemmatise(df_lemm['clean_text'])\n",
    "    #df_lemm.to_csv(f\"data/{file_name}_clean.csv\")\n",
    "    #print(f\"Finished lemmatising, and also saved lemmatised dataframe to data/{file_name}_clean.csv.\")\n",
    "    \n",
    "    # download lemmatised dataframe\n",
    "    print(f\"Downloading {file_name}_clean.csv...\", end = \" \")\n",
    "    wget.download(url_start + f\"{file_name}_clean.csv\", out = f\"data/{file_name}_clean.csv\")\n",
    "    print(\"Done!\")\n",
    "    \n",
    "# load lemmatised dataframe\n",
    "df_lemm['clean_text'] = pd.read_csv(f\"data/{file_name}_clean.csv\")\n",
    "df_lemm.dropna(inplace = True)\n",
    "print(f\"Loaded lemmatised data from data/{file_name}_clean.csv.\")\n",
    "\n",
    "print(f\"Shape of df_lemm: {df_lemm.shape}. Here are some of the lemmatised texts:\")\n",
    "pd.set_option('display.max_colwidth', 1000)\n",
    "df_lemm[['clean_text']].head()"
   ]
  },
  {
   "cell_type": "markdown",
   "metadata": {},
   "source": [
    "## Feature extraction"
   ]
  },
  {
   "cell_type": "code",
   "execution_count": 11,
   "metadata": {},
   "outputs": [
    {
     "name": "stdout",
     "output_type": "stream",
     "text": [
      "Loading data/arxiv_sample_10000_tfidf.pickle and data/arxiv_sample_10000_tfidfvals.csv... Done!\n"
     ]
    },
    {
     "data": {
      "text/html": [
       "<div>\n",
       "<style scoped>\n",
       "    .dataframe tbody tr th:only-of-type {\n",
       "        vertical-align: middle;\n",
       "    }\n",
       "\n",
       "    .dataframe tbody tr th {\n",
       "        vertical-align: top;\n",
       "    }\n",
       "\n",
       "    .dataframe thead th {\n",
       "        text-align: right;\n",
       "    }\n",
       "</style>\n",
       "<table border=\"1\" class=\"dataframe\">\n",
       "  <thead>\n",
       "    <tr style=\"text-align: right;\">\n",
       "      <th></th>\n",
       "      <th>0</th>\n",
       "      <th>1</th>\n",
       "      <th>2</th>\n",
       "      <th>3</th>\n",
       "      <th>4</th>\n",
       "      <th>5</th>\n",
       "      <th>6</th>\n",
       "      <th>7</th>\n",
       "      <th>8</th>\n",
       "      <th>9</th>\n",
       "      <th>...</th>\n",
       "      <th>991</th>\n",
       "      <th>992</th>\n",
       "      <th>993</th>\n",
       "      <th>994</th>\n",
       "      <th>995</th>\n",
       "      <th>996</th>\n",
       "      <th>997</th>\n",
       "      <th>998</th>\n",
       "      <th>999</th>\n",
       "      <th>category</th>\n",
       "    </tr>\n",
       "  </thead>\n",
       "  <tbody>\n",
       "    <tr>\n",
       "      <th>0</th>\n",
       "      <td>0.0</td>\n",
       "      <td>0.0</td>\n",
       "      <td>0.0</td>\n",
       "      <td>0.0</td>\n",
       "      <td>0.000000</td>\n",
       "      <td>0.0</td>\n",
       "      <td>0.09536</td>\n",
       "      <td>0.0</td>\n",
       "      <td>0.0</td>\n",
       "      <td>0.0</td>\n",
       "      <td>...</td>\n",
       "      <td>0.0</td>\n",
       "      <td>0.0</td>\n",
       "      <td>0.0</td>\n",
       "      <td>0.0</td>\n",
       "      <td>0.0</td>\n",
       "      <td>0.0</td>\n",
       "      <td>0.0</td>\n",
       "      <td>0.0</td>\n",
       "      <td>0.000000</td>\n",
       "      <td>[hep-lat]</td>\n",
       "    </tr>\n",
       "    <tr>\n",
       "      <th>1</th>\n",
       "      <td>0.0</td>\n",
       "      <td>0.0</td>\n",
       "      <td>0.0</td>\n",
       "      <td>0.0</td>\n",
       "      <td>0.000000</td>\n",
       "      <td>0.0</td>\n",
       "      <td>0.00000</td>\n",
       "      <td>0.0</td>\n",
       "      <td>0.0</td>\n",
       "      <td>0.0</td>\n",
       "      <td>...</td>\n",
       "      <td>0.0</td>\n",
       "      <td>0.0</td>\n",
       "      <td>0.0</td>\n",
       "      <td>0.0</td>\n",
       "      <td>0.0</td>\n",
       "      <td>0.0</td>\n",
       "      <td>0.0</td>\n",
       "      <td>0.0</td>\n",
       "      <td>0.000000</td>\n",
       "      <td>[cs.NI]</td>\n",
       "    </tr>\n",
       "    <tr>\n",
       "      <th>2</th>\n",
       "      <td>0.0</td>\n",
       "      <td>0.0</td>\n",
       "      <td>0.0</td>\n",
       "      <td>0.0</td>\n",
       "      <td>0.072009</td>\n",
       "      <td>0.0</td>\n",
       "      <td>0.00000</td>\n",
       "      <td>0.0</td>\n",
       "      <td>0.0</td>\n",
       "      <td>0.0</td>\n",
       "      <td>...</td>\n",
       "      <td>0.0</td>\n",
       "      <td>0.0</td>\n",
       "      <td>0.0</td>\n",
       "      <td>0.0</td>\n",
       "      <td>0.0</td>\n",
       "      <td>0.0</td>\n",
       "      <td>0.0</td>\n",
       "      <td>0.0</td>\n",
       "      <td>0.000000</td>\n",
       "      <td>[math-ph, math.MP, physics.chem-ph]</td>\n",
       "    </tr>\n",
       "    <tr>\n",
       "      <th>3</th>\n",
       "      <td>0.0</td>\n",
       "      <td>0.0</td>\n",
       "      <td>0.0</td>\n",
       "      <td>0.0</td>\n",
       "      <td>0.000000</td>\n",
       "      <td>0.0</td>\n",
       "      <td>0.00000</td>\n",
       "      <td>0.0</td>\n",
       "      <td>0.0</td>\n",
       "      <td>0.0</td>\n",
       "      <td>...</td>\n",
       "      <td>0.0</td>\n",
       "      <td>0.0</td>\n",
       "      <td>0.0</td>\n",
       "      <td>0.0</td>\n",
       "      <td>0.0</td>\n",
       "      <td>0.0</td>\n",
       "      <td>0.0</td>\n",
       "      <td>0.0</td>\n",
       "      <td>0.081569</td>\n",
       "      <td>[cs.CV]</td>\n",
       "    </tr>\n",
       "    <tr>\n",
       "      <th>4</th>\n",
       "      <td>0.0</td>\n",
       "      <td>0.0</td>\n",
       "      <td>0.0</td>\n",
       "      <td>0.0</td>\n",
       "      <td>0.000000</td>\n",
       "      <td>0.0</td>\n",
       "      <td>0.00000</td>\n",
       "      <td>0.0</td>\n",
       "      <td>0.0</td>\n",
       "      <td>0.0</td>\n",
       "      <td>...</td>\n",
       "      <td>0.0</td>\n",
       "      <td>0.0</td>\n",
       "      <td>0.0</td>\n",
       "      <td>0.0</td>\n",
       "      <td>0.0</td>\n",
       "      <td>0.0</td>\n",
       "      <td>0.0</td>\n",
       "      <td>0.0</td>\n",
       "      <td>0.000000</td>\n",
       "      <td>[cs.SE]</td>\n",
       "    </tr>\n",
       "  </tbody>\n",
       "</table>\n",
       "<p>5 rows × 1001 columns</p>\n",
       "</div>"
      ],
      "text/plain": [
       "     0    1    2    3         4    5        6    7    8    9  ...  991  992  \\\n",
       "0  0.0  0.0  0.0  0.0  0.000000  0.0  0.09536  0.0  0.0  0.0  ...  0.0  0.0   \n",
       "1  0.0  0.0  0.0  0.0  0.000000  0.0  0.00000  0.0  0.0  0.0  ...  0.0  0.0   \n",
       "2  0.0  0.0  0.0  0.0  0.072009  0.0  0.00000  0.0  0.0  0.0  ...  0.0  0.0   \n",
       "3  0.0  0.0  0.0  0.0  0.000000  0.0  0.00000  0.0  0.0  0.0  ...  0.0  0.0   \n",
       "4  0.0  0.0  0.0  0.0  0.000000  0.0  0.00000  0.0  0.0  0.0  ...  0.0  0.0   \n",
       "\n",
       "   993  994  995  996  997  998       999                             category  \n",
       "0  0.0  0.0  0.0  0.0  0.0  0.0  0.000000                            [hep-lat]  \n",
       "1  0.0  0.0  0.0  0.0  0.0  0.0  0.000000                              [cs.NI]  \n",
       "2  0.0  0.0  0.0  0.0  0.0  0.0  0.000000  [math-ph, math.MP, physics.chem-ph]  \n",
       "3  0.0  0.0  0.0  0.0  0.0  0.0  0.081569                              [cs.CV]  \n",
       "4  0.0  0.0  0.0  0.0  0.0  0.0  0.000000                              [cs.SE]  \n",
       "\n",
       "[5 rows x 1001 columns]"
      ]
     },
     "execution_count": 11,
     "metadata": {},
     "output_type": "execute_result"
    }
   ],
   "source": [
    "from sklearn.feature_extraction.text import CountVectorizer, TfidfVectorizer\n",
    "\n",
    "df_vec = df_lemm.copy()\n",
    "full_pickle = f\"data/{file_name}_tfidf.pickle\"\n",
    "full_csv = f\"data/{file_name}_tfidfvals.csv\"\n",
    "\n",
    "if not os.path.isfile(full_pickle) or not os.path.isfile(full_csv):\n",
    "    vectorizer = TfidfVectorizer(\n",
    "        strip_accents = 'unicode',\n",
    "        lowercase = True,\n",
    "        analyzer = \"word\",\n",
    "        tokenizer = None, \n",
    "        preprocessor = None, \n",
    "        stop_words = 'english',\n",
    "        ngram_range = (1, 3),\n",
    "        max_features = 1000,\n",
    "    )\n",
    "\n",
    "    print(\"Training tfidf extractor...\", end = \" \")\n",
    "    vectorizer.fit(df_vec['clean_text'])\n",
    "    print(\"Done!\")\n",
    "\n",
    "    print(\"Extracting tfidf features...\", end = \" \")\n",
    "    bag_of_words = vectorizer.transform(df_vec['clean_text']).toarray()\n",
    "    print(\"Done!\")\n",
    "    \n",
    "    with open(full_pickle, \"wb\") as pickle_out:\n",
    "        pickle.dump(bag_of_words, pickle_out)\n",
    "    print(f\"Saved tfidf features to {full_pickle}.\")\n",
    "    \n",
    "    tfidf = pd.DataFrame(\n",
    "        index = vectorizer.vocabulary_.keys(), \n",
    "        data = vectorizer.idf_, \n",
    "        columns = ['tf-idf']\n",
    "    )\n",
    "    tfidf = tfidf.sort_values(by = ['tf-idf'], ascending = False)\n",
    "    tfidf.to_csv(full_csv)\n",
    "    print(f\"Saved tfidf values to {full_csv}.\")\n",
    "\n",
    "else:\n",
    "    print(f\"Loading {full_pickle} and {full_csv}...\", end = \" \")\n",
    "    with open(full_pickle, \"rb\") as pickle_in:\n",
    "        bag_of_words = pickle.load(pickle_in)\n",
    "    tfidf = pd.read_csv(full_csv)\n",
    "    print(\"Done!\")\n",
    "    \n",
    "df_vec = pd.DataFrame(bag_of_words).join(df_vec['category'])\n",
    "df_vec = df_vec.dropna()\n",
    "df_vec.head()"
   ]
  },
  {
   "cell_type": "code",
   "execution_count": 12,
   "metadata": {},
   "outputs": [
    {
     "data": {
      "text/html": [
       "<div>\n",
       "<style scoped>\n",
       "    .dataframe tbody tr th:only-of-type {\n",
       "        vertical-align: middle;\n",
       "    }\n",
       "\n",
       "    .dataframe tbody tr th {\n",
       "        vertical-align: top;\n",
       "    }\n",
       "\n",
       "    .dataframe thead th {\n",
       "        text-align: right;\n",
       "    }\n",
       "</style>\n",
       "<table border=\"1\" class=\"dataframe\">\n",
       "  <thead>\n",
       "    <tr style=\"text-align: right;\">\n",
       "      <th></th>\n",
       "      <th>Unnamed: 0</th>\n",
       "      <th>tf-idf</th>\n",
       "    </tr>\n",
       "  </thead>\n",
       "  <tbody>\n",
       "    <tr>\n",
       "      <th>0</th>\n",
       "      <td>science</td>\n",
       "      <td>6.192856</td>\n",
       "    </tr>\n",
       "    <tr>\n",
       "      <th>1</th>\n",
       "      <td>processing</td>\n",
       "      <td>6.025802</td>\n",
       "    </tr>\n",
       "    <tr>\n",
       "      <th>2</th>\n",
       "      <td>detect</td>\n",
       "      <td>5.995496</td>\n",
       "    </tr>\n",
       "    <tr>\n",
       "      <th>3</th>\n",
       "      <td>robot</td>\n",
       "      <td>5.995496</td>\n",
       "    </tr>\n",
       "    <tr>\n",
       "      <th>4</th>\n",
       "      <td>conjecture</td>\n",
       "      <td>5.966083</td>\n",
       "    </tr>\n",
       "    <tr>\n",
       "      <th>5</th>\n",
       "      <td>atomic</td>\n",
       "      <td>5.882701</td>\n",
       "    </tr>\n",
       "    <tr>\n",
       "      <th>6</th>\n",
       "      <td>eigenvalue</td>\n",
       "      <td>5.869456</td>\n",
       "    </tr>\n",
       "    <tr>\n",
       "      <th>7</th>\n",
       "      <td>exponential</td>\n",
       "      <td>5.856384</td>\n",
       "    </tr>\n",
       "    <tr>\n",
       "      <th>8</th>\n",
       "      <td>angular</td>\n",
       "      <td>5.856384</td>\n",
       "    </tr>\n",
       "    <tr>\n",
       "      <th>9</th>\n",
       "      <td>field theory</td>\n",
       "      <td>5.843480</td>\n",
       "    </tr>\n",
       "  </tbody>\n",
       "</table>\n",
       "</div>"
      ],
      "text/plain": [
       "     Unnamed: 0    tf-idf\n",
       "0       science  6.192856\n",
       "1    processing  6.025802\n",
       "2        detect  5.995496\n",
       "3         robot  5.995496\n",
       "4    conjecture  5.966083\n",
       "5        atomic  5.882701\n",
       "6    eigenvalue  5.869456\n",
       "7   exponential  5.856384\n",
       "8       angular  5.856384\n",
       "9  field theory  5.843480"
      ]
     },
     "execution_count": 12,
     "metadata": {},
     "output_type": "execute_result"
    }
   ],
   "source": [
    "tfidf.iloc[:10]"
   ]
  },
  {
   "cell_type": "code",
   "execution_count": 13,
   "metadata": {},
   "outputs": [
    {
     "data": {
      "text/plain": [
       "<matplotlib.axes._subplots.AxesSubplot at 0x7f4c5d71a390>"
      ]
     },
     "execution_count": 13,
     "metadata": {},
     "output_type": "execute_result"
    },
    {
     "data": {
      "image/png": "[encoded data removed]",
      "text/plain": [
       "<Figure size 1080x720 with 1 Axes>"
      ]
     },
     "metadata": {},
     "output_type": "display_data"
    }
   ],
   "source": [
    "n = df_vec.shape[1] - 1\n",
    "X = np.asarray(df_vec.iloc[:, :n])\n",
    "X_2d = PCA(n_components = 2).fit_transform(X)\n",
    "df_vec_2d = pd.DataFrame(X_2d, columns = ['x', 'y'])\n",
    "\n",
    "fig, ax = plt.subplots(1, figsize = (15, 10))\n",
    "ax.set_xticks([])\n",
    "ax.set_yticks([])\n",
    "sns.scatterplot(data = df_vec_2d, x = 'x', y = 'y')"
   ]
  },
  {
   "cell_type": "markdown",
   "metadata": {},
   "source": [
    "## ELMo feature extraction"
   ]
  },
  {
   "cell_type": "markdown",
   "metadata": {},
   "source": [
    "To build our model we have to extract features from the titles and abstracts. We will be using ELMo, a state-of-the-art NLP framework developed by AllenNLP, which converts text input into vectors, with similar words being closer to each other. We will first download the ELMo model. It is over 350mb in size, so it might take a little while."
   ]
  },
  {
   "cell_type": "raw",
   "metadata": {},
   "source": [
    "if not os.path.isdir(\"elmo\"):\n",
    "    # download ELMo model\n",
    "    print(\"Downloading compressed ELMo model...\", end = \" \")\n",
    "    url = \"https://tfhub.dev/google/elmo/2?tf-hub-format=compressed\"\n",
    "    wget.download(url, out=\"elmo.tar.gz\")\n",
    "    print(\"Done!\")\n",
    "\n",
    "    # uncompress ELMo model\n",
    "    print(\"Uncompressing into the 'elmo' directory...\", end = \" \")\n",
    "    os.system(\"mkdir elmo\") # create directory\n",
    "    with tarfile.open(\"elmo.tar.gz\") as tar:\n",
    "        tar.extractall(\"elmo\")\n",
    "    os.remove(\"elmo.tar.gz\")\n",
    "    print(\"Done!\")\n",
    "else:\n",
    "    print(\"The 'elmo' directory already exists, so assuming that the model has been downloaded.\")"
   ]
  },
  {
   "cell_type": "markdown",
   "metadata": {},
   "source": [
    "We now need to extract ELMo features from our cleaned text data. This is done using the `extract` function from `elmo.py`. This usually takes a LONG time."
   ]
  },
  {
   "cell_type": "raw",
   "metadata": {},
   "source": [
    "from elmo import extract\n",
    "\n",
    "df_vec = df_lemm.copy()\n",
    "\n",
    "if not os.path.isfile(f\"data/{file_name}_elmo.pickle\"):\n",
    "    # extract ELMo data\n",
    "    elmo_data = extract(\n",
    "        df_vec['clean_text'], \n",
    "        batch_size = 10 # lower batch size gives less accurate vectors but requires less RAM\n",
    "    )\n",
    "\n",
    "    # save ELMo data\n",
    "    with open(f\"data/{file_name}_elmo.pickle\", \"wb\") as pickle_out:\n",
    "        pickle.dump(elmo_data, pickle_out)\n",
    "\n",
    "    print(f\"ELMo extraction completed. Also saved elmo data to data/{file_name}.elmo.pickle.\")\n",
    "else:\n",
    "    # load ELMo data\n",
    "    with open(f\"data/{file_name}_elmo.pickle\", \"rb\") as pickle_in:\n",
    "        elmo_data = pickle.load(pickle_in)\n",
    "\n",
    "    print(f\"ELMo data loaded from data/{file_name}_elmo.pickle.\")\n",
    "\n",
    "df_vec = pd.DataFrame(elmo_data).join(df_vec['category'])\n",
    "df_vec = df_vec.dropna()\n",
    "\n",
    "print(f\"Dimensions of df_vec: {df_vec.shape}\")\n",
    "\n",
    "df_vec.head()"
   ]
  },
  {
   "cell_type": "raw",
   "metadata": {
    "scrolled": false
   },
   "source": [
    "n = df_vec.shape[1] - 1\n",
    "X = np.asarray(df_vec.iloc[:, :n])\n",
    "X_2d = PCA(n_components = 2).fit_transform(X)\n",
    "df_vec_2d = pd.DataFrame(X_2d, columns = ['x', 'y'])\n",
    "\n",
    "fig, ax = plt.subplots(1, figsize = (15, 10))\n",
    "ax.set_xticks([])\n",
    "ax.set_yticks([])\n",
    "sns.scatterplot(data = df_vec_2d, x = 'x', y = 'y')"
   ]
  },
  {
   "cell_type": "markdown",
   "metadata": {},
   "source": [
    "## One-hot encoding of categories"
   ]
  },
  {
   "cell_type": "markdown",
   "metadata": {},
   "source": [
    "We then perform a one hot encoding for the category variable, as this will make training our model easier. We do this by first creating a dataframe with columns the categories and binary values for every paper, and then concatenate our original dataframe with the binary values."
   ]
  },
  {
   "cell_type": "raw",
   "metadata": {
    "scrolled": true
   },
   "source": [
    "def cats_to_binary(categories):\n",
    "    '''\n",
    "    Turns categories into a 0-1 sequence with 1's at every category index.\n",
    "    \n",
    "    INPUT\n",
    "        categories, an iterable of strings\n",
    "    \n",
    "    OUTPUT\n",
    "        numpy array with 1 at the category indexes and zeros everywhere else\n",
    "    '''\n",
    "    return np.in1d(cats, categories).astype('int8')\n",
    "\n",
    "print(\"One-hot encoding...\", end = \" \")\n",
    "\n",
    "df_1hot = df_vec.copy()\n",
    "\n",
    "# populate cats_df with the information from df\n",
    "bincat_arr = np.array([cats_to_binary(cat_list) for cat_list in df_1hot['category']]).transpose()\n",
    "bincat_dict = {key:value for (key,value) in zip(cats, bincat_arr)}\n",
    "bincat_df = pd.DataFrame.from_dict(bincat_dict)\n",
    "\n",
    "# concatenate df with the columns in cats_df\n",
    "df_1hot = pd.concat([df_1hot, bincat_df], axis=1, sort=False)\n",
    "\n",
    "# drop the category column\n",
    "df_1hot.drop(['category'], axis=1, inplace=True)\n",
    "\n",
    "# save dataframe\n",
    "df_1hot.to_csv(f\"data/{file_name}_tfidf.csv\")\n",
    "\n",
    "print(\"Done!\")\n",
    "\n",
    "# show the new columns of the data frame\n",
    "pd.set_option('display.max_colwidth', 10)\n",
    "print(f\"Dimensions of df_1hot: {df_1hot.shape}.\")\n",
    "df_1hot.head()"
   ]
  },
  {
   "cell_type": "markdown",
   "metadata": {},
   "source": [
    "## Analysis of the data"
   ]
  },
  {
   "cell_type": "markdown",
   "metadata": {},
   "source": [
    "Here is how the categories in our data set are distributed."
   ]
  },
  {
   "cell_type": "raw",
   "metadata": {
    "scrolled": true
   },
   "source": [
    "# save a dataframe with the amount of papers in each category\n",
    "sum_cats = bincat_df.apply(lambda x: x.sum())\n",
    "\n",
    "# get statistical information about the distribution of the amount of papers\n",
    "sum_cats.describe()"
   ]
  },
  {
   "cell_type": "raw",
   "metadata": {
    "scrolled": false
   },
   "source": [
    "# plot the distribution of the amount of papers in each category\n",
    "plt.figure(figsize=(20,10))\n",
    "plt.bar(x=sum_cats.keys(), height=sum_cats.values)\n",
    "plt.xlabel('Categories', fontsize=13)\n",
    "plt.ylabel('Number of papers', fontsize=13)\n",
    "plt.title('Distribution of categories in data set', fontsize=18)\n",
    "plt.xticks([])\n",
    "plt.show()"
   ]
  },
  {
   "cell_type": "markdown",
   "metadata": {},
   "source": [
    "We see that our data is not particularly uniformly distributed. These are the categories with the most amount of papers in the data set."
   ]
  },
  {
   "cell_type": "raw",
   "metadata": {
    "scrolled": true
   },
   "source": [
    "# add the counts to the dataframe and sort \n",
    "cats_df['count'] = sum_cats.values\n",
    "cats_df = cats_df.sort_values(by=['count'], ascending=True)\n",
    "\n",
    "pd.set_option('display.max_colwidth', 50)\n",
    "cats_df[:5]"
   ]
  },
  {
   "cell_type": "code",
   "execution_count": 14,
   "metadata": {},
   "outputs": [],
   "source": [
    "def aggregate_cat(cat):\n",
    "    if cat[:8] == 'astro-ph':\n",
    "        agg_cat = 'physics'\n",
    "    elif cat[:2] == 'cs':\n",
    "        agg_cat = 'cs'\n",
    "    elif cat[:5] == 'gr-qc':\n",
    "        agg_cat = 'physics'\n",
    "    elif cat[:3] == 'hep':\n",
    "        agg_cat = 'physics'\n",
    "    elif cat[:4] == 'math':\n",
    "        agg_cat = 'math'\n",
    "    elif cat[:4] == 'nlin':\n",
    "        agg_cat = 'physics'\n",
    "    elif cat[:4] == 'nucl':\n",
    "        agg_cat = 'physics'\n",
    "    elif cat[:7] == 'physics':\n",
    "        agg_cat = 'physics'\n",
    "    elif cat[:8] == 'quant-ph':\n",
    "        agg_cat = 'physics'\n",
    "    elif cat[:4] == 'stat':\n",
    "        agg_cat = 'stats'\n",
    "    else:\n",
    "        agg_cat = 'other'\n",
    "    return agg_cat\n",
    "\n",
    "def aggregate_cats(cats):\n",
    "    return np.asarray([aggregate_cat(cat) for cat in cats])"
   ]
  },
  {
   "cell_type": "code",
   "execution_count": 15,
   "metadata": {},
   "outputs": [
    {
     "name": "stdout",
     "output_type": "stream",
     "text": [
      "Aggregated categories:\n",
      "['physics' 'other' 'cs' 'math' 'stats']\n"
     ]
    }
   ],
   "source": [
    "agg_cats_df = cats_df.copy()\n",
    "agg_cats_df['category'] = agg_cats_df['category'].apply(aggregate_cat)\n",
    "agg_cats = np.asarray(agg_cats_df['category'].unique())\n",
    "print(\"Aggregated categories:\")\n",
    "print(agg_cats)"
   ]
  },
  {
   "cell_type": "code",
   "execution_count": 16,
   "metadata": {
    "scrolled": true
   },
   "outputs": [
    {
     "name": "stdout",
     "output_type": "stream",
     "text": [
      "One-hot encoding... Done!\n",
      "Dimensions of df_1hot: (9898, 1005).\n"
     ]
    },
    {
     "data": {
      "text/html": [
       "<div>\n",
       "<style scoped>\n",
       "    .dataframe tbody tr th:only-of-type {\n",
       "        vertical-align: middle;\n",
       "    }\n",
       "\n",
       "    .dataframe tbody tr th {\n",
       "        vertical-align: top;\n",
       "    }\n",
       "\n",
       "    .dataframe thead th {\n",
       "        text-align: right;\n",
       "    }\n",
       "</style>\n",
       "<table border=\"1\" class=\"dataframe\">\n",
       "  <thead>\n",
       "    <tr style=\"text-align: right;\">\n",
       "      <th></th>\n",
       "      <th>0</th>\n",
       "      <th>1</th>\n",
       "      <th>2</th>\n",
       "      <th>3</th>\n",
       "      <th>4</th>\n",
       "      <th>5</th>\n",
       "      <th>6</th>\n",
       "      <th>7</th>\n",
       "      <th>8</th>\n",
       "      <th>9</th>\n",
       "      <th>...</th>\n",
       "      <th>995</th>\n",
       "      <th>996</th>\n",
       "      <th>997</th>\n",
       "      <th>998</th>\n",
       "      <th>999</th>\n",
       "      <th>physics</th>\n",
       "      <th>other</th>\n",
       "      <th>cs</th>\n",
       "      <th>math</th>\n",
       "      <th>stats</th>\n",
       "    </tr>\n",
       "  </thead>\n",
       "  <tbody>\n",
       "    <tr>\n",
       "      <th>0</th>\n",
       "      <td>0.0</td>\n",
       "      <td>0.0</td>\n",
       "      <td>0.0</td>\n",
       "      <td>0.0</td>\n",
       "      <td>0.000000</td>\n",
       "      <td>0.0</td>\n",
       "      <td>0.09536</td>\n",
       "      <td>0.0</td>\n",
       "      <td>0.0</td>\n",
       "      <td>0.0</td>\n",
       "      <td>...</td>\n",
       "      <td>0.0</td>\n",
       "      <td>0.0</td>\n",
       "      <td>0.0</td>\n",
       "      <td>0.0</td>\n",
       "      <td>0.000000</td>\n",
       "      <td>1</td>\n",
       "      <td>0</td>\n",
       "      <td>0</td>\n",
       "      <td>0</td>\n",
       "      <td>0</td>\n",
       "    </tr>\n",
       "    <tr>\n",
       "      <th>1</th>\n",
       "      <td>0.0</td>\n",
       "      <td>0.0</td>\n",
       "      <td>0.0</td>\n",
       "      <td>0.0</td>\n",
       "      <td>0.000000</td>\n",
       "      <td>0.0</td>\n",
       "      <td>0.00000</td>\n",
       "      <td>0.0</td>\n",
       "      <td>0.0</td>\n",
       "      <td>0.0</td>\n",
       "      <td>...</td>\n",
       "      <td>0.0</td>\n",
       "      <td>0.0</td>\n",
       "      <td>0.0</td>\n",
       "      <td>0.0</td>\n",
       "      <td>0.000000</td>\n",
       "      <td>0</td>\n",
       "      <td>0</td>\n",
       "      <td>1</td>\n",
       "      <td>0</td>\n",
       "      <td>0</td>\n",
       "    </tr>\n",
       "    <tr>\n",
       "      <th>2</th>\n",
       "      <td>0.0</td>\n",
       "      <td>0.0</td>\n",
       "      <td>0.0</td>\n",
       "      <td>0.0</td>\n",
       "      <td>0.072009</td>\n",
       "      <td>0.0</td>\n",
       "      <td>0.00000</td>\n",
       "      <td>0.0</td>\n",
       "      <td>0.0</td>\n",
       "      <td>0.0</td>\n",
       "      <td>...</td>\n",
       "      <td>0.0</td>\n",
       "      <td>0.0</td>\n",
       "      <td>0.0</td>\n",
       "      <td>0.0</td>\n",
       "      <td>0.000000</td>\n",
       "      <td>1</td>\n",
       "      <td>0</td>\n",
       "      <td>0</td>\n",
       "      <td>1</td>\n",
       "      <td>0</td>\n",
       "    </tr>\n",
       "    <tr>\n",
       "      <th>3</th>\n",
       "      <td>0.0</td>\n",
       "      <td>0.0</td>\n",
       "      <td>0.0</td>\n",
       "      <td>0.0</td>\n",
       "      <td>0.000000</td>\n",
       "      <td>0.0</td>\n",
       "      <td>0.00000</td>\n",
       "      <td>0.0</td>\n",
       "      <td>0.0</td>\n",
       "      <td>0.0</td>\n",
       "      <td>...</td>\n",
       "      <td>0.0</td>\n",
       "      <td>0.0</td>\n",
       "      <td>0.0</td>\n",
       "      <td>0.0</td>\n",
       "      <td>0.081569</td>\n",
       "      <td>0</td>\n",
       "      <td>0</td>\n",
       "      <td>1</td>\n",
       "      <td>0</td>\n",
       "      <td>0</td>\n",
       "    </tr>\n",
       "    <tr>\n",
       "      <th>4</th>\n",
       "      <td>0.0</td>\n",
       "      <td>0.0</td>\n",
       "      <td>0.0</td>\n",
       "      <td>0.0</td>\n",
       "      <td>0.000000</td>\n",
       "      <td>0.0</td>\n",
       "      <td>0.00000</td>\n",
       "      <td>0.0</td>\n",
       "      <td>0.0</td>\n",
       "      <td>0.0</td>\n",
       "      <td>...</td>\n",
       "      <td>0.0</td>\n",
       "      <td>0.0</td>\n",
       "      <td>0.0</td>\n",
       "      <td>0.0</td>\n",
       "      <td>0.000000</td>\n",
       "      <td>0</td>\n",
       "      <td>0</td>\n",
       "      <td>1</td>\n",
       "      <td>0</td>\n",
       "      <td>0</td>\n",
       "    </tr>\n",
       "  </tbody>\n",
       "</table>\n",
       "<p>5 rows × 1005 columns</p>\n",
       "</div>"
      ],
      "text/plain": [
       "     0    1    2    3         4    5        6    7    8    9  ...  995  996  \\\n",
       "0  0.0  0.0  0.0  0.0  0.000000  0.0  0.09536  0.0  0.0  0.0  ...  0.0  0.0   \n",
       "1  0.0  0.0  0.0  0.0  0.000000  0.0  0.00000  0.0  0.0  0.0  ...  0.0  0.0   \n",
       "2  0.0  0.0  0.0  0.0  0.072009  0.0  0.00000  0.0  0.0  0.0  ...  0.0  0.0   \n",
       "3  0.0  0.0  0.0  0.0  0.000000  0.0  0.00000  0.0  0.0  0.0  ...  0.0  0.0   \n",
       "4  0.0  0.0  0.0  0.0  0.000000  0.0  0.00000  0.0  0.0  0.0  ...  0.0  0.0   \n",
       "\n",
       "   997  998       999  physics  other  cs  math  stats  \n",
       "0  0.0  0.0  0.000000        1      0   0     0      0  \n",
       "1  0.0  0.0  0.000000        0      0   1     0      0  \n",
       "2  0.0  0.0  0.000000        1      0   0     1      0  \n",
       "3  0.0  0.0  0.081569        0      0   1     0      0  \n",
       "4  0.0  0.0  0.000000        0      0   1     0      0  \n",
       "\n",
       "[5 rows x 1005 columns]"
      ]
     },
     "execution_count": 16,
     "metadata": {},
     "output_type": "execute_result"
    }
   ],
   "source": [
    "def agg_cats_to_binary(categories):\n",
    "    '''\n",
    "    Turns aggregated categories into a 0-1 sequence with 1's at every category index.\n",
    "    \n",
    "    INPUT\n",
    "        categories, an iterable of strings\n",
    "    \n",
    "    OUTPUT\n",
    "        numpy array with 1 at the category indexes and zeros everywhere else\n",
    "    '''\n",
    "    agg_categories = aggregate_cats(categories)\n",
    "    return np.in1d(agg_cats, agg_categories).astype('int8')\n",
    "\n",
    "print(\"One-hot encoding...\", end = \" \")\n",
    "\n",
    "df_1hot_agg = df_vec.copy()\n",
    "\n",
    "# populate cats_df with the information from df\n",
    "bincat_arr = np.array([agg_cats_to_binary(cat_list) for cat_list in df_1hot_agg['category']]).transpose()\n",
    "bincat_dict = {key:value for (key,value) in zip(agg_cats, bincat_arr)}\n",
    "bincat_df = pd.DataFrame.from_dict(bincat_dict)\n",
    "\n",
    "# concatenate df with the columns in cats_df\n",
    "df_1hot_agg = pd.concat([df_1hot_agg, bincat_df], axis=1, sort=False)\n",
    "\n",
    "# drop the category column\n",
    "df_1hot_agg.drop(['category'], axis=1, inplace=True)\n",
    "\n",
    "print(\"Done!\")\n",
    "\n",
    "# show the new columns of the data frame\n",
    "pd.set_option('display.max_colwidth', 10)\n",
    "print(f\"Dimensions of df_1hot: {df_1hot_agg.shape}.\")\n",
    "df_1hot_agg.head()"
   ]
  },
  {
   "cell_type": "code",
   "execution_count": 17,
   "metadata": {},
   "outputs": [
    {
     "data": {
      "image/png": "[encoded data removed]",
      "text/plain": [
       "<Figure size 1440x720 with 1 Axes>"
      ]
     },
     "metadata": {
      "needs_background": "light"
     },
     "output_type": "display_data"
    }
   ],
   "source": [
    "# save a dataframe with the amount of papers in each category\n",
    "sum_cats = bincat_df.apply(lambda x: x.sum())\n",
    "\n",
    "# plot the distribution of the amount of papers in each category\n",
    "plt.figure(figsize=(20,10))\n",
    "plt.bar(x=sum_cats.keys(), height=sum_cats.values)\n",
    "plt.xlabel('Categories', fontsize=13)\n",
    "plt.ylabel('Number of papers', fontsize=13)\n",
    "plt.title('Distribution of categories in data set', fontsize=18)\n",
    "plt.show()"
   ]
  },
  {
   "cell_type": "markdown",
   "metadata": {},
   "source": [
    "## Choosing a model"
   ]
  },
  {
   "cell_type": "markdown",
   "metadata": {},
   "source": [
    "We are now done manipulating our data, and the time has come to build a model."
   ]
  },
  {
   "cell_type": "code",
   "execution_count": 18,
   "metadata": {},
   "outputs": [],
   "source": [
    "from skmultilearn.adapt import MLkNN\n",
    "from sklearn.model_selection import GridSearchCV, train_test_split\n",
    "from sklearn.metrics import hamming_loss, make_scorer, f1_score"
   ]
  },
  {
   "cell_type": "code",
   "execution_count": 19,
   "metadata": {},
   "outputs": [],
   "source": [
    "n = df_vec.shape[1] - 1\n",
    "X = np.asarray(df_1hot_agg.iloc[:, 0:n])\n",
    "Y = np.asarray(df_1hot_agg.iloc[:, n:])\n",
    "X_train, X_test, Y_train, Y_test = train_test_split(X, Y)"
   ]
  },
  {
   "cell_type": "code",
   "execution_count": 20,
   "metadata": {},
   "outputs": [],
   "source": [
    "def micro_avg_precision(Y_test, Y_hat):\n",
    "    TPs = np.sum(Y_hat.multiply(Y_test).todense())\n",
    "    return TPs / np.sum(Y_hat)\n",
    "\n",
    "def micro_avg_recall(Y_test, Y_hat):\n",
    "    TPs = np.sum(Y_hat.multiply(Y_test).todense())\n",
    "    return TPs / np.sum(Y_test)\n",
    "\n",
    "def micro_avg_f1(Y_test, Y_hat):\n",
    "    prec = micro_avg_precision(Y_test, Y_hat)\n",
    "    rec = micro_avg_recall(Y_test, Y_hat)\n",
    "    return 2 * prec * rec / (prec + rec)\n",
    "\n",
    "micro_avg_f1_score = make_scorer(micro_avg_f1)"
   ]
  },
  {
   "cell_type": "code",
   "execution_count": 21,
   "metadata": {},
   "outputs": [
    {
     "name": "stdout",
     "output_type": "stream",
     "text": [
      "Training model... Done!\n"
     ]
    }
   ],
   "source": [
    "print(\"Training model...\", end = \" \")\n",
    "clf = MLkNN(k = 3)\n",
    "clf.fit(X_train, Y_train)\n",
    "print(\"Done!\")"
   ]
  },
  {
   "cell_type": "code",
   "execution_count": 22,
   "metadata": {},
   "outputs": [
    {
     "name": "stdout",
     "output_type": "stream",
     "text": [
      "~~~ TRAINING DATA ~~~\n",
      "Micro-average precision: 0.7167993297025556\n",
      "Micro-average recall: 0.5225491194136211\n",
      "Micro-average f1 score: 0.6044512482336316\n",
      "MACRO-average f1 score: 0.5234140209791864\n",
      "\n",
      "~~~ TEST DATA ~~~\n",
      "Micro-average precision: 0.32687447346251053\n",
      "Micro-average recall: 0.2355798421372192\n",
      "Micro-average f1 score: 0.273817925194072\n",
      "MACRO-average f1 score: 0.21346223822728527\n"
     ]
    }
   ],
   "source": [
    "print(\"~~~ TRAINING DATA ~~~\")\n",
    "Y_hat = clf.predict(X_train)\n",
    "print(f\"Micro-average precision: {micro_avg_precision(Y_train, Y_hat)}\")\n",
    "print(f\"Micro-average recall: {micro_avg_recall(Y_train, Y_hat)}\")\n",
    "print(f\"Micro-average f1 score: {micro_avg_f1(Y_train, Y_hat)}\")\n",
    "print(f\"MACRO-average f1 score: {f1_score(Y_train, Y_hat, average = 'macro')}\")\n",
    "print(\"\")\n",
    "\n",
    "print(\"~~~ TEST DATA ~~~\")\n",
    "Y_hat = clf.predict(X_test)\n",
    "print(f\"Micro-average precision: {micro_avg_precision(Y_test, Y_hat)}\")\n",
    "print(f\"Micro-average recall: {micro_avg_recall(Y_test, Y_hat)}\")\n",
    "print(f\"Micro-average f1 score: {micro_avg_f1(Y_test, Y_hat)}\")\n",
    "print(f\"MACRO-average f1 score: {f1_score(Y_test, Y_hat, average = 'macro')}\")"
   ]
  },
  {
   "cell_type": "markdown",
   "metadata": {},
   "source": [
    "#### Micro-average f1 scores for aggregation with `MLkNN(k = 3)` and `TfidfVectorizer(max_features = 1000)`:\n",
    "* 1,000 samples:\n",
    "    * Train score: 0.6072455434157562\n",
    "    * Test score: 0.32055749128919864\n",
    "* 5,000 samples:\n",
    "    * Train score: 0.6154025399044624\n",
    "    * Test score: 0.29947275922671357\n",
    "* 10,000 samples:\n",
    "    * Train score: 0.6023466542750929\n",
    "    * Test score: 0.26957592820693294\n",
    "* 25,000 samples:\n",
    "    * Train score: 0.6091259190103863\n",
    "    * Test score: 0.29261856815498927\n",
    "* 50,000 samples:\n",
    "    * Train score: \n",
    "    * Test score: \n",
    "* 100,000 samples:\n",
    "    * Train score: \n",
    "    * Test score:  "
   ]
  },
  {
   "cell_type": "markdown",
   "metadata": {},
   "source": [
    "#### Micro-average f1 scores for aggregation with  `MLkNN(k = 3)` and  `ELMo(batch_size = 10)`:\n",
    "* 1,000 samples:\n",
    "    * Train score: 0.6008182349503214\n",
    "    * Test score: 0.28125\n",
    "* 5,000 samples:\n",
    "    * Train score: 0.6135125738787809\n",
    "    * Test score: 0.27739251040221913\n",
    "* 10,000 samples:\n",
    "    * Train score: 0.6075919475765984\n",
    "    * Test score: 0.30265920223932824\n",
    "* 25,000 samples:\n",
    "    * Train score: 0.6054086846956156\n",
    "    * Test score: 0.2851554313657003\n",
    "* 50,000 samples:\n",
    "    * Train score: \n",
    "    * Test score: \n",
    "* 100,000 samples:\n",
    "    * Train score: \n",
    "    * Test score:  "
   ]
  },
  {
   "cell_type": "code",
   "execution_count": 23,
   "metadata": {},
   "outputs": [
    {
     "name": "stdout",
     "output_type": "stream",
     "text": [
      "Doing a grid search... Done!\n",
      "The best parameters are {'k': 1, 's': 0.5}\n",
      "The best score was 0.3111275375971436.\n"
     ]
    }
   ],
   "source": [
    "parameters = {'k': range(1,5), 's': [0.5, 0.75, 1.0]}\n",
    "\n",
    "print(\"Doing a grid search...\", end = \" \")\n",
    "grid_search = GridSearchCV(MLkNN(), parameters, scoring = micro_avg_f1_score, cv = 5)\n",
    "grid_search.fit(X, Y)\n",
    "print(\"Done!\")\n",
    "\n",
    "print(f\"The best parameters are {grid_search.best_params_}\")\n",
    "print(f\"The best score was {grid_search.best_score_}.\")"
   ]
  },
  {
   "cell_type": "markdown",
   "metadata": {},
   "source": [
    "#### Grid searched micro-average f1 scores for aggregation with `MLkNN` and `TfidfVectorizer(max_features = 1000)`:\n",
    "* 1,000 samples:\n",
    "    * Best k: 2\n",
    "    * Best s: 0.5\n",
    "    * Score: 0.3873442618436344\n",
    "* 5,000 samples:\n",
    "    * Best k: 1\n",
    "    * Best s: 0.5\n",
    "    * Score: 0.3171409097332802\n",
    "* 10,000 samples:\n",
    "    * Best k: 1\n",
    "    * Best s: 0.5\n",
    "    * Score: 0.3111275375971436\n",
    "* 25,000 samples:\n",
    "    * Best k: \n",
    "    * Best s: \n",
    "    * Score: \n",
    "* 50,000 samples:\n",
    "    * Best k: \n",
    "    * Best s: \n",
    "    * Score: \n",
    "* 100,000 samples:\n",
    "    * Best k: \n",
    "    * Best s: \n",
    "    * Score: "
   ]
  },
  {
   "cell_type": "code",
   "execution_count": 24,
   "metadata": {},
   "outputs": [],
   "source": [
    "clf = grid_search.best_estimator_\n",
    "\n",
    "with open(f\"data/{file_name}_model.pickle\", \"wb\") as pickle_out:\n",
    "    pickle.dump(clf, pickle_out)"
   ]
  }
 ],
 "metadata": {
  "kernelspec": {
   "display_name": "Python 3",
   "language": "python",
   "name": "python3"
  },
  "language_info": {
   "codemirror_mode": {
    "name": "ipython",
    "version": 3
   },
   "file_extension": ".py",
   "mimetype": "text/x-python",
   "name": "python",
   "nbconvert_exporter": "python",
   "pygments_lexer": "ipython3",
   "version": "3.7.1"
  }
 },
 "nbformat": 4,
 "nbformat_minor": 2
}
