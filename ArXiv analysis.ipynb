{
 "cells": [
  {
   "cell_type": "markdown",
   "metadata": {},
   "source": [
    "<h1>Analysis of Preprint Papers from the ArXiv</h1>"
   ]
  },
  {
   "cell_type": "markdown",
   "metadata": {},
   "source": [
    "The website https://arxiv.org is a popular database for scientific papers in STEM fields. ArXiv has its own classification system consisting of roughly 150 different categories, which are manually added by the authors whenever a new paper is uploaded. A paper can be assigned multiple categories.\n",
    "\n",
    "The goal for this project is to develop a machine learning model which can predict the ArXiv category from a given title and abstract. The data set used here has been scraped from the <a href=\"https://arxiv.org/help/api\">ArXiv API</a> over several days, using a Python scraper which can be downloaded from\n",
    "\n",
    "<p><center><a href=https://github.com/saattrupdan/scholarly/blob/master/arxiv_scraper.py>https://github.com/saattrupdan/scholarly/blob/master/arxiv_scraper.py.</a>.</center></p>"
   ]
  },
  {
   "cell_type": "markdown",
   "metadata": {},
   "source": [
    "I have downloaded two data sets using this scraper, which can be freely downloaded below:\n",
    "<ul>\n",
    "    <li> The <tt>arxiv.csv</tt> file includes at most 10,000 papers from every ArXiv category. This data set is very large (~1.2gb) and takes a day or two to scrape.</li>\n",
    "    <li> The <tt>arxiv_small.csv</tt> file is more manageable (~200mb) and includes at most 1,000 papers from every ArXiv category.</li>\n",
    "</ul>"
   ]
  },
  {
   "cell_type": "raw",
   "metadata": {},
   "source": [
    "# download the large data set\n",
    "!wget -O arxiv.csv https://filedn.com/lRBwPhPxgV74tO0rDoe8SpH/arxiv.csv"
   ]
  },
  {
   "cell_type": "raw",
   "metadata": {},
   "source": [
    "# download the small data set\n",
    "!wget -O arxiv_small.csv https://filedn.com/lRBwPhPxgV74tO0rDoe8SpH/arxiv_small.csv"
   ]
  },
  {
   "cell_type": "markdown",
   "metadata": {},
   "source": [
    "We will also need a list of all the ArXiv categories, which can be downloaded below:"
   ]
  },
  {
   "cell_type": "raw",
   "metadata": {},
   "source": [
    "# download categories as csv\n",
    "!wget -O cats.csv https://filedn.com/lRBwPhPxgV74tO0rDoe8SpH/cats.csv"
   ]
  },
  {
   "cell_type": "markdown",
   "metadata": {},
   "source": [
    "<h2> Fetching data </h2>"
   ]
  },
  {
   "cell_type": "markdown",
   "metadata": {},
   "source": [
    "We start by importing all the packages we will need."
   ]
  },
  {
   "cell_type": "code",
   "execution_count": 1,
   "metadata": {},
   "outputs": [],
   "source": [
    "import pandas as pd\n",
    "import numpy as np\n",
    "import matplotlib.pyplot as plt\n",
    "import re # regular expressions\n",
    "import pickle # enables saving data and models locally"
   ]
  },
  {
   "cell_type": "markdown",
   "metadata": {},
   "source": [
    "We first set the file name we're interested in and load up the categories."
   ]
  },
  {
   "cell_type": "code",
   "execution_count": 2,
   "metadata": {},
   "outputs": [],
   "source": [
    "# the file name of the data set, e.g. 'arxiv' or 'arxiv_small'\n",
    "file_name = 'arxiv_small'\n",
    "\n",
    "# load array of categories\n",
    "cats = np.asarray(pd.read_csv(\"cats.csv\")['category'].values)"
   ]
  },
  {
   "cell_type": "markdown",
   "metadata": {},
   "source": [
    "Next up we load the data into a dataframe. This takes a while, which is why we are also saving it locally."
   ]
  },
  {
   "cell_type": "code",
   "execution_count": null,
   "metadata": {},
   "outputs": [],
   "source": [
    "def nan_if_empty(x):\n",
    "    arr = np.asarray(x)\n",
    "    if arr.size == 0:\n",
    "        return np.nan\n",
    "    else:\n",
    "        return arr\n",
    "\n",
    "def remove_non_cats(x):\n",
    "    return np.intersect1d(np.asarray(x), cats)\n",
    "\n",
    "def str_to_arr(x):\n",
    "    return np.asarray(re.sub('[\\' \\[\\]]', '', x).split(','))\n",
    "\n",
    "def clean_cats(x):\n",
    "    return nan_if_empty(remove_non_cats(str_to_arr(x)))"
   ]
  },
  {
   "cell_type": "code",
   "execution_count": null,
   "metadata": {},
   "outputs": [],
   "source": [
    "# only compile this the first time\n",
    "\n",
    "# set up dataframe, which also converts the category variable from a string to a list\n",
    "#df = pd.read_csv(f'{file_name}.csv', converters={'category': clean_cats})[['title', 'abstract', 'category']]\n",
    "\n",
    "# save dataframe to {file_name}_df.pickle\n",
    "#with open(f\"{file_name}_df.pickle\",\"wb\") as pickle_out:\n",
    "#    pickle.dump(df, pickle_out)\n",
    "\n",
    "#print(f\"Dataframe saved to {file_name}_df.pickle.\")"
   ]
  },
  {
   "cell_type": "code",
   "execution_count": 3,
   "metadata": {
    "scrolled": false
   },
   "outputs": [
    {
     "name": "stdout",
     "output_type": "stream",
     "text": [
      "Loaded metadata from 150479 papers. Here are some of them:\n"
     ]
    },
    {
     "data": {
      "text/html": [
       "<div>\n",
       "<style scoped>\n",
       "    .dataframe tbody tr th:only-of-type {\n",
       "        vertical-align: middle;\n",
       "    }\n",
       "\n",
       "    .dataframe tbody tr th {\n",
       "        vertical-align: top;\n",
       "    }\n",
       "\n",
       "    .dataframe thead th {\n",
       "        text-align: right;\n",
       "    }\n",
       "</style>\n",
       "<table border=\"1\" class=\"dataframe\">\n",
       "  <thead>\n",
       "    <tr style=\"text-align: right;\">\n",
       "      <th></th>\n",
       "      <th>title</th>\n",
       "      <th>abstract</th>\n",
       "      <th>category</th>\n",
       "    </tr>\n",
       "  </thead>\n",
       "  <tbody>\n",
       "    <tr>\n",
       "      <th>113579</th>\n",
       "      <td>Standing fast: Translation among durable representations using\\n  evanescent representations in upper-division problem solving</td>\n",
       "      <td>Mastering problem solving requires students to not only understand and apply\\nphysics concepts but also employ mathematics and mathematical representations\\n(sketches, diagrams, graphs, gestures, equations and spoken language)\\nskillfully. As part of a larger project to investigate problem sol...</td>\n",
       "      <td>[physics.ed-ph]</td>\n",
       "    </tr>\n",
       "    <tr>\n",
       "      <th>23259</th>\n",
       "      <td>CaseNet: Content-Adaptive Scale Interaction Networks for Scene Parsing</td>\n",
       "      <td>Objects in an image exhibit diverse scales. Adaptive receptive fields are\\nexpected to catch suitable range of context for accurate pixel level semantic\\nprediction for handling objects of diverse sizes. Recently, atrous convolution\\nwith different dilation rates has been used to generate feat...</td>\n",
       "      <td>[cs.CV]</td>\n",
       "    </tr>\n",
       "    <tr>\n",
       "      <th>7679</th>\n",
       "      <td>Delocalization and ergodicity of the Anderson model on Bethe lattices</td>\n",
       "      <td>We review the state of the art on the delocalized non-ergodic regime of the\\nAnderson model on Bethe lattices. We also present new results using Belief\\nPropagation, which consists in solving the self-consistent recursion relations\\nfor the Green's functions directly on a given sample. This al...</td>\n",
       "      <td>[cond-mat.dis-nn, cond-mat.stat-mech]</td>\n",
       "    </tr>\n",
       "  </tbody>\n",
       "</table>\n",
       "</div>"
      ],
      "text/plain": [
       "                                                                                                                                 title  \\\n",
       "113579  Standing fast: Translation among durable representations using\\n  evanescent representations in upper-division problem solving   \n",
       "23259                                                           CaseNet: Content-Adaptive Scale Interaction Networks for Scene Parsing   \n",
       "7679                                                             Delocalization and ergodicity of the Anderson model on Bethe lattices   \n",
       "\n",
       "                                                                                                                                                                                                                                                                                                           abstract  \\\n",
       "113579    Mastering problem solving requires students to not only understand and apply\\nphysics concepts but also employ mathematics and mathematical representations\\n(sketches, diagrams, graphs, gestures, equations and spoken language)\\nskillfully. As part of a larger project to investigate problem sol...   \n",
       "23259     Objects in an image exhibit diverse scales. Adaptive receptive fields are\\nexpected to catch suitable range of context for accurate pixel level semantic\\nprediction for handling objects of diverse sizes. Recently, atrous convolution\\nwith different dilation rates has been used to generate feat...   \n",
       "7679      We review the state of the art on the delocalized non-ergodic regime of the\\nAnderson model on Bethe lattices. We also present new results using Belief\\nPropagation, which consists in solving the self-consistent recursion relations\\nfor the Green's functions directly on a given sample. This al...   \n",
       "\n",
       "                                     category  \n",
       "113579                        [physics.ed-ph]  \n",
       "23259                                 [cs.CV]  \n",
       "7679    [cond-mat.dis-nn, cond-mat.stat-mech]  "
      ]
     },
     "execution_count": 3,
     "metadata": {},
     "output_type": "execute_result"
    }
   ],
   "source": [
    "# load dataframe    \n",
    "with open(f\"{file_name}_df.pickle\", \"rb\") as pickle_in:\n",
    "    df = pickle.load(pickle_in)\n",
    "\n",
    "print(f\"Loaded metadata from {df.shape[0]} papers. Here are some of them:\")\n",
    "pd.set_option('display.max_colwidth', 300)\n",
    "df.sample(3)"
   ]
  },
  {
   "cell_type": "markdown",
   "metadata": {},
   "source": [
    "<h2> Cleaning the data </h2>"
   ]
  },
  {
   "cell_type": "markdown",
   "metadata": {},
   "source": [
    "We next do some basic cleaning of the data."
   ]
  },
  {
   "cell_type": "code",
   "execution_count": 4,
   "metadata": {},
   "outputs": [
    {
     "data": {
      "text/html": [
       "<div>\n",
       "<style scoped>\n",
       "    .dataframe tbody tr th:only-of-type {\n",
       "        vertical-align: middle;\n",
       "    }\n",
       "\n",
       "    .dataframe tbody tr th {\n",
       "        vertical-align: top;\n",
       "    }\n",
       "\n",
       "    .dataframe thead th {\n",
       "        text-align: right;\n",
       "    }\n",
       "</style>\n",
       "<table border=\"1\" class=\"dataframe\">\n",
       "  <thead>\n",
       "    <tr style=\"text-align: right;\">\n",
       "      <th></th>\n",
       "      <th>title</th>\n",
       "      <th>abstract</th>\n",
       "      <th>clean_text</th>\n",
       "    </tr>\n",
       "  </thead>\n",
       "  <tbody>\n",
       "    <tr>\n",
       "      <th>79425</th>\n",
       "      <td>Multi-Agent Reinforcement Learning for Energy Harvesting Two-Hop\\n  Communications with a Partially Observable State</td>\n",
       "      <td>We consider an energy harvesting (EH) transmitter communicating with a\\nreceiver through an EH relay. The harvested energy is used for data\\ntransmission, including the circuit energy consumption. As in practical\\nscenarios, the system state, comprised by the harvested energy, battery levels,\\...</td>\n",
       "      <td>multi-agent reinforcement learning for energy harvesting two-hop communications with a partially observable state we consider an energy harvesting (eh) transmitter communicating with a receiver through an eh relay. the harvested energy is used for data transmission, including the circuit energy ...</td>\n",
       "    </tr>\n",
       "    <tr>\n",
       "      <th>105683</th>\n",
       "      <td>Removing Leakage and Surface Recombination in Planar Perovskite Solar\\n  Cells</td>\n",
       "      <td>Thin-film solar cells suffer from various types of recombination, of which\\nleakage current usually dominates at lower voltages. Herein, we demonstrate\\nfirst a three-order reduction of the shunt loss mechanism in planar\\nmethylammonium lead iodide perovskite solar cells by replacing the commo...</td>\n",
       "      <td>removing leakage and surface recombination in planar perovskite solar cells thin-film solar cells suffer from various types of recombination, of which leakage current usually dominates at lower voltages. herein, we demonstrate first a three-order reduction of the shunt loss mechanism in planar m...</td>\n",
       "    </tr>\n",
       "    <tr>\n",
       "      <th>52487</th>\n",
       "      <td>T-Reqs: Tool Support for Managing Requirements in Large-Scale Agile\\n  System Development</td>\n",
       "      <td>T-Reqs is a text-based requirements management solution based on the git\\nversion control system. It combines useful conventions, templates and helper\\nscripts with powerful existing solutions from the git ecosystem and provides a\\nworking solution to address some known requirements engineerin...</td>\n",
       "      <td>t-reqs: tool support for managing requirements in large-scale agile system development t-reqs is a text-based requirements management solution based on the git version control system. it combines useful conventions, templates and helper scripts with powerful existing solutions from the git ecosy...</td>\n",
       "    </tr>\n",
       "  </tbody>\n",
       "</table>\n",
       "</div>"
      ],
      "text/plain": [
       "                                                                                                                       title  \\\n",
       "79425   Multi-Agent Reinforcement Learning for Energy Harvesting Two-Hop\\n  Communications with a Partially Observable State   \n",
       "105683                                        Removing Leakage and Surface Recombination in Planar Perovskite Solar\\n  Cells   \n",
       "52487                              T-Reqs: Tool Support for Managing Requirements in Large-Scale Agile\\n  System Development   \n",
       "\n",
       "                                                                                                                                                                                                                                                                                                           abstract  \\\n",
       "79425     We consider an energy harvesting (EH) transmitter communicating with a\\nreceiver through an EH relay. The harvested energy is used for data\\ntransmission, including the circuit energy consumption. As in practical\\nscenarios, the system state, comprised by the harvested energy, battery levels,\\...   \n",
       "105683    Thin-film solar cells suffer from various types of recombination, of which\\nleakage current usually dominates at lower voltages. Herein, we demonstrate\\nfirst a three-order reduction of the shunt loss mechanism in planar\\nmethylammonium lead iodide perovskite solar cells by replacing the commo...   \n",
       "52487     T-Reqs is a text-based requirements management solution based on the git\\nversion control system. It combines useful conventions, templates and helper\\nscripts with powerful existing solutions from the git ecosystem and provides a\\nworking solution to address some known requirements engineerin...   \n",
       "\n",
       "                                                                                                                                                                                                                                                                                                         clean_text  \n",
       "79425   multi-agent reinforcement learning for energy harvesting two-hop communications with a partially observable state we consider an energy harvesting (eh) transmitter communicating with a receiver through an eh relay. the harvested energy is used for data transmission, including the circuit energy ...  \n",
       "105683  removing leakage and surface recombination in planar perovskite solar cells thin-film solar cells suffer from various types of recombination, of which leakage current usually dominates at lower voltages. herein, we demonstrate first a three-order reduction of the shunt loss mechanism in planar m...  \n",
       "52487   t-reqs: tool support for managing requirements in large-scale agile system development t-reqs is a text-based requirements management solution based on the git version control system. it combines useful conventions, templates and helper scripts with powerful existing solutions from the git ecosy...  "
      ]
     },
     "execution_count": 4,
     "metadata": {},
     "output_type": "execute_result"
    }
   ],
   "source": [
    "# drop rows with NaNs\n",
    "df.dropna(inplace=True)\n",
    "\n",
    "# merge title and abstract\n",
    "df['clean_text'] = df['title'] + ' ' + df['abstract']\n",
    "\n",
    "# remove punctuation marks\n",
    "punctuation ='\\!\\\"\\#\\$\\%\\&\\(\\)\\*\\+\\-\\/\\:\\;\\<\\=\\>\\?\\@\\[\\\\\\]\\^\\_\\`\\{\\|\\}\\~'\n",
    "df['clean_text'] = df['clean_text'].apply(lambda x: re.sub(punctuation, '', x))\n",
    "\n",
    "# convert text to lowercase\n",
    "df['clean_text'] = df['clean_text'].str.lower()\n",
    "\n",
    "# remove numbers\n",
    "df['clean_text'] = df['clean_text'].str.replace(\"[0-9]\", \" \")\n",
    "\n",
    "# remove whitespaces\n",
    "df['clean_text'] = df['clean_text'].apply(lambda x:' '.join(x.split()))\n",
    "\n",
    "pd.set_option('display.max_colwidth', 300)\n",
    "df[['title', 'abstract', 'clean_text']].sample(3)"
   ]
  },
  {
   "cell_type": "markdown",
   "metadata": {},
   "source": [
    "Our last text cleaning step is to lemmatise the text, which reduces all words to its base form. For instance, 'eating' is converted into 'eat' and 'better' is converted into 'good'. This usually takes a little while (took me ~25 mins for <tt>arxiv_small.csv</tt>)."
   ]
  },
  {
   "cell_type": "code",
   "execution_count": 5,
   "metadata": {},
   "outputs": [
    {
     "name": "stdout",
     "output_type": "stream",
     "text": [
      "Lemmatisation complete. Dataframe with the clean_text column saved to arxiv_small_clean_text.pickle.\n"
     ]
    },
    {
     "data": {
      "text/html": [
       "<div>\n",
       "<style scoped>\n",
       "    .dataframe tbody tr th:only-of-type {\n",
       "        vertical-align: middle;\n",
       "    }\n",
       "\n",
       "    .dataframe tbody tr th {\n",
       "        vertical-align: top;\n",
       "    }\n",
       "\n",
       "    .dataframe thead th {\n",
       "        text-align: right;\n",
       "    }\n",
       "</style>\n",
       "<table border=\"1\" class=\"dataframe\">\n",
       "  <thead>\n",
       "    <tr style=\"text-align: right;\">\n",
       "      <th></th>\n",
       "      <th>title</th>\n",
       "      <th>abstract</th>\n",
       "      <th>category</th>\n",
       "      <th>clean_text</th>\n",
       "    </tr>\n",
       "  </thead>\n",
       "  <tbody>\n",
       "    <tr>\n",
       "      <th>121805</th>\n",
       "      <td>Perturbative approach to the self-focusing of intense X-ray laser beam\\n  propagating in thermal quantum plasma</td>\n",
       "      <td>In this theoretical study, the problem of self-focusing of an X-ray intense\\nlaser beam in the thermal quantum plasma is studied. Using a relativistic fluid\\nmodel and taking into account the hydrodynamic pressure of degenerate electrons\\nin the zero temperature limit, the nonlinear momentum e...</td>\n",
       "      <td>[physics.plasm-ph]</td>\n",
       "      <td>perturbative approach to the self - focusing of intense x - ray laser beam propagating in thermal quantum plasma in this theoretical study , the problem of self - focusing of an x - ray intense laser beam in the thermal quantum plasma be study . use a relativistic fluid model and take into accou...</td>\n",
       "    </tr>\n",
       "    <tr>\n",
       "      <th>109529</th>\n",
       "      <td>Theoretical construction of thermodynamic relations for a\\n  solvent-controlled phase transition to improve the bioavailability of drugs:\\n  A case study of indomethacin</td>\n",
       "      <td>The thermodynamic aspects of the polymorphic phase transition from\\n{\\alpha}-indomethacin to {\\gamma}-indomethacin are the fundamental key to find\\nthe most bioavailable phase of indomethacin. In the present work, varying the\\ntemperature and solvent permittivity changes the polymorphic transi...</td>\n",
       "      <td>[physics.chem-ph]</td>\n",
       "      <td>theoretical construction of thermodynamic relation for a solvent - control phase transition to improve the bioavailability of drug : a case study of indomethacin the thermodynamic aspect of the polymorphic phase transition from { \\alpha}-indomethacin to { \\gamma}-indomethacin be the fundamental ...</td>\n",
       "    </tr>\n",
       "    <tr>\n",
       "      <th>146040</th>\n",
       "      <td>Acceleration of expensive computations in Bayesian statistics using\\n  vector operations</td>\n",
       "      <td>Many applications in Bayesian statistics are extremely computationally\\nintensive. However, they are also often inherently parallel, making them prime\\ntargets for modern massively parallel central processing unit (CPU)\\narchitectures. While the use of multi-core and distributed computing is w...</td>\n",
       "      <td>[cs.DC, cs.MS, cs.PF, stat.CO, stat.ML]</td>\n",
       "      <td>acceleration of expensive computation in bayesian statistic use vector operation many application in bayesian statistic be extremely computationally intensive . however , -PRON- be also often inherently parallel , make -PRON- prime target for modern massively parallel central processing unit ( c...</td>\n",
       "    </tr>\n",
       "  </tbody>\n",
       "</table>\n",
       "</div>"
      ],
      "text/plain": [
       "                                                                                                                                                                            title  \\\n",
       "121805                                                            Perturbative approach to the self-focusing of intense X-ray laser beam\\n  propagating in thermal quantum plasma   \n",
       "109529  Theoretical construction of thermodynamic relations for a\\n  solvent-controlled phase transition to improve the bioavailability of drugs:\\n  A case study of indomethacin   \n",
       "146040                                                                                   Acceleration of expensive computations in Bayesian statistics using\\n  vector operations   \n",
       "\n",
       "                                                                                                                                                                                                                                                                                                           abstract  \\\n",
       "121805    In this theoretical study, the problem of self-focusing of an X-ray intense\\nlaser beam in the thermal quantum plasma is studied. Using a relativistic fluid\\nmodel and taking into account the hydrodynamic pressure of degenerate electrons\\nin the zero temperature limit, the nonlinear momentum e...   \n",
       "109529    The thermodynamic aspects of the polymorphic phase transition from\\n{\\alpha}-indomethacin to {\\gamma}-indomethacin are the fundamental key to find\\nthe most bioavailable phase of indomethacin. In the present work, varying the\\ntemperature and solvent permittivity changes the polymorphic transi...   \n",
       "146040    Many applications in Bayesian statistics are extremely computationally\\nintensive. However, they are also often inherently parallel, making them prime\\ntargets for modern massively parallel central processing unit (CPU)\\narchitectures. While the use of multi-core and distributed computing is w...   \n",
       "\n",
       "                                       category  \\\n",
       "121805                       [physics.plasm-ph]   \n",
       "109529                        [physics.chem-ph]   \n",
       "146040  [cs.DC, cs.MS, cs.PF, stat.CO, stat.ML]   \n",
       "\n",
       "                                                                                                                                                                                                                                                                                                         clean_text  \n",
       "121805  perturbative approach to the self - focusing of intense x - ray laser beam propagating in thermal quantum plasma in this theoretical study , the problem of self - focusing of an x - ray intense laser beam in the thermal quantum plasma be study . use a relativistic fluid model and take into accou...  \n",
       "109529  theoretical construction of thermodynamic relation for a solvent - control phase transition to improve the bioavailability of drug : a case study of indomethacin the thermodynamic aspect of the polymorphic phase transition from { \\alpha}-indomethacin to { \\gamma}-indomethacin be the fundamental ...  \n",
       "146040  acceleration of expensive computation in bayesian statistic use vector operation many application in bayesian statistic be extremely computationally intensive . however , -PRON- be also often inherently parallel , make -PRON- prime target for modern massively parallel central processing unit ( c...  "
      ]
     },
     "execution_count": 5,
     "metadata": {},
     "output_type": "execute_result"
    }
   ],
   "source": [
    "# download spacy if needed\n",
    "#!pip install -U spacy && python -m spacy download en\n",
    "\n",
    "from spacy import load as sp\n",
    "\n",
    "def lemmatization(texts):\n",
    "    # import spaCy's language model\n",
    "    nlp = sp('en', disable=['parser', 'ner'])\n",
    "    \n",
    "    output = np.asarray([])\n",
    "    for text in texts:\n",
    "        s = np.asarray([token.lemma_ for token in nlp(text)])\n",
    "        np.append(output, ' '.join(s))\n",
    "    \n",
    "    return output\n",
    "\n",
    "# load dataframe    \n",
    "with open(f\"{file_name}_clean_text.pickle\", \"rb\") as pickle_in:\n",
    "    df = pickle.load(pickle_in)\n",
    "\n",
    "# lemmatise text\n",
    "df['clean_text'] = lemmatization(df['clean_text'])\n",
    "\n",
    "# save dataframe to {file_name}_clean_text.pickle\n",
    "with open(f\"{file_name}_clean_text.pickle\",\"wb\") as pickle_out:\n",
    "    pickle.dump(df[['clean_text']], pickle_out)\n",
    "\n",
    "print(f\"Lemmatisation complete. Dataframe with the clean_text column saved to {file_name}_clean_text.pickle.\")\n",
    "\n",
    "pd.set_option('display.max_colwidth', 300)\n",
    "df.sample(3)"
   ]
  },
  {
   "cell_type": "markdown",
   "metadata": {},
   "source": [
    "<h2> One hot encoding of categories </h2>"
   ]
  },
  {
   "cell_type": "markdown",
   "metadata": {},
   "source": [
    "We then perform a one hot encoding for the category variable, as this will make training our model easier. We do this by first creating a dataframe with columns the categories and binary values for every paper, and then concatenate our original dataframe with the binary values."
   ]
  },
  {
   "cell_type": "code",
   "execution_count": 6,
   "metadata": {
    "scrolled": true
   },
   "outputs": [
    {
     "name": "stdout",
     "output_type": "stream",
     "text": [
      "One hot encoding complete.\n"
     ]
    },
    {
     "data": {
      "text/html": [
       "<div>\n",
       "<style scoped>\n",
       "    .dataframe tbody tr th:only-of-type {\n",
       "        vertical-align: middle;\n",
       "    }\n",
       "\n",
       "    .dataframe tbody tr th {\n",
       "        vertical-align: top;\n",
       "    }\n",
       "\n",
       "    .dataframe thead th {\n",
       "        text-align: right;\n",
       "    }\n",
       "</style>\n",
       "<table border=\"1\" class=\"dataframe\">\n",
       "  <thead>\n",
       "    <tr style=\"text-align: right;\">\n",
       "      <th></th>\n",
       "      <th>title</th>\n",
       "      <th>abstract</th>\n",
       "      <th>clean_text</th>\n",
       "      <th>astro-ph</th>\n",
       "      <th>astro-ph.CO</th>\n",
       "      <th>astro-ph.EP</th>\n",
       "      <th>astro-ph.GA</th>\n",
       "      <th>astro-ph.HE</th>\n",
       "      <th>astro-ph.IM</th>\n",
       "      <th>astro-ph.SR</th>\n",
       "      <th>...</th>\n",
       "      <th>q-fin.RM</th>\n",
       "      <th>q-fin.ST</th>\n",
       "      <th>q-fin.TR</th>\n",
       "      <th>quant-ph</th>\n",
       "      <th>stat.AP</th>\n",
       "      <th>stat.CO</th>\n",
       "      <th>stat.ME</th>\n",
       "      <th>stat.ML</th>\n",
       "      <th>stat.OT</th>\n",
       "      <th>stat.TH</th>\n",
       "    </tr>\n",
       "  </thead>\n",
       "  <tbody>\n",
       "    <tr>\n",
       "      <th>64711</th>\n",
       "      <td>Two-gr...</td>\n",
       "      <td>In t...</td>\n",
       "      <td>two - ...</td>\n",
       "      <td>0</td>\n",
       "      <td>0</td>\n",
       "      <td>0</td>\n",
       "      <td>0</td>\n",
       "      <td>0</td>\n",
       "      <td>0</td>\n",
       "      <td>0</td>\n",
       "      <td>...</td>\n",
       "      <td>0</td>\n",
       "      <td>0</td>\n",
       "      <td>0</td>\n",
       "      <td>0</td>\n",
       "      <td>0</td>\n",
       "      <td>0</td>\n",
       "      <td>0</td>\n",
       "      <td>0</td>\n",
       "      <td>0</td>\n",
       "      <td>0</td>\n",
       "    </tr>\n",
       "    <tr>\n",
       "      <th>55578</th>\n",
       "      <td>Conv-c...</td>\n",
       "      <td>In t...</td>\n",
       "      <td>conv -...</td>\n",
       "      <td>0</td>\n",
       "      <td>0</td>\n",
       "      <td>0</td>\n",
       "      <td>0</td>\n",
       "      <td>0</td>\n",
       "      <td>0</td>\n",
       "      <td>0</td>\n",
       "      <td>...</td>\n",
       "      <td>0</td>\n",
       "      <td>0</td>\n",
       "      <td>0</td>\n",
       "      <td>0</td>\n",
       "      <td>0</td>\n",
       "      <td>0</td>\n",
       "      <td>0</td>\n",
       "      <td>0</td>\n",
       "      <td>0</td>\n",
       "      <td>0</td>\n",
       "    </tr>\n",
       "    <tr>\n",
       "      <th>87566</th>\n",
       "      <td>Pricin...</td>\n",
       "      <td>In a...</td>\n",
       "      <td>pricin...</td>\n",
       "      <td>0</td>\n",
       "      <td>0</td>\n",
       "      <td>0</td>\n",
       "      <td>0</td>\n",
       "      <td>0</td>\n",
       "      <td>0</td>\n",
       "      <td>0</td>\n",
       "      <td>...</td>\n",
       "      <td>0</td>\n",
       "      <td>0</td>\n",
       "      <td>0</td>\n",
       "      <td>0</td>\n",
       "      <td>0</td>\n",
       "      <td>0</td>\n",
       "      <td>0</td>\n",
       "      <td>0</td>\n",
       "      <td>0</td>\n",
       "      <td>0</td>\n",
       "    </tr>\n",
       "  </tbody>\n",
       "</table>\n",
       "<p>3 rows × 156 columns</p>\n",
       "</div>"
      ],
      "text/plain": [
       "           title   abstract clean_text  astro-ph  astro-ph.CO  astro-ph.EP  \\\n",
       "64711  Two-gr...    In t...  two - ...         0          0            0     \n",
       "55578  Conv-c...    In t...  conv -...         0          0            0     \n",
       "87566  Pricin...    In a...  pricin...         0          0            0     \n",
       "\n",
       "       astro-ph.GA  astro-ph.HE  astro-ph.IM  astro-ph.SR  ...  q-fin.RM  \\\n",
       "64711          0            0            0            0    ...         0   \n",
       "55578          0            0            0            0    ...         0   \n",
       "87566          0            0            0            0    ...         0   \n",
       "\n",
       "       q-fin.ST  q-fin.TR  quant-ph  stat.AP  stat.CO  stat.ME  stat.ML  \\\n",
       "64711         0         0         0        0        0        0        0   \n",
       "55578         0         0         0        0        0        0        0   \n",
       "87566         0         0         0        0        0        0        0   \n",
       "\n",
       "       stat.OT  stat.TH  \n",
       "64711        0        0  \n",
       "55578        0        0  \n",
       "87566        0        0  \n",
       "\n",
       "[3 rows x 156 columns]"
      ]
     },
     "execution_count": 6,
     "metadata": {},
     "output_type": "execute_result"
    }
   ],
   "source": [
    "def cat_to_binary(x):\n",
    "    cat_index = np.nonzero(cats == x)[0][0]\n",
    "    return [0] * cat_index + [1] + [0] * (len(cats) - cat_index - 1)\n",
    "\n",
    "def cats_to_binary(x):\n",
    "    binary_cat = np.sum([cat_to_binary(y) for y in x], 0, dtype=np.int32)\n",
    "    return binary_cat.tolist()\n",
    "\n",
    "# populate cats_df with the information from df\n",
    "bincat_list = np.array([cats_to_binary(x) for x in df['category']]).transpose().tolist()\n",
    "bincat_dict = {key:value for (key,value) in list(zip(cats, bincat_list))}\n",
    "bincat_df = pd.DataFrame.from_dict(bincat_dict)\n",
    "\n",
    "# concatenate df with the columns in cats_df\n",
    "df = pd.concat([df, bincat_df], axis=1, sort=False)\n",
    "\n",
    "# drop the category column\n",
    "df.drop(['category'], axis=1, inplace=True)\n",
    "\n",
    "print(\"One hot encoding complete.\")\n",
    "\n",
    "# show the new columns of the data frame\n",
    "pd.set_option('display.max_colwidth', 10)\n",
    "df.sample(3)"
   ]
  },
  {
   "cell_type": "markdown",
   "metadata": {},
   "source": [
    "<h2> Analysis of the data </h2>"
   ]
  },
  {
   "cell_type": "markdown",
   "metadata": {},
   "source": [
    "Here is how the categories in our data set are distributed."
   ]
  },
  {
   "cell_type": "code",
   "execution_count": 7,
   "metadata": {
    "scrolled": true
   },
   "outputs": [
    {
     "data": {
      "text/plain": [
       "count    153.00...\n",
       "mean     2155.8...\n",
       "std      1256.0...\n",
       "min      184.00...\n",
       "25%      1430.0...\n",
       "50%      1809.0...\n",
       "75%      2484.0...\n",
       "max      10150....\n",
       "dtype: float64"
      ]
     },
     "execution_count": 7,
     "metadata": {},
     "output_type": "execute_result"
    }
   ],
   "source": [
    "# save a dataframe with the amount of papers in each category\n",
    "sum_cats = bincat_df.apply(lambda x: x.sum())\n",
    "\n",
    "# get statistical information about the distribution of the amount of papers\n",
    "sum_cats.describe()"
   ]
  },
  {
   "cell_type": "code",
   "execution_count": 8,
   "metadata": {
    "scrolled": false
   },
   "outputs": [
    {
     "data": {
      "image/png": "[encoded data removed]",
      "text/plain": [
       "<Figure size 1440x720 with 1 Axes>"
      ]
     },
     "metadata": {
      "needs_background": "light"
     },
     "output_type": "display_data"
    }
   ],
   "source": [
    "# plot the distribution of the amount of papers in each category\n",
    "plt.figure(figsize=(20,10))\n",
    "plt.bar(x=sum_cats.keys(), height=sum_cats.values)\n",
    "plt.xlabel('Categories', fontsize=13)\n",
    "plt.ylabel('Number of papers', fontsize=13)\n",
    "plt.title('Distribution of categories in data set', fontsize=18)\n",
    "plt.xticks([])\n",
    "plt.show()"
   ]
  },
  {
   "cell_type": "markdown",
   "metadata": {},
   "source": [
    "We see that our data is not particularly uniformly distributed. These are the categories with the most amount of papers in the data set."
   ]
  },
  {
   "cell_type": "code",
   "execution_count": 9,
   "metadata": {},
   "outputs": [
    {
     "data": {
      "text/html": [
       "<div>\n",
       "<style scoped>\n",
       "    .dataframe tbody tr th:only-of-type {\n",
       "        vertical-align: middle;\n",
       "    }\n",
       "\n",
       "    .dataframe tbody tr th {\n",
       "        vertical-align: top;\n",
       "    }\n",
       "\n",
       "    .dataframe thead th {\n",
       "        text-align: right;\n",
       "    }\n",
       "</style>\n",
       "<table border=\"1\" class=\"dataframe\">\n",
       "  <thead>\n",
       "    <tr style=\"text-align: right;\">\n",
       "      <th></th>\n",
       "      <th>category</th>\n",
       "      <th>description</th>\n",
       "      <th>count</th>\n",
       "    </tr>\n",
       "  </thead>\n",
       "  <tbody>\n",
       "    <tr>\n",
       "      <th>38</th>\n",
       "      <td>cs.LG</td>\n",
       "      <td>Learning</td>\n",
       "      <td>10150</td>\n",
       "    </tr>\n",
       "    <tr>\n",
       "      <th>150</th>\n",
       "      <td>stat.ML</td>\n",
       "      <td>Machin...</td>\n",
       "      <td>7182</td>\n",
       "    </tr>\n",
       "    <tr>\n",
       "      <th>97</th>\n",
       "      <td>math-ph</td>\n",
       "      <td>Mathem...</td>\n",
       "      <td>5801</td>\n",
       "    </tr>\n",
       "    <tr>\n",
       "      <th>85</th>\n",
       "      <td>math.MP</td>\n",
       "      <td>Mathem...</td>\n",
       "      <td>5801</td>\n",
       "    </tr>\n",
       "    <tr>\n",
       "      <th>146</th>\n",
       "      <td>quant-ph</td>\n",
       "      <td>Quantu...</td>\n",
       "      <td>5762</td>\n",
       "    </tr>\n",
       "  </tbody>\n",
       "</table>\n",
       "</div>"
      ],
      "text/plain": [
       "     category description  count\n",
       "38      cs.LG   Learning   10150\n",
       "150   stat.ML  Machin...    7182\n",
       "97    math-ph  Mathem...    5801\n",
       "85    math.MP  Mathem...    5801\n",
       "146  quant-ph  Quantu...    5762"
      ]
     },
     "execution_count": 9,
     "metadata": {},
     "output_type": "execute_result"
    }
   ],
   "source": [
    "# get dataframe with category codes and descriptions\n",
    "cat_df = pd.read_csv(\"cats.csv\")\n",
    "\n",
    "# add the counts to the dataframe and sort \n",
    "cat_df['count'] = sum_cats.values\n",
    "cat_df = cat_df.sort_values(by=['count'], ascending=False)\n",
    "\n",
    "cat_df.head(5)"
   ]
  },
  {
   "cell_type": "markdown",
   "metadata": {},
   "source": [
    "<h2> ELMo feature extraction </h2>"
   ]
  },
  {
   "cell_type": "markdown",
   "metadata": {},
   "source": [
    "To build our model we have to extract features from the titles and abstracts. We will be using ELMo, a state-of-the-art NLP framework developed by AllenNLP, which converts text input into vectors, with similar words being closer to each other. We will need the following extra packages."
   ]
  },
  {
   "cell_type": "markdown",
   "metadata": {},
   "source": [
    "Next, we download the ELMo model. It is over 350mb in size, so it might take a little while."
   ]
  },
  {
   "cell_type": "code",
   "execution_count": null,
   "metadata": {},
   "outputs": [],
   "source": [
    "# download the ELMo model, only compile this the first time\n",
    "#!mkdir elmo\n",
    "#!curl -L \"https://tfhub.dev/google/elmo/2?tf-hub-format=compressed\" | tar -zxvC elmo"
   ]
  },
  {
   "cell_type": "markdown",
   "metadata": {},
   "source": [
    "We now need to extract ELMo features from our cleaned text data. This takes a LONG time (potentially many days) and will usually crash if run in a notebook. Instead this is done using the Python extractor which can be downloaded from\n",
    "\n",
    "<p><center><a href=\"https://github.com/saattrupdan/scholarly/blob/master/extract_elmo.py\"> https://github.com/saattrupdan/scholarly/blob/master/extract_elmo.py </a></center></p>\n",
    "\n",
    "This is then run with the data file as input without its file extension. For instance, the following extracts the features from the <tt>arxiv.csv</tt> file and saves the features as <tt>arxiv_elmo.pickle</tt>:\n",
    "\n",
    "<p><center><tt>$ python extract_elmo.py arxiv</tt></center></p>\n",
    "\n",
    "In the interest of time, however, I provide here download links to the pickle files containing the ELMo data for the <tt>arxiv.csv</tt> and <tt>arxiv_small.csv</tt> data files:\n",
    "\n",
    "<p><center><tt>$ python extract_elmo.py arxiv</tt></center></p>"
   ]
  },
  {
   "cell_type": "markdown",
   "metadata": {},
   "source": [
    "This is then run with the data file as input without its file extension. For instance, the following extracts the features from the <tt>arxiv.csv</tt> file and saves the features as <tt>arxiv_elmo.pickle</tt>:\n",
    "\n",
    "<p><center><tt>$ python extract_elmo.py arxiv</tt></center></p>"
   ]
  },
  {
   "cell_type": "markdown",
   "metadata": {},
   "source": [
    "Assuming the ELMo features have now been extracted, we now load them in."
   ]
  },
  {
   "cell_type": "code",
   "execution_count": 10,
   "metadata": {},
   "outputs": [
    {
     "ename": "FileNotFoundError",
     "evalue": "[Errno 2] No such file or directory: 'arxiv_small_elmo.pickle'",
     "output_type": "error",
     "traceback": [
      "\u001b[0;31m---------------------------------------------------------------------------\u001b[0m",
      "\u001b[0;31mFileNotFoundError\u001b[0m                         Traceback (most recent call last)",
      "\u001b[0;32m<ipython-input-10-257fc012860f>\u001b[0m in \u001b[0;36m<module>\u001b[0;34m\u001b[0m\n\u001b[1;32m      1\u001b[0m \u001b[0;31m# load ELMo data\u001b[0m\u001b[0;34m\u001b[0m\u001b[0;34m\u001b[0m\u001b[0;34m\u001b[0m\u001b[0m\n\u001b[0;32m----> 2\u001b[0;31m \u001b[0;32mwith\u001b[0m \u001b[0mopen\u001b[0m\u001b[0;34m(\u001b[0m\u001b[0;34mf\"{file_name}_elmo.pickle\"\u001b[0m\u001b[0;34m,\u001b[0m \u001b[0;34m\"rb\"\u001b[0m\u001b[0;34m)\u001b[0m \u001b[0;32mas\u001b[0m \u001b[0mpickle_in\u001b[0m\u001b[0;34m:\u001b[0m\u001b[0;34m\u001b[0m\u001b[0;34m\u001b[0m\u001b[0m\n\u001b[0m\u001b[1;32m      3\u001b[0m     \u001b[0melmo_data\u001b[0m \u001b[0;34m=\u001b[0m \u001b[0mpickle\u001b[0m\u001b[0;34m.\u001b[0m\u001b[0mload\u001b[0m\u001b[0;34m(\u001b[0m\u001b[0mpickle_in\u001b[0m\u001b[0;34m)\u001b[0m\u001b[0;34m\u001b[0m\u001b[0;34m\u001b[0m\u001b[0m\n\u001b[1;32m      4\u001b[0m \u001b[0;34m\u001b[0m\u001b[0m\n\u001b[1;32m      5\u001b[0m \u001b[0mprint\u001b[0m\u001b[0;34m(\u001b[0m\u001b[0;34mf\"ELMo data loaded from {file_name}_elmo.pickle.\"\u001b[0m\u001b[0;34m)\u001b[0m\u001b[0;34m\u001b[0m\u001b[0;34m\u001b[0m\u001b[0m\n",
      "\u001b[0;31mFileNotFoundError\u001b[0m: [Errno 2] No such file or directory: 'arxiv_small_elmo.pickle'"
     ]
    }
   ],
   "source": [
    "# load ELMo data\n",
    "with open(f\"{file_name}_elmo.pickle\", \"rb\") as pickle_in:\n",
    "    elmo_data = pickle.load(pickle_in)\n",
    "\n",
    "print(f\"ELMo data loaded from {file_name}_elmo.pickle.\")"
   ]
  },
  {
   "cell_type": "markdown",
   "metadata": {},
   "source": [
    "<h2> Building the model </h2>"
   ]
  },
  {
   "cell_type": "markdown",
   "metadata": {},
   "source": [
    "We are now done manipulating our data, and the time has come to build a model. We will be building a logistic regression model for every category."
   ]
  },
  {
   "cell_type": "code",
   "execution_count": null,
   "metadata": {},
   "outputs": [],
   "source": [
    "from sklearn.model_selection import train_test_split\n",
    "from sklearn.linear_model import LogisticRegression"
   ]
  },
  {
   "cell_type": "code",
   "execution_count": null,
   "metadata": {},
   "outputs": [],
   "source": [
    "Y_test = []\n",
    "Y_hat = []\n",
    "lregs = np.asarray([])\n",
    "\n",
    "for cat in cats:\n",
    "        \n",
    "    X_train, X_test, y_train, y_test = train_test_split(elmo_data, df[cat], random_state=4, test_size=0.2)\n",
    "    Y_test.append(y_test)\n",
    "    \n",
    "    try:\n",
    "        lreg = LogisticRegression(C=0.0001, solver='liblinear')\n",
    "        lreg.fit(X_train, y_train)\n",
    "        Y_hat.append(lreg.predict(X_test))\n",
    "        lregs.append(lreg)\n",
    "    except:\n",
    "        Y_hat.append(np.array([0] * len(y_test)))\n",
    "\n",
    "with open(f\"{file_name}_model.pickle\",\"wb\") as pickle_out:\n",
    "    pickle.dump(lregs, pickle_out)\n",
    "        \n",
    "print(f\"Model built and saved to {file_name}_model.pickle\")"
   ]
  },
  {
   "cell_type": "markdown",
   "metadata": {},
   "source": [
    "<h2> Testing the model </h2>"
   ]
  },
  {
   "cell_type": "markdown",
   "metadata": {},
   "source": [
    "We now check whether our model is capable of predicting the categories for the papers in our test set."
   ]
  },
  {
   "cell_type": "code",
   "execution_count": null,
   "metadata": {},
   "outputs": [],
   "source": [
    "from sklearn.metrics import f1_score\n",
    "from statistics import mean"
   ]
  },
  {
   "cell_type": "code",
   "execution_count": null,
   "metadata": {},
   "outputs": [],
   "source": [
    "f1s = [f1_score(x, y) for (x,y) in zip(Y_test, Y_hat)]\n",
    "\n",
    "print(f\"The average f1 score for the model is {mean(f1s)}.\")"
   ]
  }
 ],
 "metadata": {
  "kernelspec": {
   "display_name": "Python 3",
   "language": "python",
   "name": "python3"
  },
  "language_info": {
   "codemirror_mode": {
    "name": "ipython",
    "version": 3
   },
   "file_extension": ".py",
   "mimetype": "text/x-python",
   "name": "python",
   "nbconvert_exporter": "python",
   "pygments_lexer": "ipython3",
   "version": "3.7.3"
  }
 },
 "nbformat": 4,
 "nbformat_minor": 2
}
