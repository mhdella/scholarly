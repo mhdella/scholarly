{
 "cells": [
  {
   "cell_type": "markdown",
   "metadata": {},
   "source": [
    "# Analysis of Preprint Papers from the ArXiv"
   ]
  },
  {
   "cell_type": "markdown",
   "metadata": {},
   "source": [
    "The website [arxiv.org](https://arxiv.org) is a popular database for scientific papers in STEM fields. ArXiv has its own classification system consisting of roughly 150 different categories, which are manually added by the authors whenever a new paper is uploaded. A paper can be assigned multiple categories.\n",
    "\n",
    "The goal for this project is to develop a machine learning model which can predict the ArXiv category from a given title and abstract. The data set used here has been scraped from the [ArXiv API](https://arxiv.org/help/api) over several days, using the Python scraper `arxiv_scraper.py`.\n",
    "\n",
    "To get a sense for how long the scraping takes, you can uncomment and run the script below."
   ]
  },
  {
   "cell_type": "code",
   "execution_count": 1,
   "metadata": {
    "scrolled": true
   },
   "outputs": [],
   "source": [
    "#from arxiv_scraper import cat_scrape\n",
    "#cat_scrape(\n",
    "#    max_results_per_cat = 100, # maximum number of papers to download per category (there are ~150 categories)\n",
    "#    file_path = \"arxiv_data\", # name of output file\n",
    "#    batch_size = 100 # size of every batch - lower batch size requires less memory - must be less than 30,000\n",
    "#)"
   ]
  },
  {
   "cell_type": "markdown",
   "metadata": {},
   "source": [
    "Alternatively, I have downloaded metadata from about a million papers using this scraper (with `max_results_per_cat` = 10000), which can be freely downloaded below. This data set takes up ~1gb of space, however, so I've included many random samples of this data set as well:\n",
    "\n",
    "* `arxiv` contains the main data set\n",
    "* `arxiv_sample_1000` contains 1,000 papers\n",
    "* `arxiv_sample_5000` contains 5,000 papers\n",
    "* `arxiv_sample_10000` contains 10,000 papers\n",
    "* `arxiv_sample_25000` contains 25,000 papers\n",
    "* `arxiv_sample_50000` contains 50,000 papers\n",
    "* `arxiv_sample_100000` contains 100,000 papers\n",
    "* `arxiv_sample_200000` contains 200,000 papers\n",
    "* `arxiv_sample_500000` contains 500,000 papers\n",
    "* `arxiv_sample_750000` contains 750,000 papers\n",
    "\n",
    "Choose your favorite below. Alternatively, of course, you can set it to be the file name of your own scraped data."
   ]
  },
  {
   "cell_type": "code",
   "execution_count": 79,
   "metadata": {},
   "outputs": [],
   "source": [
    "file_name = \"arxiv_sample_1000\""
   ]
  },
  {
   "cell_type": "markdown",
   "metadata": {},
   "source": [
    "We start by importing all the packages we will need and setting up a data directory."
   ]
  },
  {
   "cell_type": "code",
   "execution_count": 82,
   "metadata": {},
   "outputs": [],
   "source": [
    "import pandas as pd\n",
    "import numpy as np\n",
    "import matplotlib.pyplot as plt\n",
    "import re # regular expressions\n",
    "import pickle # enables saving data and models locally\n",
    "import spacy as sp # used for lemmatising text\n",
    "\n",
    "os.system(\"mkdir data\") # create data directory"
   ]
  },
  {
   "cell_type": "markdown",
   "metadata": {},
   "source": [
    "<h2> Fetching data </h2>"
   ]
  },
  {
   "cell_type": "markdown",
   "metadata": {},
   "source": [
    "We then download the chosen data set --- if you've already scraped your own data set then skip this stage."
   ]
  },
  {
   "cell_type": "code",
   "execution_count": 81,
   "metadata": {},
   "outputs": [
    {
     "name": "stdout",
     "output_type": "stream",
     "text": [
      "arxiv_sample_1000.csv already downloaded.\n"
     ]
    }
   ],
   "source": [
    "#!pip install wget # install if needed\n",
    "import wget, os\n",
    "\n",
    "url_start = f\"https://filedn.com/lRBwPhPxgV74tO0rDoe8SpH/scholarly_data/\"\n",
    "# download the paper data\n",
    "if not os.path.isfile(f'data/{file_name}.csv'):\n",
    "    print(f\"Downloading {file_name}.csv...\", end = \" \")\n",
    "    wget.download(url_start + f\"{file_name}.csv\", out = f\"data/{file_name}.csv\")\n",
    "    print(\"Done!\")\n",
    "else:\n",
    "    print(f\"{file_name}.csv already downloaded.\")"
   ]
  },
  {
   "cell_type": "markdown",
   "metadata": {},
   "source": [
    "Next, we download a list of all the arXiv categories and store them in `cats`."
   ]
  },
  {
   "cell_type": "code",
   "execution_count": 84,
   "metadata": {},
   "outputs": [
    {
     "name": "stdout",
     "output_type": "stream",
     "text": [
      "cats.csv already downloaded.\n"
     ]
    },
    {
     "data": {
      "text/html": [
       "<div>\n",
       "<style scoped>\n",
       "    .dataframe tbody tr th:only-of-type {\n",
       "        vertical-align: middle;\n",
       "    }\n",
       "\n",
       "    .dataframe tbody tr th {\n",
       "        vertical-align: top;\n",
       "    }\n",
       "\n",
       "    .dataframe thead th {\n",
       "        text-align: right;\n",
       "    }\n",
       "</style>\n",
       "<table border=\"1\" class=\"dataframe\">\n",
       "  <thead>\n",
       "    <tr style=\"text-align: right;\">\n",
       "      <th></th>\n",
       "      <th>category</th>\n",
       "      <th>description</th>\n",
       "    </tr>\n",
       "  </thead>\n",
       "  <tbody>\n",
       "    <tr>\n",
       "      <th>0</th>\n",
       "      <td>astro-ph</td>\n",
       "      <td>Astrophysics</td>\n",
       "    </tr>\n",
       "    <tr>\n",
       "      <th>1</th>\n",
       "      <td>astro-ph.CO</td>\n",
       "      <td>Cosmology and Nongalactic Astrophysics</td>\n",
       "    </tr>\n",
       "    <tr>\n",
       "      <th>2</th>\n",
       "      <td>astro-ph.EP</td>\n",
       "      <td>Earth and Planetary Astrophysics</td>\n",
       "    </tr>\n",
       "    <tr>\n",
       "      <th>3</th>\n",
       "      <td>astro-ph.GA</td>\n",
       "      <td>Astrophysics of Galaxies</td>\n",
       "    </tr>\n",
       "    <tr>\n",
       "      <th>4</th>\n",
       "      <td>astro-ph.HE</td>\n",
       "      <td>High Energy Astrophysical Phenomena</td>\n",
       "    </tr>\n",
       "  </tbody>\n",
       "</table>\n",
       "</div>"
      ],
      "text/plain": [
       "      category                             description\n",
       "0     astro-ph                            Astrophysics\n",
       "1  astro-ph.CO  Cosmology and Nongalactic Astrophysics\n",
       "2  astro-ph.EP        Earth and Planetary Astrophysics\n",
       "3  astro-ph.GA                Astrophysics of Galaxies\n",
       "4  astro-ph.HE     High Energy Astrophysical Phenomena"
      ]
     },
     "execution_count": 84,
     "metadata": {},
     "output_type": "execute_result"
    }
   ],
   "source": [
    "# create directory if it does not already exist\n",
    "os.system(\"mkdir data\") \n",
    "\n",
    "# download a list of all the arXiv categories\n",
    "if not os.path.isfile('data/cats.csv'):\n",
    "    print(\"Downloading cats.csv...\", end = \" \")\n",
    "    wget.download(url_start + \"cats.csv\", out = \"data/cats.csv\")\n",
    "    print(\"Done!\")\n",
    "else:\n",
    "    print(\"cats.csv already downloaded.\")\n",
    "\n",
    "# construct category dataframe and array\n",
    "cats_df = pd.read_csv(\"data/cats.csv\")\n",
    "cats = np.asarray(cats_df['category'].values)\n",
    "\n",
    "pd.set_option('display.max_colwidth', 50)\n",
    "cats_df.head()"
   ]
  },
  {
   "cell_type": "markdown",
   "metadata": {},
   "source": [
    "Next up we load the data into a dataframe. This might take a little while."
   ]
  },
  {
   "cell_type": "code",
   "execution_count": 6,
   "metadata": {},
   "outputs": [],
   "source": [
    "def nan_if_empty(x):\n",
    "    ''' Converts empty lists/arrays to NaNs, making it easier to detect by pandas. '''\n",
    "    arr = np.asarray(x)\n",
    "    if arr.size == 0:\n",
    "        return np.nan\n",
    "    else:\n",
    "        return arr\n",
    "\n",
    "def remove_non_cats(x):\n",
    "    ''' Removes every string in x which does not occur in the list of arXiv categories. '''\n",
    "    return np.intersect1d(np.asarray(x), cats)\n",
    "\n",
    "def str_to_arr(x):\n",
    "    ''' Converts a string to a numpy array. '''\n",
    "    return np.asarray(re.sub('[\\' \\[\\]]', '', x).split(','))\n",
    "\n",
    "def clean_cats(x):\n",
    "    ''' Composition of nan_if_empty, remove_non_cats and str_to_arr. Used to clean scraped data. '''\n",
    "    return nan_if_empty(remove_non_cats(str_to_arr(x)))"
   ]
  },
  {
   "cell_type": "code",
   "execution_count": 7,
   "metadata": {},
   "outputs": [
    {
     "name": "stdout",
     "output_type": "stream",
     "text": [
      "Loaded metadata from 1000 papers. Here are some of them:\n"
     ]
    },
    {
     "data": {
      "text/html": [
       "<div>\n",
       "<style scoped>\n",
       "    .dataframe tbody tr th:only-of-type {\n",
       "        vertical-align: middle;\n",
       "    }\n",
       "\n",
       "    .dataframe tbody tr th {\n",
       "        vertical-align: top;\n",
       "    }\n",
       "\n",
       "    .dataframe thead th {\n",
       "        text-align: right;\n",
       "    }\n",
       "</style>\n",
       "<table border=\"1\" class=\"dataframe\">\n",
       "  <thead>\n",
       "    <tr style=\"text-align: right;\">\n",
       "      <th></th>\n",
       "      <th>title</th>\n",
       "      <th>abstract</th>\n",
       "      <th>category</th>\n",
       "    </tr>\n",
       "  </thead>\n",
       "  <tbody>\n",
       "    <tr>\n",
       "      <th>874</th>\n",
       "      <td>Status of the KIMS-NaI experiment</td>\n",
       "      <td>KIMS-NaI is a direct detection experiment searching for Weakly Interacting\\nMassive Particles (WIMP) via their scattering off of nuclei in a NaI(Tl)\\ncrystal. The KIMS-NaI collaboration has carried out tests of six crystals in\\nthe Yangyang underground laboratory in order to develope low-backg...</td>\n",
       "      <td>[hep-ex, physics.ins-det]</td>\n",
       "    </tr>\n",
       "    <tr>\n",
       "      <th>869</th>\n",
       "      <td>Reduced-rank Analysis of the Total Least Squares</td>\n",
       "      <td>The reduced-rank method exploits the distortion-variance tradeoff to yield\\nsuperior solutions for classic problems in statistical signal processing such\\nas parameter estimation and filtering. The central idea is to reduce the\\nvariance of the solution at the expense of introducing a little d...</td>\n",
       "      <td>[cs.IT, math.IT]</td>\n",
       "    </tr>\n",
       "    <tr>\n",
       "      <th>188</th>\n",
       "      <td>Pin(2)-equivariant Seiberg-Witten Floer homology of Seifert fibrations</td>\n",
       "      <td>We compute the $\\mathrm{Pin}(2)$-equivariant Seiberg-Witten Floer homology of\\nSeifert rational homology three-spheres in terms of their Heegaard Floer\\nhomology. As a result of this computation, we prove Manolescu's conjecture that\\n$\\beta=-\\bar{\\mu}$ for Seifert integral homology three-spher...</td>\n",
       "      <td>[math.GT]</td>\n",
       "    </tr>\n",
       "  </tbody>\n",
       "</table>\n",
       "</div>"
      ],
      "text/plain": [
       "                                                                      title  \\\n",
       "874                                       Status of the KIMS-NaI experiment   \n",
       "869                        Reduced-rank Analysis of the Total Least Squares   \n",
       "188  Pin(2)-equivariant Seiberg-Witten Floer homology of Seifert fibrations   \n",
       "\n",
       "                                                                                                                                                                                                                                                                                                        abstract  \\\n",
       "874    KIMS-NaI is a direct detection experiment searching for Weakly Interacting\\nMassive Particles (WIMP) via their scattering off of nuclei in a NaI(Tl)\\ncrystal. The KIMS-NaI collaboration has carried out tests of six crystals in\\nthe Yangyang underground laboratory in order to develope low-backg...   \n",
       "869    The reduced-rank method exploits the distortion-variance tradeoff to yield\\nsuperior solutions for classic problems in statistical signal processing such\\nas parameter estimation and filtering. The central idea is to reduce the\\nvariance of the solution at the expense of introducing a little d...   \n",
       "188    We compute the $\\mathrm{Pin}(2)$-equivariant Seiberg-Witten Floer homology of\\nSeifert rational homology three-spheres in terms of their Heegaard Floer\\nhomology. As a result of this computation, we prove Manolescu's conjecture that\\n$\\beta=-\\bar{\\mu}$ for Seifert integral homology three-spher...   \n",
       "\n",
       "                      category  \n",
       "874  [hep-ex, physics.ins-det]  \n",
       "869           [cs.IT, math.IT]  \n",
       "188                  [math.GT]  "
      ]
     },
     "execution_count": 7,
     "metadata": {},
     "output_type": "execute_result"
    }
   ],
   "source": [
    "# set up dataframe\n",
    "df = pd.read_csv(f'data/{file_name}.csv', converters={'category': clean_cats})[['title', 'abstract', 'category']]\n",
    "\n",
    "print(f\"Loaded metadata from {df.shape[0]} papers. Here are some of them:\")\n",
    "pd.set_option('display.max_colwidth', 300)\n",
    "df.sample(3)"
   ]
  },
  {
   "cell_type": "markdown",
   "metadata": {},
   "source": [
    "<h2> Cleaning the data </h2>"
   ]
  },
  {
   "cell_type": "markdown",
   "metadata": {},
   "source": [
    "We next do some basic cleaning of the data and saves the dataframe to `<file_name>_df.pickle`."
   ]
  },
  {
   "cell_type": "code",
   "execution_count": 8,
   "metadata": {},
   "outputs": [
    {
     "data": {
      "text/html": [
       "<div>\n",
       "<style scoped>\n",
       "    .dataframe tbody tr th:only-of-type {\n",
       "        vertical-align: middle;\n",
       "    }\n",
       "\n",
       "    .dataframe tbody tr th {\n",
       "        vertical-align: top;\n",
       "    }\n",
       "\n",
       "    .dataframe thead th {\n",
       "        text-align: right;\n",
       "    }\n",
       "</style>\n",
       "<table border=\"1\" class=\"dataframe\">\n",
       "  <thead>\n",
       "    <tr style=\"text-align: right;\">\n",
       "      <th></th>\n",
       "      <th>title</th>\n",
       "      <th>abstract</th>\n",
       "      <th>clean_text</th>\n",
       "    </tr>\n",
       "  </thead>\n",
       "  <tbody>\n",
       "    <tr>\n",
       "      <th>329</th>\n",
       "      <td>Linear spaces, transversal polymatroids and ASL domains</td>\n",
       "      <td>Let $K$ be an infinite field and $R=K[x_1,...,x_n]$ be the polynomial ring.\\nLet $V=V_1, ..., V_m$ be a collection of vector spaces of linear forms. Denote\\nby $A(V)$ the $K$-subalgebra of $R$ generated by the elements of the product\\n$V_1... V_m$. Our goal is to investigate the properties of ...</td>\n",
       "      <td>linear spaces, transversal polymatroids and asl domains let $k$ be an infinite field and $r=k[x_ ,...,x_n]$ be the polynomial ring. let $v=v_ , ..., v_m$ be a collection of vector spaces of linear forms. denote by $a(v)$ the $k$-subalgebra of $r$ generated by the elements of the product $v_ ... ...</td>\n",
       "    </tr>\n",
       "    <tr>\n",
       "      <th>131</th>\n",
       "      <td>Influence of paroxysmal activity on background synchronization in\\n  epileptic records</td>\n",
       "      <td>The presence of spikes and sharp waves in the recordings of epileptic\\npatients may contaminate background signal synchronization in different ways.\\nIn this Technical Note, we present a simple procedure for assessing whether a\\nparticular synchronization method should be used (or not) with da...</td>\n",
       "      <td>influence of paroxysmal activity on background synchronization in epileptic records the presence of spikes and sharp waves in the recordings of epileptic patients may contaminate background signal synchronization in different ways. in this technical note, we present a simple procedure for assess...</td>\n",
       "    </tr>\n",
       "    <tr>\n",
       "      <th>39</th>\n",
       "      <td>Construction of enveloping actions</td>\n",
       "      <td>We study the problem of constructing a globalization for partial actions on\\n*-algebras, C*-algebras and Hilbert modules. For the first ones we give a\\nnecessary condition for the existence of a globalization and we prove this\\nconditions is necessary and sufficient for C*-algebras. Using the ...</td>\n",
       "      <td>construction of enveloping actions we study the problem of constructing a globalization for partial actions on *-algebras, c*-algebras and hilbert modules. for the first ones we give a necessary condition for the existence of a globalization and we prove this conditions is necessary and sufficie...</td>\n",
       "    </tr>\n",
       "  </tbody>\n",
       "</table>\n",
       "</div>"
      ],
      "text/plain": [
       "                                                                                      title  \\\n",
       "329                                 Linear spaces, transversal polymatroids and ASL domains   \n",
       "131  Influence of paroxysmal activity on background synchronization in\\n  epileptic records   \n",
       "39                                                       Construction of enveloping actions   \n",
       "\n",
       "                                                                                                                                                                                                                                                                                                        abstract  \\\n",
       "329    Let $K$ be an infinite field and $R=K[x_1,...,x_n]$ be the polynomial ring.\\nLet $V=V_1, ..., V_m$ be a collection of vector spaces of linear forms. Denote\\nby $A(V)$ the $K$-subalgebra of $R$ generated by the elements of the product\\n$V_1... V_m$. Our goal is to investigate the properties of ...   \n",
       "131    The presence of spikes and sharp waves in the recordings of epileptic\\npatients may contaminate background signal synchronization in different ways.\\nIn this Technical Note, we present a simple procedure for assessing whether a\\nparticular synchronization method should be used (or not) with da...   \n",
       "39     We study the problem of constructing a globalization for partial actions on\\n*-algebras, C*-algebras and Hilbert modules. For the first ones we give a\\nnecessary condition for the existence of a globalization and we prove this\\nconditions is necessary and sufficient for C*-algebras. Using the ...   \n",
       "\n",
       "                                                                                                                                                                                                                                                                                                      clean_text  \n",
       "329  linear spaces, transversal polymatroids and asl domains let $k$ be an infinite field and $r=k[x_ ,...,x_n]$ be the polynomial ring. let $v=v_ , ..., v_m$ be a collection of vector spaces of linear forms. denote by $a(v)$ the $k$-subalgebra of $r$ generated by the elements of the product $v_ ... ...  \n",
       "131  influence of paroxysmal activity on background synchronization in epileptic records the presence of spikes and sharp waves in the recordings of epileptic patients may contaminate background signal synchronization in different ways. in this technical note, we present a simple procedure for assess...  \n",
       "39   construction of enveloping actions we study the problem of constructing a globalization for partial actions on *-algebras, c*-algebras and hilbert modules. for the first ones we give a necessary condition for the existence of a globalization and we prove this conditions is necessary and sufficie...  "
      ]
     },
     "execution_count": 8,
     "metadata": {},
     "output_type": "execute_result"
    }
   ],
   "source": [
    "df_clean = df.copy()\n",
    "\n",
    "# drop rows with NaNs\n",
    "df_clean.dropna(inplace=True)\n",
    "\n",
    "# merge title and abstract\n",
    "df_clean['clean_text'] = df_clean['title'] + ' ' + df_clean['abstract']\n",
    "\n",
    "# remove punctuation marks\n",
    "punctuation ='\\!\\\"\\#\\$\\%\\&\\(\\)\\*\\+\\-\\/\\:\\;\\<\\=\\>\\?\\@\\[\\\\\\]\\^\\_\\`\\{\\|\\}\\~'\n",
    "df_clean['clean_text'] = df_clean['clean_text'].apply(lambda x: re.sub(punctuation, '', x))\n",
    "\n",
    "# convert text to lowercase\n",
    "df_clean['clean_text'] = df_clean['clean_text'].str.lower()\n",
    "\n",
    "# remove numbers\n",
    "df_clean['clean_text'] = df_clean['clean_text'].str.replace(\"[0-9]\", \" \")\n",
    "\n",
    "# remove whitespaces\n",
    "df_clean['clean_text'] = df_clean['clean_text'].apply(lambda x:' '.join(x.split()))\n",
    "\n",
    "pd.set_option('display.max_colwidth', 300)\n",
    "df_clean[['title', 'abstract', 'clean_text']].sample(3)"
   ]
  },
  {
   "cell_type": "markdown",
   "metadata": {},
   "source": [
    "Our last text cleaning step is to lemmatise the text, which reduces all words to its base form. For instance, 'eating' is converted into 'eat' and 'better' is converted into 'good'. This script is located in `lemmatiser.py`, uses `<file_name>_df.pickle`, and usually takes a little while to finish."
   ]
  },
  {
   "cell_type": "code",
   "execution_count": 9,
   "metadata": {},
   "outputs": [],
   "source": [
    "def lemmatise(texts):\n",
    "    # import spacy's language model\n",
    "    try:\n",
    "        nlp = sp.load('en', disable=['parser', 'ner'])\n",
    "    except:\n",
    "        os.system(\"python -m spacy download en --user\")\n",
    "        nlp = sp.load('en', disable=['parser', 'ner']) \n",
    "\n",
    "    return np.asarray([' '.join(np.asarray([token.lemma_ for token in nlp(text)])) for text in texts])"
   ]
  },
  {
   "cell_type": "code",
   "execution_count": 10,
   "metadata": {
    "scrolled": true
   },
   "outputs": [
    {
     "ename": "OSError",
     "evalue": "[E050] Can't find model 'en'. It doesn't seem to be a shortcut link, a Python package or a valid path to a data directory.",
     "output_type": "error",
     "traceback": [
      "\u001b[1;31m---------------------------------------------------------------------------\u001b[0m",
      "\u001b[1;31mOSError\u001b[0m                                   Traceback (most recent call last)",
      "\u001b[1;32m<ipython-input-9-f2c8b53af7ee>\u001b[0m in \u001b[0;36mlemmatise\u001b[1;34m(texts)\u001b[0m\n\u001b[0;32m      4\u001b[0m     \u001b[1;32mtry\u001b[0m\u001b[1;33m:\u001b[0m\u001b[1;33m\u001b[0m\u001b[1;33m\u001b[0m\u001b[0m\n\u001b[1;32m----> 5\u001b[1;33m         \u001b[0mnlp\u001b[0m \u001b[1;33m=\u001b[0m \u001b[0msp\u001b[0m\u001b[1;33m.\u001b[0m\u001b[0mload\u001b[0m\u001b[1;33m(\u001b[0m\u001b[1;34m'en'\u001b[0m\u001b[1;33m,\u001b[0m \u001b[0mdisable\u001b[0m\u001b[1;33m=\u001b[0m\u001b[1;33m[\u001b[0m\u001b[1;34m'parser'\u001b[0m\u001b[1;33m,\u001b[0m \u001b[1;34m'ner'\u001b[0m\u001b[1;33m]\u001b[0m\u001b[1;33m)\u001b[0m\u001b[1;33m\u001b[0m\u001b[1;33m\u001b[0m\u001b[0m\n\u001b[0m\u001b[0;32m      6\u001b[0m     \u001b[1;32mexcept\u001b[0m\u001b[1;33m:\u001b[0m\u001b[1;33m\u001b[0m\u001b[1;33m\u001b[0m\u001b[0m\n",
      "\u001b[1;32m~\\AppData\\Local\\Programs\\Python\\Python37\\lib\\site-packages\\spacy\\__init__.py\u001b[0m in \u001b[0;36mload\u001b[1;34m(name, **overrides)\u001b[0m\n\u001b[0;32m     26\u001b[0m         \u001b[0mdeprecation_warning\u001b[0m\u001b[1;33m(\u001b[0m\u001b[0mWarnings\u001b[0m\u001b[1;33m.\u001b[0m\u001b[0mW001\u001b[0m\u001b[1;33m.\u001b[0m\u001b[0mformat\u001b[0m\u001b[1;33m(\u001b[0m\u001b[0mpath\u001b[0m\u001b[1;33m=\u001b[0m\u001b[0mdepr_path\u001b[0m\u001b[1;33m)\u001b[0m\u001b[1;33m)\u001b[0m\u001b[1;33m\u001b[0m\u001b[1;33m\u001b[0m\u001b[0m\n\u001b[1;32m---> 27\u001b[1;33m     \u001b[1;32mreturn\u001b[0m \u001b[0mutil\u001b[0m\u001b[1;33m.\u001b[0m\u001b[0mload_model\u001b[0m\u001b[1;33m(\u001b[0m\u001b[0mname\u001b[0m\u001b[1;33m,\u001b[0m \u001b[1;33m**\u001b[0m\u001b[0moverrides\u001b[0m\u001b[1;33m)\u001b[0m\u001b[1;33m\u001b[0m\u001b[1;33m\u001b[0m\u001b[0m\n\u001b[0m\u001b[0;32m     28\u001b[0m \u001b[1;33m\u001b[0m\u001b[0m\n",
      "\u001b[1;32m~\\AppData\\Local\\Programs\\Python\\Python37\\lib\\site-packages\\spacy\\util.py\u001b[0m in \u001b[0;36mload_model\u001b[1;34m(name, **overrides)\u001b[0m\n\u001b[0;32m    135\u001b[0m         \u001b[1;32mreturn\u001b[0m \u001b[0mload_model_from_path\u001b[0m\u001b[1;33m(\u001b[0m\u001b[0mname\u001b[0m\u001b[1;33m,\u001b[0m \u001b[1;33m**\u001b[0m\u001b[0moverrides\u001b[0m\u001b[1;33m)\u001b[0m\u001b[1;33m\u001b[0m\u001b[1;33m\u001b[0m\u001b[0m\n\u001b[1;32m--> 136\u001b[1;33m     \u001b[1;32mraise\u001b[0m \u001b[0mIOError\u001b[0m\u001b[1;33m(\u001b[0m\u001b[0mErrors\u001b[0m\u001b[1;33m.\u001b[0m\u001b[0mE050\u001b[0m\u001b[1;33m.\u001b[0m\u001b[0mformat\u001b[0m\u001b[1;33m(\u001b[0m\u001b[0mname\u001b[0m\u001b[1;33m=\u001b[0m\u001b[0mname\u001b[0m\u001b[1;33m)\u001b[0m\u001b[1;33m)\u001b[0m\u001b[1;33m\u001b[0m\u001b[1;33m\u001b[0m\u001b[0m\n\u001b[0m\u001b[0;32m    137\u001b[0m \u001b[1;33m\u001b[0m\u001b[0m\n",
      "\u001b[1;31mOSError\u001b[0m: [E050] Can't find model 'en'. It doesn't seem to be a shortcut link, a Python package or a valid path to a data directory.",
      "\nDuring handling of the above exception, another exception occurred:\n",
      "\u001b[1;31mOSError\u001b[0m                                   Traceback (most recent call last)",
      "\u001b[1;32m<ipython-input-10-5979862a0123>\u001b[0m in \u001b[0;36m<module>\u001b[1;34m\u001b[0m\n\u001b[0;32m      1\u001b[0m \u001b[0mdf_lemm\u001b[0m \u001b[1;33m=\u001b[0m \u001b[0mdf_clean\u001b[0m\u001b[1;33m.\u001b[0m\u001b[0mcopy\u001b[0m\u001b[1;33m(\u001b[0m\u001b[1;33m)\u001b[0m\u001b[1;33m\u001b[0m\u001b[1;33m\u001b[0m\u001b[0m\n\u001b[1;32m----> 2\u001b[1;33m \u001b[0mdf_lemm\u001b[0m\u001b[1;33m[\u001b[0m\u001b[1;34m'clean_text'\u001b[0m\u001b[1;33m]\u001b[0m \u001b[1;33m=\u001b[0m \u001b[0mlemmatise\u001b[0m\u001b[1;33m(\u001b[0m\u001b[0mdf_lemm\u001b[0m\u001b[1;33m[\u001b[0m\u001b[1;34m'clean_text'\u001b[0m\u001b[1;33m]\u001b[0m\u001b[1;33m)\u001b[0m\u001b[1;33m\u001b[0m\u001b[1;33m\u001b[0m\u001b[0m\n\u001b[0m\u001b[0;32m      3\u001b[0m \u001b[1;33m\u001b[0m\u001b[0m\n\u001b[0;32m      4\u001b[0m \u001b[0mpd\u001b[0m\u001b[1;33m.\u001b[0m\u001b[0mset_option\u001b[0m\u001b[1;33m(\u001b[0m\u001b[1;34m'display.max_colwidth'\u001b[0m\u001b[1;33m,\u001b[0m \u001b[1;36m300\u001b[0m\u001b[1;33m)\u001b[0m\u001b[1;33m\u001b[0m\u001b[1;33m\u001b[0m\u001b[0m\n\u001b[0;32m      5\u001b[0m \u001b[0mdf_lemm\u001b[0m\u001b[1;33m.\u001b[0m\u001b[0msample\u001b[0m\u001b[1;33m(\u001b[0m\u001b[1;36m3\u001b[0m\u001b[1;33m)\u001b[0m\u001b[1;33m\u001b[0m\u001b[1;33m\u001b[0m\u001b[0m\n",
      "\u001b[1;32m<ipython-input-9-f2c8b53af7ee>\u001b[0m in \u001b[0;36mlemmatise\u001b[1;34m(texts)\u001b[0m\n\u001b[0;32m      6\u001b[0m     \u001b[1;32mexcept\u001b[0m\u001b[1;33m:\u001b[0m\u001b[1;33m\u001b[0m\u001b[1;33m\u001b[0m\u001b[0m\n\u001b[0;32m      7\u001b[0m         \u001b[0mos\u001b[0m\u001b[1;33m.\u001b[0m\u001b[0msystem\u001b[0m\u001b[1;33m(\u001b[0m\u001b[1;34m\"python -m spacy download en --user\"\u001b[0m\u001b[1;33m)\u001b[0m\u001b[1;33m\u001b[0m\u001b[1;33m\u001b[0m\u001b[0m\n\u001b[1;32m----> 8\u001b[1;33m         \u001b[0mnlp\u001b[0m \u001b[1;33m=\u001b[0m \u001b[0msp\u001b[0m\u001b[1;33m.\u001b[0m\u001b[0mload\u001b[0m\u001b[1;33m(\u001b[0m\u001b[1;34m'en'\u001b[0m\u001b[1;33m,\u001b[0m \u001b[0mdisable\u001b[0m\u001b[1;33m=\u001b[0m\u001b[1;33m[\u001b[0m\u001b[1;34m'parser'\u001b[0m\u001b[1;33m,\u001b[0m \u001b[1;34m'ner'\u001b[0m\u001b[1;33m]\u001b[0m\u001b[1;33m)\u001b[0m\u001b[1;33m\u001b[0m\u001b[1;33m\u001b[0m\u001b[0m\n\u001b[0m\u001b[0;32m      9\u001b[0m \u001b[1;33m\u001b[0m\u001b[0m\n\u001b[0;32m     10\u001b[0m     \u001b[1;32mreturn\u001b[0m \u001b[0mnp\u001b[0m\u001b[1;33m.\u001b[0m\u001b[0masarray\u001b[0m\u001b[1;33m(\u001b[0m\u001b[1;33m[\u001b[0m\u001b[1;34m' '\u001b[0m\u001b[1;33m.\u001b[0m\u001b[0mjoin\u001b[0m\u001b[1;33m(\u001b[0m\u001b[0mnp\u001b[0m\u001b[1;33m.\u001b[0m\u001b[0masarray\u001b[0m\u001b[1;33m(\u001b[0m\u001b[1;33m[\u001b[0m\u001b[0mtoken\u001b[0m\u001b[1;33m.\u001b[0m\u001b[0mlemma_\u001b[0m \u001b[1;32mfor\u001b[0m \u001b[0mtoken\u001b[0m \u001b[1;32min\u001b[0m \u001b[0mnlp\u001b[0m\u001b[1;33m(\u001b[0m\u001b[0mtext\u001b[0m\u001b[1;33m)\u001b[0m\u001b[1;33m]\u001b[0m\u001b[1;33m)\u001b[0m\u001b[1;33m)\u001b[0m \u001b[1;32mfor\u001b[0m \u001b[0mtext\u001b[0m \u001b[1;32min\u001b[0m \u001b[0mtexts\u001b[0m\u001b[1;33m]\u001b[0m\u001b[1;33m)\u001b[0m\u001b[1;33m\u001b[0m\u001b[1;33m\u001b[0m\u001b[0m\n",
      "\u001b[1;32m~\\AppData\\Local\\Programs\\Python\\Python37\\lib\\site-packages\\spacy\\__init__.py\u001b[0m in \u001b[0;36mload\u001b[1;34m(name, **overrides)\u001b[0m\n\u001b[0;32m     25\u001b[0m     \u001b[1;32mif\u001b[0m \u001b[0mdepr_path\u001b[0m \u001b[1;32mnot\u001b[0m \u001b[1;32min\u001b[0m \u001b[1;33m(\u001b[0m\u001b[1;32mTrue\u001b[0m\u001b[1;33m,\u001b[0m \u001b[1;32mFalse\u001b[0m\u001b[1;33m,\u001b[0m \u001b[1;32mNone\u001b[0m\u001b[1;33m)\u001b[0m\u001b[1;33m:\u001b[0m\u001b[1;33m\u001b[0m\u001b[1;33m\u001b[0m\u001b[0m\n\u001b[0;32m     26\u001b[0m         \u001b[0mdeprecation_warning\u001b[0m\u001b[1;33m(\u001b[0m\u001b[0mWarnings\u001b[0m\u001b[1;33m.\u001b[0m\u001b[0mW001\u001b[0m\u001b[1;33m.\u001b[0m\u001b[0mformat\u001b[0m\u001b[1;33m(\u001b[0m\u001b[0mpath\u001b[0m\u001b[1;33m=\u001b[0m\u001b[0mdepr_path\u001b[0m\u001b[1;33m)\u001b[0m\u001b[1;33m)\u001b[0m\u001b[1;33m\u001b[0m\u001b[1;33m\u001b[0m\u001b[0m\n\u001b[1;32m---> 27\u001b[1;33m     \u001b[1;32mreturn\u001b[0m \u001b[0mutil\u001b[0m\u001b[1;33m.\u001b[0m\u001b[0mload_model\u001b[0m\u001b[1;33m(\u001b[0m\u001b[0mname\u001b[0m\u001b[1;33m,\u001b[0m \u001b[1;33m**\u001b[0m\u001b[0moverrides\u001b[0m\u001b[1;33m)\u001b[0m\u001b[1;33m\u001b[0m\u001b[1;33m\u001b[0m\u001b[0m\n\u001b[0m\u001b[0;32m     28\u001b[0m \u001b[1;33m\u001b[0m\u001b[0m\n\u001b[0;32m     29\u001b[0m \u001b[1;33m\u001b[0m\u001b[0m\n",
      "\u001b[1;32m~\\AppData\\Local\\Programs\\Python\\Python37\\lib\\site-packages\\spacy\\util.py\u001b[0m in \u001b[0;36mload_model\u001b[1;34m(name, **overrides)\u001b[0m\n\u001b[0;32m    134\u001b[0m     \u001b[1;32melif\u001b[0m \u001b[0mhasattr\u001b[0m\u001b[1;33m(\u001b[0m\u001b[0mname\u001b[0m\u001b[1;33m,\u001b[0m \u001b[1;34m\"exists\"\u001b[0m\u001b[1;33m)\u001b[0m\u001b[1;33m:\u001b[0m  \u001b[1;31m# Path or Path-like to model data\u001b[0m\u001b[1;33m\u001b[0m\u001b[1;33m\u001b[0m\u001b[0m\n\u001b[0;32m    135\u001b[0m         \u001b[1;32mreturn\u001b[0m \u001b[0mload_model_from_path\u001b[0m\u001b[1;33m(\u001b[0m\u001b[0mname\u001b[0m\u001b[1;33m,\u001b[0m \u001b[1;33m**\u001b[0m\u001b[0moverrides\u001b[0m\u001b[1;33m)\u001b[0m\u001b[1;33m\u001b[0m\u001b[1;33m\u001b[0m\u001b[0m\n\u001b[1;32m--> 136\u001b[1;33m     \u001b[1;32mraise\u001b[0m \u001b[0mIOError\u001b[0m\u001b[1;33m(\u001b[0m\u001b[0mErrors\u001b[0m\u001b[1;33m.\u001b[0m\u001b[0mE050\u001b[0m\u001b[1;33m.\u001b[0m\u001b[0mformat\u001b[0m\u001b[1;33m(\u001b[0m\u001b[0mname\u001b[0m\u001b[1;33m=\u001b[0m\u001b[0mname\u001b[0m\u001b[1;33m)\u001b[0m\u001b[1;33m)\u001b[0m\u001b[1;33m\u001b[0m\u001b[1;33m\u001b[0m\u001b[0m\n\u001b[0m\u001b[0;32m    137\u001b[0m \u001b[1;33m\u001b[0m\u001b[0m\n\u001b[0;32m    138\u001b[0m \u001b[1;33m\u001b[0m\u001b[0m\n",
      "\u001b[1;31mOSError\u001b[0m: [E050] Can't find model 'en'. It doesn't seem to be a shortcut link, a Python package or a valid path to a data directory."
     ]
    }
   ],
   "source": [
    "df_lemm = df_clean.copy()\n",
    "\n",
    "if not os.path.isfile(f\"{file_name}_lemm.pickle\"):\n",
    "    df_lemm['clean_text'] = lemmatise(df_lemm['clean_text'])\n",
    "\n",
    "    # save ELMo data\n",
    "    with open(f\"{file_name}_lemm.pickle\", \"wb\") as pickle_out:\n",
    "        pickle.dump(df_lemm, pickle_out)\n",
    "else:\n",
    "    # load ELMo data\n",
    "    with open(f\"{file_name}_lemm.pickle\", \"rb\") as pickle_in:\n",
    "        df_lemm = pickle.load(pickle_in)\n",
    "\n",
    "pd.set_option('display.max_colwidth', 300)\n",
    "df_lemm.sample(3)"
   ]
  },
  {
   "cell_type": "markdown",
   "metadata": {},
   "source": [
    "<h2> One hot encoding of categories </h2>"
   ]
  },
  {
   "cell_type": "markdown",
   "metadata": {},
   "source": [
    "We then perform a one hot encoding for the category variable, as this will make training our model easier. We do this by first creating a dataframe with columns the categories and binary values for every paper, and then concatenate our original dataframe with the binary values."
   ]
  },
  {
   "cell_type": "code",
   "execution_count": 11,
   "metadata": {
    "scrolled": true
   },
   "outputs": [
    {
     "name": "stdout",
     "output_type": "stream",
     "text": [
      "One-hot encoding... Done!\n"
     ]
    },
    {
     "data": {
      "text/html": [
       "<div>\n",
       "<style scoped>\n",
       "    .dataframe tbody tr th:only-of-type {\n",
       "        vertical-align: middle;\n",
       "    }\n",
       "\n",
       "    .dataframe tbody tr th {\n",
       "        vertical-align: top;\n",
       "    }\n",
       "\n",
       "    .dataframe thead th {\n",
       "        text-align: right;\n",
       "    }\n",
       "</style>\n",
       "<table border=\"1\" class=\"dataframe\">\n",
       "  <thead>\n",
       "    <tr style=\"text-align: right;\">\n",
       "      <th></th>\n",
       "      <th>title</th>\n",
       "      <th>abstract</th>\n",
       "      <th>clean_text</th>\n",
       "      <th>astro-ph</th>\n",
       "      <th>astro-ph.CO</th>\n",
       "      <th>astro-ph.EP</th>\n",
       "      <th>astro-ph.GA</th>\n",
       "      <th>astro-ph.HE</th>\n",
       "      <th>astro-ph.IM</th>\n",
       "      <th>astro-ph.SR</th>\n",
       "      <th>...</th>\n",
       "      <th>q-fin.RM</th>\n",
       "      <th>q-fin.ST</th>\n",
       "      <th>q-fin.TR</th>\n",
       "      <th>quant-ph</th>\n",
       "      <th>stat.AP</th>\n",
       "      <th>stat.CO</th>\n",
       "      <th>stat.ME</th>\n",
       "      <th>stat.ML</th>\n",
       "      <th>stat.OT</th>\n",
       "      <th>stat.TH</th>\n",
       "    </tr>\n",
       "  </thead>\n",
       "  <tbody>\n",
       "    <tr>\n",
       "      <th>975</th>\n",
       "      <td>Self S...</td>\n",
       "      <td>Occu...</td>\n",
       "      <td>self s...</td>\n",
       "      <td>0</td>\n",
       "      <td>0</td>\n",
       "      <td>0</td>\n",
       "      <td>0</td>\n",
       "      <td>0</td>\n",
       "      <td>0</td>\n",
       "      <td>0</td>\n",
       "      <td>...</td>\n",
       "      <td>0</td>\n",
       "      <td>0</td>\n",
       "      <td>0</td>\n",
       "      <td>0</td>\n",
       "      <td>0</td>\n",
       "      <td>0</td>\n",
       "      <td>0</td>\n",
       "      <td>0</td>\n",
       "      <td>0</td>\n",
       "      <td>0</td>\n",
       "    </tr>\n",
       "    <tr>\n",
       "      <th>376</th>\n",
       "      <td>Geomet...</td>\n",
       "      <td>We p...</td>\n",
       "      <td>geomet...</td>\n",
       "      <td>0</td>\n",
       "      <td>0</td>\n",
       "      <td>0</td>\n",
       "      <td>0</td>\n",
       "      <td>0</td>\n",
       "      <td>0</td>\n",
       "      <td>0</td>\n",
       "      <td>...</td>\n",
       "      <td>0</td>\n",
       "      <td>0</td>\n",
       "      <td>0</td>\n",
       "      <td>0</td>\n",
       "      <td>0</td>\n",
       "      <td>0</td>\n",
       "      <td>0</td>\n",
       "      <td>0</td>\n",
       "      <td>0</td>\n",
       "      <td>0</td>\n",
       "    </tr>\n",
       "    <tr>\n",
       "      <th>737</th>\n",
       "      <td>Stocha...</td>\n",
       "      <td>In c...</td>\n",
       "      <td>stocha...</td>\n",
       "      <td>0</td>\n",
       "      <td>0</td>\n",
       "      <td>0</td>\n",
       "      <td>0</td>\n",
       "      <td>0</td>\n",
       "      <td>0</td>\n",
       "      <td>0</td>\n",
       "      <td>...</td>\n",
       "      <td>0</td>\n",
       "      <td>0</td>\n",
       "      <td>0</td>\n",
       "      <td>0</td>\n",
       "      <td>0</td>\n",
       "      <td>0</td>\n",
       "      <td>0</td>\n",
       "      <td>0</td>\n",
       "      <td>0</td>\n",
       "      <td>0</td>\n",
       "    </tr>\n",
       "  </tbody>\n",
       "</table>\n",
       "<p>3 rows × 156 columns</p>\n",
       "</div>"
      ],
      "text/plain": [
       "         title   abstract clean_text  astro-ph  astro-ph.CO  astro-ph.EP  \\\n",
       "975  Self S...    Occu...  self s...         0          0            0     \n",
       "376  Geomet...    We p...  geomet...         0          0            0     \n",
       "737  Stocha...    In c...  stocha...         0          0            0     \n",
       "\n",
       "     astro-ph.GA  astro-ph.HE  astro-ph.IM  astro-ph.SR  ...  q-fin.RM  \\\n",
       "975          0            0            0            0    ...         0   \n",
       "376          0            0            0            0    ...         0   \n",
       "737          0            0            0            0    ...         0   \n",
       "\n",
       "     q-fin.ST  q-fin.TR  quant-ph  stat.AP  stat.CO  stat.ME  stat.ML  \\\n",
       "975         0         0         0        0        0        0        0   \n",
       "376         0         0         0        0        0        0        0   \n",
       "737         0         0         0        0        0        0        0   \n",
       "\n",
       "     stat.OT  stat.TH  \n",
       "975        0        0  \n",
       "376        0        0  \n",
       "737        0        0  \n",
       "\n",
       "[3 rows x 156 columns]"
      ]
     },
     "execution_count": 11,
     "metadata": {},
     "output_type": "execute_result"
    }
   ],
   "source": [
    "def cat_to_binary(x):\n",
    "    cat_index = np.nonzero(cats == x)[0][0]\n",
    "    return [0] * cat_index + [1] + [0] * (len(cats) - cat_index - 1)\n",
    "\n",
    "def cats_to_binary(x):\n",
    "    binary_cat = np.sum([cat_to_binary(y) for y in x], 0, dtype=np.int32)\n",
    "    return binary_cat.tolist()\n",
    "\n",
    "print(\"One-hot encoding...\", end = \" \")\n",
    "\n",
    "df_1hot = df_lemm.copy()\n",
    "\n",
    "# populate cats_df with the information from df\n",
    "bincat_list = np.array([cats_to_binary(x) for x in df_1hot['category']]).transpose().tolist()\n",
    "bincat_dict = {key:value for (key,value) in list(zip(cats, bincat_list))}\n",
    "bincat_df = pd.DataFrame.from_dict(bincat_dict)\n",
    "\n",
    "# concatenate df with the columns in cats_df\n",
    "df_1hot = pd.concat([df_1hot, bincat_df], axis=1, sort=False)\n",
    "\n",
    "# drop the category column\n",
    "df_1hot.drop(['category'], axis=1, inplace=True)\n",
    "\n",
    "print(\"Done!\")\n",
    "\n",
    "# show the new columns of the data frame\n",
    "pd.set_option('display.max_colwidth', 10)\n",
    "df_1hot.sample(3)"
   ]
  },
  {
   "cell_type": "markdown",
   "metadata": {},
   "source": [
    "<h2> Analysis of the data </h2>"
   ]
  },
  {
   "cell_type": "markdown",
   "metadata": {},
   "source": [
    "Here is how the categories in our data set are distributed."
   ]
  },
  {
   "cell_type": "code",
   "execution_count": 12,
   "metadata": {
    "scrolled": true
   },
   "outputs": [
    {
     "data": {
      "text/plain": [
       "count    153.00...\n",
       "mean     14.450980\n",
       "std      11.656792\n",
       "min       0.000000\n",
       "25%       5.000000\n",
       "50%      12.000000\n",
       "75%      20.000000\n",
       "max      55.000000\n",
       "dtype: float64"
      ]
     },
     "execution_count": 12,
     "metadata": {},
     "output_type": "execute_result"
    }
   ],
   "source": [
    "# save a dataframe with the amount of papers in each category\n",
    "sum_cats = bincat_df.apply(lambda x: x.sum())\n",
    "\n",
    "# get statistical information about the distribution of the amount of papers\n",
    "sum_cats.describe()"
   ]
  },
  {
   "cell_type": "code",
   "execution_count": 13,
   "metadata": {
    "scrolled": false
   },
   "outputs": [
    {
     "data": {
      "image/png": "[encoded data removed]",
      "text/plain": [
       "<Figure size 1440x720 with 1 Axes>"
      ]
     },
     "metadata": {
      "needs_background": "light"
     },
     "output_type": "display_data"
    }
   ],
   "source": [
    "# plot the distribution of the amount of papers in each category\n",
    "plt.figure(figsize=(20,10))\n",
    "plt.bar(x=sum_cats.keys(), height=sum_cats.values)\n",
    "plt.xlabel('Categories', fontsize=13)\n",
    "plt.ylabel('Number of papers', fontsize=13)\n",
    "plt.title('Distribution of categories in data set', fontsize=18)\n",
    "plt.xticks([])\n",
    "plt.show()"
   ]
  },
  {
   "cell_type": "markdown",
   "metadata": {},
   "source": [
    "We see that our data is not particularly uniformly distributed. These are the categories with the most amount of papers in the data set."
   ]
  },
  {
   "cell_type": "code",
   "execution_count": 48,
   "metadata": {},
   "outputs": [
    {
     "data": {
      "text/html": [
       "<div>\n",
       "<style scoped>\n",
       "    .dataframe tbody tr th:only-of-type {\n",
       "        vertical-align: middle;\n",
       "    }\n",
       "\n",
       "    .dataframe tbody tr th {\n",
       "        vertical-align: top;\n",
       "    }\n",
       "\n",
       "    .dataframe thead th {\n",
       "        text-align: right;\n",
       "    }\n",
       "</style>\n",
       "<table border=\"1\" class=\"dataframe\">\n",
       "  <thead>\n",
       "    <tr style=\"text-align: right;\">\n",
       "      <th></th>\n",
       "      <th>category</th>\n",
       "      <th>description</th>\n",
       "      <th>count</th>\n",
       "    </tr>\n",
       "  </thead>\n",
       "  <tbody>\n",
       "    <tr>\n",
       "      <th>85</th>\n",
       "      <td>math.MP</td>\n",
       "      <td>Mathematical Physics</td>\n",
       "      <td>55</td>\n",
       "    </tr>\n",
       "    <tr>\n",
       "      <th>97</th>\n",
       "      <td>math-ph</td>\n",
       "      <td>Mathematical Physics</td>\n",
       "      <td>55</td>\n",
       "    </tr>\n",
       "    <tr>\n",
       "      <th>146</th>\n",
       "      <td>quant-ph</td>\n",
       "      <td>Quantum Physics</td>\n",
       "      <td>52</td>\n",
       "    </tr>\n",
       "    <tr>\n",
       "      <th>63</th>\n",
       "      <td>hep-ph</td>\n",
       "      <td>High Energy Physics - Phenomenology</td>\n",
       "      <td>51</td>\n",
       "    </tr>\n",
       "    <tr>\n",
       "      <th>38</th>\n",
       "      <td>cs.LG</td>\n",
       "      <td>Learning</td>\n",
       "      <td>49</td>\n",
       "    </tr>\n",
       "  </tbody>\n",
       "</table>\n",
       "</div>"
      ],
      "text/plain": [
       "     category                          description  count\n",
       "85    math.MP                 Mathematical Physics     55\n",
       "97    math-ph                 Mathematical Physics     55\n",
       "146  quant-ph                      Quantum Physics     52\n",
       "63     hep-ph  High Energy Physics - Phenomenology     51\n",
       "38      cs.LG                             Learning     49"
      ]
     },
     "execution_count": 48,
     "metadata": {},
     "output_type": "execute_result"
    }
   ],
   "source": [
    "# add the counts to the dataframe and sort \n",
    "cats_df['count'] = sum_cats.values\n",
    "cats_df = cat_df.sort_values(by=['count'], ascending=False)\n",
    "\n",
    "pd.set_option('display.max_colwidth', 50)\n",
    "cats_df.head()"
   ]
  },
  {
   "cell_type": "markdown",
   "metadata": {},
   "source": [
    "<h2> ELMo feature extraction </h2>"
   ]
  },
  {
   "cell_type": "markdown",
   "metadata": {},
   "source": [
    "To build our model we have to extract features from the titles and abstracts. We will be using ELMo, a state-of-the-art NLP framework developed by AllenNLP, which converts text input into vectors, with similar words being closer to each other. We will need the following extra packages."
   ]
  },
  {
   "cell_type": "markdown",
   "metadata": {},
   "source": [
    "Next, we download the ELMo model. It is over 350mb in size, so it might take a little while."
   ]
  },
  {
   "cell_type": "code",
   "execution_count": 15,
   "metadata": {
    "scrolled": true
   },
   "outputs": [
    {
     "name": "stdout",
     "output_type": "stream",
     "text": [
      "The 'elmo' directory already exists, so assuming that the model has been downloaded.\n"
     ]
    }
   ],
   "source": [
    "import tarfile\n",
    "\n",
    "if not os.path.isdir(\"elmo\"):\n",
    "    # download ELMo model\n",
    "    print(\"Downloading compressed ELMo model...\", end = \" \")\n",
    "    url = \"https://tfhub.dev/google/elmo/2?tf-hub-format=compressed\"\n",
    "    wget.download(url, out=\"elmo.tar.gz\")\n",
    "    print(\"Done!\")\n",
    "\n",
    "    # uncompress ELMo model\n",
    "    print(\"Uncompressing into the 'elmo' directory...\", end = \" \")\n",
    "    os.system(\"mkdir elmo\") # create directory\n",
    "    with tarfile.open(\"elmo.tar.gz\") as tar:\n",
    "        tar.extractall(\"elmo\")\n",
    "    os.remove(\"elmo.tar.gz\")\n",
    "    print(\"Done!\")\n",
    "else:\n",
    "    print(\"The 'elmo' directory already exists, so assuming that the model has been downloaded.\")"
   ]
  },
  {
   "cell_type": "markdown",
   "metadata": {},
   "source": [
    "We now need to extract ELMo features from our cleaned text data. This is done using the `extract` function from `elmo.py`. This usually takes a LONG time."
   ]
  },
  {
   "cell_type": "code",
   "execution_count": 23,
   "metadata": {},
   "outputs": [
    {
     "name": "stdout",
     "output_type": "stream",
     "text": [
      "ELMo data loaded from arxiv_sample_1000_elmo.pickle.\n",
      "Shape of elmo_data: (1000, 1024)\n"
     ]
    }
   ],
   "source": [
    "from elmo import extract\n",
    "\n",
    "if not os.path.isfile(f\"{file_name}_elmo.pickle\"):\n",
    "    # extract ELMo data\n",
    "    elmo_data = extract(\n",
    "        df_1hot['clean_text'], \n",
    "        batch_size = 50 # lower batch size results in less accurate ELMo vectors but requires fewer computational resources\n",
    "    )\n",
    "\n",
    "    # save ELMo data\n",
    "    with open(f\"{file_name}_elmo.pickle\", \"wb\") as pickle_out:\n",
    "        pickle.dump(elmo_data, pickle_out)\n",
    "\n",
    "    print(f\"ELMo extraction completed. Also saved elmo data to {file_name}.elmo.pickle.\")\n",
    "else:\n",
    "    # load ELMo data\n",
    "    with open(f\"{file_name}_elmo.pickle\", \"rb\") as pickle_in:\n",
    "        elmo_data = pickle.load(pickle_in)\n",
    "\n",
    "    print(f\"ELMo data loaded from {file_name}_elmo.pickle.\")\n",
    "\n",
    "print(f\"Shape of elmo_data: {elmo_data.shape}\")"
   ]
  },
  {
   "cell_type": "code",
   "execution_count": 49,
   "metadata": {},
   "outputs": [
    {
     "data": {
      "text/html": [
       "<div>\n",
       "<style scoped>\n",
       "    .dataframe tbody tr th:only-of-type {\n",
       "        vertical-align: middle;\n",
       "    }\n",
       "\n",
       "    .dataframe tbody tr th {\n",
       "        vertical-align: top;\n",
       "    }\n",
       "\n",
       "    .dataframe thead th {\n",
       "        text-align: right;\n",
       "    }\n",
       "</style>\n",
       "<table border=\"1\" class=\"dataframe\">\n",
       "  <thead>\n",
       "    <tr style=\"text-align: right;\">\n",
       "      <th></th>\n",
       "      <th>0</th>\n",
       "      <th>1</th>\n",
       "      <th>2</th>\n",
       "      <th>3</th>\n",
       "      <th>4</th>\n",
       "      <th>5</th>\n",
       "      <th>6</th>\n",
       "      <th>7</th>\n",
       "      <th>8</th>\n",
       "      <th>9</th>\n",
       "      <th>...</th>\n",
       "      <th>q-fin.RM</th>\n",
       "      <th>q-fin.ST</th>\n",
       "      <th>q-fin.TR</th>\n",
       "      <th>quant-ph</th>\n",
       "      <th>stat.AP</th>\n",
       "      <th>stat.CO</th>\n",
       "      <th>stat.ME</th>\n",
       "      <th>stat.ML</th>\n",
       "      <th>stat.OT</th>\n",
       "      <th>stat.TH</th>\n",
       "    </tr>\n",
       "  </thead>\n",
       "  <tbody>\n",
       "    <tr>\n",
       "      <th>0</th>\n",
       "      <td>0.033354</td>\n",
       "      <td>0.021098</td>\n",
       "      <td>0.000053</td>\n",
       "      <td>-0.005448</td>\n",
       "      <td>-0.041345</td>\n",
       "      <td>-0.095134</td>\n",
       "      <td>0.022219</td>\n",
       "      <td>0.111372</td>\n",
       "      <td>-0.070493</td>\n",
       "      <td>-0.134927</td>\n",
       "      <td>...</td>\n",
       "      <td>0</td>\n",
       "      <td>0</td>\n",
       "      <td>0</td>\n",
       "      <td>0</td>\n",
       "      <td>0</td>\n",
       "      <td>0</td>\n",
       "      <td>0</td>\n",
       "      <td>0</td>\n",
       "      <td>0</td>\n",
       "      <td>0</td>\n",
       "    </tr>\n",
       "    <tr>\n",
       "      <th>1</th>\n",
       "      <td>0.007549</td>\n",
       "      <td>0.000053</td>\n",
       "      <td>0.043732</td>\n",
       "      <td>0.001210</td>\n",
       "      <td>0.048420</td>\n",
       "      <td>-0.007204</td>\n",
       "      <td>-0.040292</td>\n",
       "      <td>0.066277</td>\n",
       "      <td>-0.043792</td>\n",
       "      <td>-0.177578</td>\n",
       "      <td>...</td>\n",
       "      <td>0</td>\n",
       "      <td>0</td>\n",
       "      <td>0</td>\n",
       "      <td>0</td>\n",
       "      <td>0</td>\n",
       "      <td>0</td>\n",
       "      <td>0</td>\n",
       "      <td>0</td>\n",
       "      <td>0</td>\n",
       "      <td>0</td>\n",
       "    </tr>\n",
       "    <tr>\n",
       "      <th>2</th>\n",
       "      <td>-0.037260</td>\n",
       "      <td>-0.017322</td>\n",
       "      <td>0.016323</td>\n",
       "      <td>-0.012784</td>\n",
       "      <td>0.003913</td>\n",
       "      <td>0.026283</td>\n",
       "      <td>0.013110</td>\n",
       "      <td>0.151467</td>\n",
       "      <td>-0.040286</td>\n",
       "      <td>-0.139726</td>\n",
       "      <td>...</td>\n",
       "      <td>0</td>\n",
       "      <td>0</td>\n",
       "      <td>0</td>\n",
       "      <td>0</td>\n",
       "      <td>0</td>\n",
       "      <td>0</td>\n",
       "      <td>0</td>\n",
       "      <td>0</td>\n",
       "      <td>0</td>\n",
       "      <td>0</td>\n",
       "    </tr>\n",
       "    <tr>\n",
       "      <th>3</th>\n",
       "      <td>0.018917</td>\n",
       "      <td>0.087698</td>\n",
       "      <td>0.040531</td>\n",
       "      <td>-0.027623</td>\n",
       "      <td>-0.042850</td>\n",
       "      <td>-0.034921</td>\n",
       "      <td>0.027271</td>\n",
       "      <td>0.221651</td>\n",
       "      <td>-0.095317</td>\n",
       "      <td>-0.188114</td>\n",
       "      <td>...</td>\n",
       "      <td>0</td>\n",
       "      <td>0</td>\n",
       "      <td>0</td>\n",
       "      <td>0</td>\n",
       "      <td>0</td>\n",
       "      <td>0</td>\n",
       "      <td>0</td>\n",
       "      <td>0</td>\n",
       "      <td>0</td>\n",
       "      <td>0</td>\n",
       "    </tr>\n",
       "    <tr>\n",
       "      <th>4</th>\n",
       "      <td>-0.017598</td>\n",
       "      <td>0.070381</td>\n",
       "      <td>-0.032622</td>\n",
       "      <td>0.032497</td>\n",
       "      <td>0.012580</td>\n",
       "      <td>-0.080579</td>\n",
       "      <td>0.022940</td>\n",
       "      <td>0.059791</td>\n",
       "      <td>0.033615</td>\n",
       "      <td>-0.137217</td>\n",
       "      <td>...</td>\n",
       "      <td>0</td>\n",
       "      <td>0</td>\n",
       "      <td>0</td>\n",
       "      <td>0</td>\n",
       "      <td>0</td>\n",
       "      <td>0</td>\n",
       "      <td>0</td>\n",
       "      <td>0</td>\n",
       "      <td>0</td>\n",
       "      <td>0</td>\n",
       "    </tr>\n",
       "  </tbody>\n",
       "</table>\n",
       "<p>5 rows × 1177 columns</p>\n",
       "</div>"
      ],
      "text/plain": [
       "          0         1         2         3         4         5         6  \\\n",
       "0  0.033354  0.021098  0.000053 -0.005448 -0.041345 -0.095134  0.022219   \n",
       "1  0.007549  0.000053  0.043732  0.001210  0.048420 -0.007204 -0.040292   \n",
       "2 -0.037260 -0.017322  0.016323 -0.012784  0.003913  0.026283  0.013110   \n",
       "3  0.018917  0.087698  0.040531 -0.027623 -0.042850 -0.034921  0.027271   \n",
       "4 -0.017598  0.070381 -0.032622  0.032497  0.012580 -0.080579  0.022940   \n",
       "\n",
       "          7         8         9  ...  q-fin.RM  q-fin.ST  q-fin.TR  quant-ph  \\\n",
       "0  0.111372 -0.070493 -0.134927  ...         0         0         0         0   \n",
       "1  0.066277 -0.043792 -0.177578  ...         0         0         0         0   \n",
       "2  0.151467 -0.040286 -0.139726  ...         0         0         0         0   \n",
       "3  0.221651 -0.095317 -0.188114  ...         0         0         0         0   \n",
       "4  0.059791  0.033615 -0.137217  ...         0         0         0         0   \n",
       "\n",
       "   stat.AP  stat.CO  stat.ME  stat.ML  stat.OT  stat.TH  \n",
       "0        0        0        0        0        0        0  \n",
       "1        0        0        0        0        0        0  \n",
       "2        0        0        0        0        0        0  \n",
       "3        0        0        0        0        0        0  \n",
       "4        0        0        0        0        0        0  \n",
       "\n",
       "[5 rows x 1177 columns]"
      ]
     },
     "execution_count": 49,
     "metadata": {},
     "output_type": "execute_result"
    }
   ],
   "source": [
    "df_elmo = pd.DataFrame(elmo_data)\n",
    "df_elmo = df_elmo.join(pd.DataFrame(df_1hot.drop(columns=['title', 'abstract', 'clean_text'])))\n",
    "df_elmo.head()"
   ]
  },
  {
   "cell_type": "markdown",
   "metadata": {},
   "source": [
    "<h2> Building the model </h2>"
   ]
  },
  {
   "cell_type": "markdown",
   "metadata": {},
   "source": [
    "We are now done manipulating our data, and the time has come to build a model. We will be building a logistic regression model for every category."
   ]
  },
  {
   "cell_type": "code",
   "execution_count": 34,
   "metadata": {},
   "outputs": [],
   "source": [
    "from sklearn.model_selection import train_test_split\n",
    "from sklearn.linear_model import LogisticRegression"
   ]
  },
  {
   "cell_type": "code",
   "execution_count": 50,
   "metadata": {},
   "outputs": [],
   "source": [
    "Y_test = []\n",
    "Y_hat = []\n",
    "lregs = np.asarray([])\n",
    "\n",
    "for cat in cats:\n",
    "        \n",
    "    X_train, X_test, y_train, y_test = train_test_split(df_elmo, df_elmo[cat], test_size=0.2)\n",
    "    Y_test.append(y_test)\n",
    "    \n",
    "    try:\n",
    "        lreg = LogisticRegression(C=0.0001, solver='liblinear')\n",
    "        lreg.fit(X_train, y_train)\n",
    "        Y_hat.append(lreg.predict(X_test))\n",
    "        lregs.append(lreg)\n",
    "    except:\n",
    "        Y_hat.append(np.array([0] * len(y_test)))"
   ]
  },
  {
   "cell_type": "markdown",
   "metadata": {},
   "source": [
    "<h2> Testing the model </h2>"
   ]
  },
  {
   "cell_type": "markdown",
   "metadata": {},
   "source": [
    "We now check whether our model is capable of predicting the categories for the papers in our test set."
   ]
  },
  {
   "cell_type": "code",
   "execution_count": 51,
   "metadata": {},
   "outputs": [],
   "source": [
    "from sklearn.metrics import f1_score\n",
    "from statistics import mean"
   ]
  },
  {
   "cell_type": "code",
   "execution_count": 52,
   "metadata": {},
   "outputs": [
    {
     "name": "stderr",
     "output_type": "stream",
     "text": [
      "C:\\Users\\dn16382\\AppData\\Local\\Programs\\Python\\Python37\\lib\\site-packages\\sklearn\\metrics\\classification.py:1143: UndefinedMetricWarning: F-score is ill-defined and being set to 0.0 due to no predicted samples.\n",
      "  'precision', 'predicted', average, warn_for)\n"
     ]
    },
    {
     "name": "stdout",
     "output_type": "stream",
     "text": [
      "The average f1 score for the model is 0.0.\n"
     ]
    }
   ],
   "source": [
    "f1s = [f1_score(x, y) for (x,y) in zip(Y_test, Y_hat)]\n",
    "\n",
    "print(f\"The average f1 score for the model is {mean(f1s)}.\")"
   ]
  }
 ],
 "metadata": {
  "kernelspec": {
   "display_name": "Python 3",
   "language": "python",
   "name": "python3"
  },
  "language_info": {
   "codemirror_mode": {
    "name": "ipython",
    "version": 3
   },
   "file_extension": ".py",
   "mimetype": "text/x-python",
   "name": "python",
   "nbconvert_exporter": "python",
   "pygments_lexer": "ipython3",
   "version": "3.7.3"
  }
 },
 "nbformat": 4,
 "nbformat_minor": 2
}
