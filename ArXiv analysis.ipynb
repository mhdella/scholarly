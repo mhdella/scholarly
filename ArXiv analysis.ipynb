{
 "cells": [
  {
   "cell_type": "markdown",
   "metadata": {},
   "source": [
    "# Analysis of Preprint Papers from the ArXiv"
   ]
  },
  {
   "cell_type": "markdown",
   "metadata": {},
   "source": [
    "The website [arxiv.org](https://arxiv.org) is a popular database for scientific papers in STEM fields. ArXiv has its own classification system consisting of roughly 150 different categories, which are manually added by the authors whenever a new paper is uploaded. A paper can be assigned multiple categories.\n",
    "\n",
    "The goal for this project is to develop a machine learning model which can predict the ArXiv category from a given title and abstract. The data set used here has been scraped from the [ArXiv API](https://arxiv.org/help/api) over several days, using the Python scraper `arxiv_scraper.py`.\n",
    "\n",
    "To get a sense for how long the scraping takes, you can uncomment and run the script below."
   ]
  },
  {
   "cell_type": "code",
   "execution_count": 1,
   "metadata": {
    "scrolled": true
   },
   "outputs": [],
   "source": [
    "#from arxiv_scraper import cat_scrape\n",
    "#cat_scrape(\n",
    "#    max_results_per_cat = 100, # maximum number of papers to download per category (there are ~150 categories)\n",
    "#    file_path = \"arxiv_data\", # name of output file\n",
    "#    batch_size = 100 # size of every batch - lower batch size requires less memory - must be less than 30,000\n",
    "#)"
   ]
  },
  {
   "cell_type": "markdown",
   "metadata": {},
   "source": [
    "Alternatively, I have downloaded metadata from about a million papers using this scraper (with `max_results_per_cat` = 10000), which can be freely downloaded below. This data set takes up ~1gb of space, however, so I've included many random samples of this data set as well:\n",
    "\n",
    "* `arxiv` contains the main data set\n",
    "* `arxiv_sample_1000` contains 1,000 papers\n",
    "* `arxiv_sample_5000` contains 5,000 papers\n",
    "* `arxiv_sample_10000` contains 10,000 papers\n",
    "* `arxiv_sample_25000` contains 25,000 papers\n",
    "* `arxiv_sample_50000` contains 50,000 papers\n",
    "* `arxiv_sample_100000` contains 100,000 papers\n",
    "* `arxiv_sample_200000` contains 200,000 papers\n",
    "* `arxiv_sample_500000` contains 500,000 papers\n",
    "* `arxiv_sample_750000` contains 750,000 papers\n",
    "\n",
    "Choose your favorite below. Alternatively, of course, you can set it to be the file name of your own scraped data."
   ]
  },
  {
   "cell_type": "code",
   "execution_count": 2,
   "metadata": {},
   "outputs": [],
   "source": [
    "file_name = \"arxiv_sample_1000\""
   ]
  },
  {
   "cell_type": "markdown",
   "metadata": {},
   "source": [
    "We start by importing all the packages we will need and setting up a data directory."
   ]
  },
  {
   "cell_type": "code",
   "execution_count": 3,
   "metadata": {},
   "outputs": [
    {
     "name": "stdout",
     "output_type": "stream",
     "text": [
      "Packages loaded and data directory created.\n"
     ]
    }
   ],
   "source": [
    "import os\n",
    "import pandas as pd\n",
    "import numpy as np\n",
    "import matplotlib.pyplot as plt\n",
    "import re # regular expressions\n",
    "import pickle # enables saving data and models locally\n",
    "import spacy as sp # used for lemmatising text\n",
    "import wget # downloading files\n",
    "import tarfile # dealing with compressed .tar.gz files\n",
    "\n",
    "os.system(\"mkdir data\") # create data directory\n",
    "\n",
    "print(\"Packages loaded and data directory created.\")"
   ]
  },
  {
   "cell_type": "markdown",
   "metadata": {},
   "source": [
    "<h2> Fetching data </h2>"
   ]
  },
  {
   "cell_type": "markdown",
   "metadata": {},
   "source": [
    "We then download the chosen data set --- if you've already scraped your own data set then skip this stage."
   ]
  },
  {
   "cell_type": "code",
   "execution_count": 4,
   "metadata": {},
   "outputs": [
    {
     "name": "stdout",
     "output_type": "stream",
     "text": [
      "arxiv_sample_1000.csv already downloaded.\n"
     ]
    }
   ],
   "source": [
    "url_start = f\"https://filedn.com/lRBwPhPxgV74tO0rDoe8SpH/scholarly_data/\"\n",
    "\n",
    "# download the paper data\n",
    "if not os.path.isfile(f'data/{file_name}.csv'):\n",
    "    print(f\"Downloading {file_name}.csv...\", end = \" \")\n",
    "    wget.download(url_start + f\"{file_name}.csv\", out = f\"data/{file_name}.csv\")\n",
    "    print(\"Done!\")\n",
    "else:\n",
    "    print(f\"{file_name}.csv already downloaded.\")"
   ]
  },
  {
   "cell_type": "markdown",
   "metadata": {},
   "source": [
    "Next, we download a list of all the arXiv categories and store them in `cats`."
   ]
  },
  {
   "cell_type": "code",
   "execution_count": 5,
   "metadata": {},
   "outputs": [
    {
     "name": "stdout",
     "output_type": "stream",
     "text": [
      "cats.csv already downloaded.\n"
     ]
    },
    {
     "data": {
      "text/html": [
       "<div>\n",
       "<style scoped>\n",
       "    .dataframe tbody tr th:only-of-type {\n",
       "        vertical-align: middle;\n",
       "    }\n",
       "\n",
       "    .dataframe tbody tr th {\n",
       "        vertical-align: top;\n",
       "    }\n",
       "\n",
       "    .dataframe thead th {\n",
       "        text-align: right;\n",
       "    }\n",
       "</style>\n",
       "<table border=\"1\" class=\"dataframe\">\n",
       "  <thead>\n",
       "    <tr style=\"text-align: right;\">\n",
       "      <th></th>\n",
       "      <th>category</th>\n",
       "      <th>description</th>\n",
       "    </tr>\n",
       "  </thead>\n",
       "  <tbody>\n",
       "    <tr>\n",
       "      <th>0</th>\n",
       "      <td>astro-ph</td>\n",
       "      <td>Astrophysics</td>\n",
       "    </tr>\n",
       "    <tr>\n",
       "      <th>1</th>\n",
       "      <td>astro-ph.CO</td>\n",
       "      <td>Cosmology and Nongalactic Astrophysics</td>\n",
       "    </tr>\n",
       "    <tr>\n",
       "      <th>2</th>\n",
       "      <td>astro-ph.EP</td>\n",
       "      <td>Earth and Planetary Astrophysics</td>\n",
       "    </tr>\n",
       "    <tr>\n",
       "      <th>3</th>\n",
       "      <td>astro-ph.GA</td>\n",
       "      <td>Astrophysics of Galaxies</td>\n",
       "    </tr>\n",
       "    <tr>\n",
       "      <th>4</th>\n",
       "      <td>astro-ph.HE</td>\n",
       "      <td>High Energy Astrophysical Phenomena</td>\n",
       "    </tr>\n",
       "  </tbody>\n",
       "</table>\n",
       "</div>"
      ],
      "text/plain": [
       "      category                             description\n",
       "0     astro-ph                            Astrophysics\n",
       "1  astro-ph.CO  Cosmology and Nongalactic Astrophysics\n",
       "2  astro-ph.EP        Earth and Planetary Astrophysics\n",
       "3  astro-ph.GA                Astrophysics of Galaxies\n",
       "4  astro-ph.HE     High Energy Astrophysical Phenomena"
      ]
     },
     "execution_count": 5,
     "metadata": {},
     "output_type": "execute_result"
    }
   ],
   "source": [
    "# download a list of all the arXiv categories\n",
    "if not os.path.isfile('data/cats.csv'):\n",
    "    print(\"Downloading cats.csv...\", end = \" \")\n",
    "    wget.download(url_start + \"cats.csv\", out = \"data/cats.csv\")\n",
    "    print(\"Done!\")\n",
    "else:\n",
    "    print(\"cats.csv already downloaded.\")\n",
    "\n",
    "# construct category dataframe and array\n",
    "cats_df = pd.read_csv(\"data/cats.csv\")\n",
    "cats = np.asarray(cats_df['category'].values)\n",
    "\n",
    "pd.set_option('display.max_colwidth', 50)\n",
    "cats_df.head()"
   ]
  },
  {
   "cell_type": "markdown",
   "metadata": {},
   "source": [
    "Next up we load the data into a dataframe. This might take a little while."
   ]
  },
  {
   "cell_type": "code",
   "execution_count": 6,
   "metadata": {},
   "outputs": [],
   "source": [
    "def nan_if_empty(x):\n",
    "    ''' Converts empty lists/arrays to NaNs, making it easier to detect by pandas. '''\n",
    "    arr = np.asarray(x)\n",
    "    if arr.size == 0:\n",
    "        return np.nan\n",
    "    else:\n",
    "        return arr\n",
    "\n",
    "def remove_non_cats(x):\n",
    "    ''' Removes every string in x which does not occur in the list of arXiv categories. '''\n",
    "    return np.intersect1d(np.asarray(x), cats)\n",
    "\n",
    "def str_to_arr(x):\n",
    "    ''' Converts a string to a numpy array. '''\n",
    "    return np.asarray(re.sub('[\\' \\[\\]]', '', x).split(','))\n",
    "\n",
    "def clean_cats(x):\n",
    "    ''' Composition of nan_if_empty, remove_non_cats and str_to_arr. Used to clean scraped data. '''\n",
    "    return nan_if_empty(remove_non_cats(str_to_arr(x)))"
   ]
  },
  {
   "cell_type": "code",
   "execution_count": 7,
   "metadata": {},
   "outputs": [
    {
     "name": "stdout",
     "output_type": "stream",
     "text": [
      "Loaded metadata from 1000 papers. Here are some of them:\n"
     ]
    },
    {
     "data": {
      "text/html": [
       "<div>\n",
       "<style scoped>\n",
       "    .dataframe tbody tr th:only-of-type {\n",
       "        vertical-align: middle;\n",
       "    }\n",
       "\n",
       "    .dataframe tbody tr th {\n",
       "        vertical-align: top;\n",
       "    }\n",
       "\n",
       "    .dataframe thead th {\n",
       "        text-align: right;\n",
       "    }\n",
       "</style>\n",
       "<table border=\"1\" class=\"dataframe\">\n",
       "  <thead>\n",
       "    <tr style=\"text-align: right;\">\n",
       "      <th></th>\n",
       "      <th>title</th>\n",
       "      <th>abstract</th>\n",
       "      <th>category</th>\n",
       "    </tr>\n",
       "  </thead>\n",
       "  <tbody>\n",
       "    <tr>\n",
       "      <th>815</th>\n",
       "      <td>Adsorbate dynamics on a silica-coated gold surface measured by Rydberg\\n  Stark spectroscopy</td>\n",
       "      <td>Trapping a Rydberg atom close to a surface is an important step towards the\\nrealisation of many proposals of quantum information or hybrid quantum systems.\\nOne of the challenges in these experiments is to overcome the electric field\\nemanating from contaminations on the surface. Here we repo...</td>\n",
       "      <td>[physics.atom-ph]</td>\n",
       "    </tr>\n",
       "    <tr>\n",
       "      <th>535</th>\n",
       "      <td>A new approach to analyzing solar coronal spectra and updated\\n  collisional ionization equilibrium calculations. II. Additional ionization\\n  rate coefficients</td>\n",
       "      <td>We have reanalyzed SUMER observations of a parcel of coronal gas using new\\ncollisional ionization equilibrium (CIE) calculations. These improved CIE\\nfractional abundances were calculated using state-of-the-art electron-ion\\nrecombination data for K-shell, L-shell, Na-like, and Mg-like ions o...</td>\n",
       "      <td>[astro-ph]</td>\n",
       "    </tr>\n",
       "    <tr>\n",
       "      <th>303</th>\n",
       "      <td>Time-resolved Hall conductivity of pulse-driven topological quantum\\n  systems</td>\n",
       "      <td>We address the question of how the time-resolved bulk Hall response of a two\\ndimensional honeycomb lattice develops when driving the system with a pulsed\\nperturbation. A simple toy model that switches a valley Hall signal by breaking\\ninversion symmetry is studied in detail for slow quasi-ad...</td>\n",
       "      <td>[cond-mat.mes-hall]</td>\n",
       "    </tr>\n",
       "  </tbody>\n",
       "</table>\n",
       "</div>"
      ],
      "text/plain": [
       "                                                                                                                                                                title  \\\n",
       "815                                                                      Adsorbate dynamics on a silica-coated gold surface measured by Rydberg\\n  Stark spectroscopy   \n",
       "535  A new approach to analyzing solar coronal spectra and updated\\n  collisional ionization equilibrium calculations. II. Additional ionization\\n  rate coefficients   \n",
       "303                                                                                    Time-resolved Hall conductivity of pulse-driven topological quantum\\n  systems   \n",
       "\n",
       "                                                                                                                                                                                                                                                                                                        abstract  \\\n",
       "815    Trapping a Rydberg atom close to a surface is an important step towards the\\nrealisation of many proposals of quantum information or hybrid quantum systems.\\nOne of the challenges in these experiments is to overcome the electric field\\nemanating from contaminations on the surface. Here we repo...   \n",
       "535    We have reanalyzed SUMER observations of a parcel of coronal gas using new\\ncollisional ionization equilibrium (CIE) calculations. These improved CIE\\nfractional abundances were calculated using state-of-the-art electron-ion\\nrecombination data for K-shell, L-shell, Na-like, and Mg-like ions o...   \n",
       "303    We address the question of how the time-resolved bulk Hall response of a two\\ndimensional honeycomb lattice develops when driving the system with a pulsed\\nperturbation. A simple toy model that switches a valley Hall signal by breaking\\ninversion symmetry is studied in detail for slow quasi-ad...   \n",
       "\n",
       "                category  \n",
       "815    [physics.atom-ph]  \n",
       "535           [astro-ph]  \n",
       "303  [cond-mat.mes-hall]  "
      ]
     },
     "execution_count": 7,
     "metadata": {},
     "output_type": "execute_result"
    }
   ],
   "source": [
    "# set up dataframe\n",
    "df = pd.read_csv(f'data/{file_name}.csv', converters={'category': clean_cats})[['title', 'abstract', 'category']]\n",
    "\n",
    "print(f\"Loaded metadata from {df.shape[0]} papers. Here are some of them:\")\n",
    "pd.set_option('display.max_colwidth', 300)\n",
    "df.sample(3)"
   ]
  },
  {
   "cell_type": "markdown",
   "metadata": {},
   "source": [
    "<h2> Cleaning the data </h2>"
   ]
  },
  {
   "cell_type": "markdown",
   "metadata": {},
   "source": [
    "We next do some basic cleaning of the data and saves the dataframe to `<file_name>_df.pickle`."
   ]
  },
  {
   "cell_type": "code",
   "execution_count": 8,
   "metadata": {
    "scrolled": true
   },
   "outputs": [
    {
     "data": {
      "text/html": [
       "<div>\n",
       "<style scoped>\n",
       "    .dataframe tbody tr th:only-of-type {\n",
       "        vertical-align: middle;\n",
       "    }\n",
       "\n",
       "    .dataframe tbody tr th {\n",
       "        vertical-align: top;\n",
       "    }\n",
       "\n",
       "    .dataframe thead th {\n",
       "        text-align: right;\n",
       "    }\n",
       "</style>\n",
       "<table border=\"1\" class=\"dataframe\">\n",
       "  <thead>\n",
       "    <tr style=\"text-align: right;\">\n",
       "      <th></th>\n",
       "      <th>title</th>\n",
       "      <th>abstract</th>\n",
       "      <th>clean_text</th>\n",
       "    </tr>\n",
       "  </thead>\n",
       "  <tbody>\n",
       "    <tr>\n",
       "      <th>82</th>\n",
       "      <td>Monitoring communication outbreaks among an unknown team of actors in\\n  dynamic networks</td>\n",
       "      <td>This paper investigates the detection of communication outbreaks among a\\nsmall team of actors in time-varying networks. We propose monitoring plans for\\nknown and unknown teams based on generalizations of the exponentially weighted\\nmoving average (EWMA) statistic. For unknown teams, we propo...</td>\n",
       "      <td>monitoring communication outbreaks among an unknown team of actors in dynamic networks this paper investigates the detection of communication outbreaks among a small team of actors in time-varying networks. we propose monitoring plans for known and unknown teams based on generalizations of the e...</td>\n",
       "    </tr>\n",
       "    <tr>\n",
       "      <th>22</th>\n",
       "      <td>Making the most of electronic journals</td>\n",
       "      <td>As most electronic journals available today have been derived from print\\noriginals, print journals have become a vital element in the broad development\\nof electronic journals publishing. Further dependence on the print publishing\\nmodel, however, will be a constraint on the continuing develo...</td>\n",
       "      <td>making the most of electronic journals as most electronic journals available today have been derived from print originals, print journals have become a vital element in the broad development of electronic journals publishing. further dependence on the print publishing model, however, will be a c...</td>\n",
       "    </tr>\n",
       "    <tr>\n",
       "      <th>305</th>\n",
       "      <td>Macroscopic equivalence for microscopic motion in a turbulence driven\\n  three-dimensional self-assembly reactor</td>\n",
       "      <td>We built and characterised a macroscopic self-assembly reactor that agitates\\nmagnetic, centimeter-sized particles with a turbulent water flow. By scaling up\\nthe self-assembly processes to the centimeter-scale, the characteristic time\\nconstant scale also drastically increases. This makes the...</td>\n",
       "      <td>macroscopic equivalence for microscopic motion in a turbulence driven three-dimensional self-assembly reactor we built and characterised a macroscopic self-assembly reactor that agitates magnetic, centimeter-sized particles with a turbulent water flow. by scaling up the self-assembly processes t...</td>\n",
       "    </tr>\n",
       "  </tbody>\n",
       "</table>\n",
       "</div>"
      ],
      "text/plain": [
       "                                                                                                                title  \\\n",
       "82                          Monitoring communication outbreaks among an unknown team of actors in\\n  dynamic networks   \n",
       "22                                                                             Making the most of electronic journals   \n",
       "305  Macroscopic equivalence for microscopic motion in a turbulence driven\\n  three-dimensional self-assembly reactor   \n",
       "\n",
       "                                                                                                                                                                                                                                                                                                        abstract  \\\n",
       "82     This paper investigates the detection of communication outbreaks among a\\nsmall team of actors in time-varying networks. We propose monitoring plans for\\nknown and unknown teams based on generalizations of the exponentially weighted\\nmoving average (EWMA) statistic. For unknown teams, we propo...   \n",
       "22     As most electronic journals available today have been derived from print\\noriginals, print journals have become a vital element in the broad development\\nof electronic journals publishing. Further dependence on the print publishing\\nmodel, however, will be a constraint on the continuing develo...   \n",
       "305    We built and characterised a macroscopic self-assembly reactor that agitates\\nmagnetic, centimeter-sized particles with a turbulent water flow. By scaling up\\nthe self-assembly processes to the centimeter-scale, the characteristic time\\nconstant scale also drastically increases. This makes the...   \n",
       "\n",
       "                                                                                                                                                                                                                                                                                                      clean_text  \n",
       "82   monitoring communication outbreaks among an unknown team of actors in dynamic networks this paper investigates the detection of communication outbreaks among a small team of actors in time-varying networks. we propose monitoring plans for known and unknown teams based on generalizations of the e...  \n",
       "22   making the most of electronic journals as most electronic journals available today have been derived from print originals, print journals have become a vital element in the broad development of electronic journals publishing. further dependence on the print publishing model, however, will be a c...  \n",
       "305  macroscopic equivalence for microscopic motion in a turbulence driven three-dimensional self-assembly reactor we built and characterised a macroscopic self-assembly reactor that agitates magnetic, centimeter-sized particles with a turbulent water flow. by scaling up the self-assembly processes t...  "
      ]
     },
     "execution_count": 8,
     "metadata": {},
     "output_type": "execute_result"
    }
   ],
   "source": [
    "df_clean = df.copy()\n",
    "\n",
    "# drop rows with NaNs\n",
    "df_clean.dropna(inplace=True)\n",
    "\n",
    "# merge title and abstract\n",
    "df_clean['clean_text'] = df_clean['title'] + ' ' + df_clean['abstract']\n",
    "\n",
    "# remove punctuation marks\n",
    "punctuation ='\\!\\\"\\#\\$\\%\\&\\(\\)\\*\\+\\-\\/\\:\\;\\<\\=\\>\\?\\@\\[\\\\\\]\\^\\_\\`\\{\\|\\}\\~'\n",
    "df_clean['clean_text'] = df_clean['clean_text'].apply(lambda x: re.sub(punctuation, '', x))\n",
    "\n",
    "# convert text to lowercase\n",
    "df_clean['clean_text'] = df_clean['clean_text'].str.lower()\n",
    "\n",
    "# remove numbers\n",
    "df_clean['clean_text'] = df_clean['clean_text'].str.replace(\"[0-9]\", \" \")\n",
    "\n",
    "# remove whitespaces\n",
    "df_clean['clean_text'] = df_clean['clean_text'].apply(lambda x:' '.join(x.split()))\n",
    "\n",
    "pd.set_option('display.max_colwidth', 300)\n",
    "df_clean[['title', 'abstract', 'clean_text']].sample(3)"
   ]
  },
  {
   "cell_type": "markdown",
   "metadata": {},
   "source": [
    "Our last text cleaning step is to lemmatise the text, which reduces all words to its base form. For instance, 'eating' is converted into 'eat' and 'better' is converted into 'good'. This usually takes a while to finish, so instead we're simply going to download a lemmatised version of your chosen data set. Alternatively, if you're dealing with your own scraped data set, you can uncomment the marked lines below."
   ]
  },
  {
   "cell_type": "code",
   "execution_count": 9,
   "metadata": {},
   "outputs": [],
   "source": [
    "def lemmatise(texts):\n",
    "    ''' Lemmatise an iterable of strings. '''\n",
    "    \n",
    "    # import spacy's language model\n",
    "    try:\n",
    "        nlp = sp.load('en', disable=['parser', 'ner'])\n",
    "    except:\n",
    "        os.system(\"python -m spacy download en --user\")\n",
    "        nlp = sp.load('en', disable=['parser', 'ner']) \n",
    "\n",
    "    return np.asarray([' '.join(np.asarray([token.lemma_ for token in nlp(text)])) for text in texts])"
   ]
  },
  {
   "cell_type": "code",
   "execution_count": 10,
   "metadata": {
    "scrolled": true
   },
   "outputs": [
    {
     "name": "stdout",
     "output_type": "stream",
     "text": [
      "Loaded lemmatised dataframe from data/arxiv_sample_1000_lemm.pickle.\n"
     ]
    },
    {
     "data": {
      "text/html": [
       "<div>\n",
       "<style scoped>\n",
       "    .dataframe tbody tr th:only-of-type {\n",
       "        vertical-align: middle;\n",
       "    }\n",
       "\n",
       "    .dataframe tbody tr th {\n",
       "        vertical-align: top;\n",
       "    }\n",
       "\n",
       "    .dataframe thead th {\n",
       "        text-align: right;\n",
       "    }\n",
       "</style>\n",
       "<table border=\"1\" class=\"dataframe\">\n",
       "  <thead>\n",
       "    <tr style=\"text-align: right;\">\n",
       "      <th></th>\n",
       "      <th>title</th>\n",
       "      <th>abstract</th>\n",
       "      <th>category</th>\n",
       "      <th>clean_text</th>\n",
       "    </tr>\n",
       "  </thead>\n",
       "  <tbody>\n",
       "    <tr>\n",
       "      <th>181</th>\n",
       "      <td>Unary Primitive Recursive Functions</td>\n",
       "      <td>In this article, we study some new characterizations of primitive recursive\\nfunctions based on restricted forms of primitive recursion, improving the\\npioneering work of R. M. Robinson and M. D. Gladstone in this area. We reduce\\ncertain recursion schemes (mixed/pure iteration without paramet...</td>\n",
       "      <td>[cs.LO, cs.SC]</td>\n",
       "      <td>unary primitive recursive function in this article , -PRON- study some new characterization of primitive recursive function base on restricted form of primitive recursion , improve the pioneering work of r. m. robinson and m. d. gladstone in this area . -PRON- reduce certain recursion scheme ( m...</td>\n",
       "    </tr>\n",
       "    <tr>\n",
       "      <th>979</th>\n",
       "      <td>The Algebra of Filters of a Cubic Algebra</td>\n",
       "      <td>In this paper we discuss the inclusion ordering on the filters of a filter\\nalgebra, a special type of Metropolis-Rota algeba. Using embeddings into\\ninterval algebras we show that the notion of \"untwisted\" gives rise to a\\ncongruence relation on the group of g-filters. We also show that there...</td>\n",
       "      <td>[math.CO, math.RA]</td>\n",
       "      <td>the algebra of filter of a cubic algebra in this paper -PRON- discuss the inclusion order on the filter of a filter algebra , a special type of metropolis - rota algeba . use embedding into interval algebra -PRON- show that the notion of \" untwisted \" give rise to a congruence relation on the gr...</td>\n",
       "    </tr>\n",
       "    <tr>\n",
       "      <th>792</th>\n",
       "      <td>Data-Driven Tree Transforms and Metrics</td>\n",
       "      <td>We consider the analysis of high dimensional data given in the form of a\\nmatrix with columns consisting of observations and rows consisting of features.\\nOften the data is such that the observations do not reside on a regular grid,\\nand the given order of the features is arbitrary and does no...</td>\n",
       "      <td>[cs.LG, q-bio.QM, stat.ML]</td>\n",
       "      <td>datum - drive tree transform and metric -PRON- consider the analysis of high dimensional datum give in the form of a matrix with column consist of observation and row consist of feature . often the datum be such that the observation do not reside on a regular grid , and the give order of the fea...</td>\n",
       "    </tr>\n",
       "  </tbody>\n",
       "</table>\n",
       "</div>"
      ],
      "text/plain": [
       "                                         title  \\\n",
       "181        Unary Primitive Recursive Functions   \n",
       "979  The Algebra of Filters of a Cubic Algebra   \n",
       "792    Data-Driven Tree Transforms and Metrics   \n",
       "\n",
       "                                                                                                                                                                                                                                                                                                        abstract  \\\n",
       "181    In this article, we study some new characterizations of primitive recursive\\nfunctions based on restricted forms of primitive recursion, improving the\\npioneering work of R. M. Robinson and M. D. Gladstone in this area. We reduce\\ncertain recursion schemes (mixed/pure iteration without paramet...   \n",
       "979    In this paper we discuss the inclusion ordering on the filters of a filter\\nalgebra, a special type of Metropolis-Rota algeba. Using embeddings into\\ninterval algebras we show that the notion of \"untwisted\" gives rise to a\\ncongruence relation on the group of g-filters. We also show that there...   \n",
       "792    We consider the analysis of high dimensional data given in the form of a\\nmatrix with columns consisting of observations and rows consisting of features.\\nOften the data is such that the observations do not reside on a regular grid,\\nand the given order of the features is arbitrary and does no...   \n",
       "\n",
       "                       category  \\\n",
       "181              [cs.LO, cs.SC]   \n",
       "979          [math.CO, math.RA]   \n",
       "792  [cs.LG, q-bio.QM, stat.ML]   \n",
       "\n",
       "                                                                                                                                                                                                                                                                                                      clean_text  \n",
       "181  unary primitive recursive function in this article , -PRON- study some new characterization of primitive recursive function base on restricted form of primitive recursion , improve the pioneering work of r. m. robinson and m. d. gladstone in this area . -PRON- reduce certain recursion scheme ( m...  \n",
       "979  the algebra of filter of a cubic algebra in this paper -PRON- discuss the inclusion order on the filter of a filter algebra , a special type of metropolis - rota algeba . use embedding into interval algebra -PRON- show that the notion of \" untwisted \" give rise to a congruence relation on the gr...  \n",
       "792  datum - drive tree transform and metric -PRON- consider the analysis of high dimensional datum give in the form of a matrix with column consist of observation and row consist of feature . often the datum be such that the observation do not reside on a regular grid , and the give order of the fea...  "
      ]
     },
     "execution_count": 10,
     "metadata": {},
     "output_type": "execute_result"
    }
   ],
   "source": [
    "df_lemm = df_clean.copy()\n",
    "\n",
    "if not os.path.isfile(f\"data/{file_name}_lemm.pickle\"):\n",
    "    \n",
    "    #  uncomment if you want to do it the hard way, or if you're dealing with your own data set\n",
    "    #df_lemm['clean_text'] = lemmatise(df_lemm['clean_text'])\n",
    "    #with open(f\"data/{file_name}_lemm.pickle\", \"wb\") as pickle_out:\n",
    "    #    pickle.dump(df_lemm, pickle_out)\n",
    "    #print(f\"Finished lemmatising, and also saved lemmatised dataframe to data/{file_name}_lemm.pickle.\")\n",
    "    \n",
    "    # download lemmatised dataframe\n",
    "    print(f\"Downloading {file_name}_lemm.pickle...\", end = \" \")\n",
    "    wget.download(url_start + f\"{file_name}_lemm.pickle\", out = f\"data/{file_name}_lemm.pickle\")\n",
    "    print(\"Done!\")\n",
    "    \n",
    "    # load lemmatised dataframe\n",
    "    with open(f\"data/{file_name}_lemm.pickle\", \"rb\") as pickle_in:\n",
    "        df_lemm = pickle.load(pickle_in)\n",
    "    print(f\"Loaded lemmatised dataframe from data/{file_name}_lemm.pickle.\")\n",
    "    \n",
    "else:\n",
    "    # load lemmatised dataframe\n",
    "    with open(f\"data/{file_name}_lemm.pickle\", \"rb\") as pickle_in:\n",
    "        df_lemm = pickle.load(pickle_in)\n",
    "    print(f\"Loaded lemmatised dataframe from data/{file_name}_lemm.pickle.\")\n",
    "\n",
    "pd.set_option('display.max_colwidth', 300)\n",
    "df_lemm.sample(3)"
   ]
  },
  {
   "cell_type": "markdown",
   "metadata": {},
   "source": [
    "## One-hot encoding of categories"
   ]
  },
  {
   "cell_type": "markdown",
   "metadata": {},
   "source": [
    "We then perform a one hot encoding for the category variable, as this will make training our model easier. We do this by first creating a dataframe with columns the categories and binary values for every paper, and then concatenate our original dataframe with the binary values."
   ]
  },
  {
   "cell_type": "code",
   "execution_count": 18,
   "metadata": {
    "scrolled": true
   },
   "outputs": [
    {
     "name": "stdout",
     "output_type": "stream",
     "text": [
      "One-hot encoding... Done!\n"
     ]
    },
    {
     "data": {
      "text/html": [
       "<div>\n",
       "<style scoped>\n",
       "    .dataframe tbody tr th:only-of-type {\n",
       "        vertical-align: middle;\n",
       "    }\n",
       "\n",
       "    .dataframe tbody tr th {\n",
       "        vertical-align: top;\n",
       "    }\n",
       "\n",
       "    .dataframe thead th {\n",
       "        text-align: right;\n",
       "    }\n",
       "</style>\n",
       "<table border=\"1\" class=\"dataframe\">\n",
       "  <thead>\n",
       "    <tr style=\"text-align: right;\">\n",
       "      <th></th>\n",
       "      <th>title</th>\n",
       "      <th>abstract</th>\n",
       "      <th>clean_text</th>\n",
       "      <th>astro-ph</th>\n",
       "      <th>astro-ph.CO</th>\n",
       "      <th>astro-ph.EP</th>\n",
       "      <th>astro-ph.GA</th>\n",
       "      <th>astro-ph.HE</th>\n",
       "      <th>astro-ph.IM</th>\n",
       "      <th>astro-ph.SR</th>\n",
       "      <th>...</th>\n",
       "      <th>q-fin.RM</th>\n",
       "      <th>q-fin.ST</th>\n",
       "      <th>q-fin.TR</th>\n",
       "      <th>quant-ph</th>\n",
       "      <th>stat.AP</th>\n",
       "      <th>stat.CO</th>\n",
       "      <th>stat.ME</th>\n",
       "      <th>stat.ML</th>\n",
       "      <th>stat.OT</th>\n",
       "      <th>stat.TH</th>\n",
       "    </tr>\n",
       "  </thead>\n",
       "  <tbody>\n",
       "    <tr>\n",
       "      <th>0</th>\n",
       "      <td>On inv...</td>\n",
       "      <td>In t...</td>\n",
       "      <td>on inv...</td>\n",
       "      <td>0</td>\n",
       "      <td>0</td>\n",
       "      <td>0</td>\n",
       "      <td>0</td>\n",
       "      <td>0</td>\n",
       "      <td>0</td>\n",
       "      <td>0</td>\n",
       "      <td>...</td>\n",
       "      <td>0</td>\n",
       "      <td>0</td>\n",
       "      <td>0</td>\n",
       "      <td>0</td>\n",
       "      <td>0</td>\n",
       "      <td>0</td>\n",
       "      <td>0</td>\n",
       "      <td>0</td>\n",
       "      <td>0</td>\n",
       "      <td>0</td>\n",
       "    </tr>\n",
       "    <tr>\n",
       "      <th>1</th>\n",
       "      <td>On a p...</td>\n",
       "      <td>A th...</td>\n",
       "      <td>on a p...</td>\n",
       "      <td>0</td>\n",
       "      <td>0</td>\n",
       "      <td>0</td>\n",
       "      <td>0</td>\n",
       "      <td>0</td>\n",
       "      <td>0</td>\n",
       "      <td>0</td>\n",
       "      <td>...</td>\n",
       "      <td>0</td>\n",
       "      <td>0</td>\n",
       "      <td>0</td>\n",
       "      <td>0</td>\n",
       "      <td>0</td>\n",
       "      <td>0</td>\n",
       "      <td>0</td>\n",
       "      <td>0</td>\n",
       "      <td>0</td>\n",
       "      <td>0</td>\n",
       "    </tr>\n",
       "    <tr>\n",
       "      <th>2</th>\n",
       "      <td>Restri...</td>\n",
       "      <td>In t...</td>\n",
       "      <td>restri...</td>\n",
       "      <td>0</td>\n",
       "      <td>0</td>\n",
       "      <td>0</td>\n",
       "      <td>0</td>\n",
       "      <td>0</td>\n",
       "      <td>0</td>\n",
       "      <td>0</td>\n",
       "      <td>...</td>\n",
       "      <td>0</td>\n",
       "      <td>0</td>\n",
       "      <td>0</td>\n",
       "      <td>0</td>\n",
       "      <td>0</td>\n",
       "      <td>0</td>\n",
       "      <td>0</td>\n",
       "      <td>0</td>\n",
       "      <td>0</td>\n",
       "      <td>0</td>\n",
       "    </tr>\n",
       "    <tr>\n",
       "      <th>3</th>\n",
       "      <td>Counti...</td>\n",
       "      <td>We c...</td>\n",
       "      <td>count ...</td>\n",
       "      <td>0</td>\n",
       "      <td>0</td>\n",
       "      <td>0</td>\n",
       "      <td>0</td>\n",
       "      <td>0</td>\n",
       "      <td>0</td>\n",
       "      <td>0</td>\n",
       "      <td>...</td>\n",
       "      <td>0</td>\n",
       "      <td>0</td>\n",
       "      <td>0</td>\n",
       "      <td>0</td>\n",
       "      <td>0</td>\n",
       "      <td>0</td>\n",
       "      <td>0</td>\n",
       "      <td>0</td>\n",
       "      <td>0</td>\n",
       "      <td>0</td>\n",
       "    </tr>\n",
       "    <tr>\n",
       "      <th>4</th>\n",
       "      <td>Curren...</td>\n",
       "      <td>We p...</td>\n",
       "      <td>curren...</td>\n",
       "      <td>0</td>\n",
       "      <td>0</td>\n",
       "      <td>0</td>\n",
       "      <td>0</td>\n",
       "      <td>0</td>\n",
       "      <td>0</td>\n",
       "      <td>0</td>\n",
       "      <td>...</td>\n",
       "      <td>0</td>\n",
       "      <td>0</td>\n",
       "      <td>0</td>\n",
       "      <td>0</td>\n",
       "      <td>0</td>\n",
       "      <td>0</td>\n",
       "      <td>0</td>\n",
       "      <td>0</td>\n",
       "      <td>0</td>\n",
       "      <td>0</td>\n",
       "    </tr>\n",
       "  </tbody>\n",
       "</table>\n",
       "<p>5 rows × 156 columns</p>\n",
       "</div>"
      ],
      "text/plain": [
       "       title   abstract clean_text  astro-ph  astro-ph.CO  astro-ph.EP  \\\n",
       "0  On inv...    In t...  on inv...         0          0            0     \n",
       "1  On a p...    A th...  on a p...         0          0            0     \n",
       "2  Restri...    In t...  restri...         0          0            0     \n",
       "3  Counti...    We c...  count ...         0          0            0     \n",
       "4  Curren...    We p...  curren...         0          0            0     \n",
       "\n",
       "   astro-ph.GA  astro-ph.HE  astro-ph.IM  astro-ph.SR  ...  q-fin.RM  \\\n",
       "0          0            0            0            0    ...         0   \n",
       "1          0            0            0            0    ...         0   \n",
       "2          0            0            0            0    ...         0   \n",
       "3          0            0            0            0    ...         0   \n",
       "4          0            0            0            0    ...         0   \n",
       "\n",
       "   q-fin.ST  q-fin.TR  quant-ph  stat.AP  stat.CO  stat.ME  stat.ML  stat.OT  \\\n",
       "0         0         0         0        0        0        0        0        0   \n",
       "1         0         0         0        0        0        0        0        0   \n",
       "2         0         0         0        0        0        0        0        0   \n",
       "3         0         0         0        0        0        0        0        0   \n",
       "4         0         0         0        0        0        0        0        0   \n",
       "\n",
       "   stat.TH  \n",
       "0        0  \n",
       "1        0  \n",
       "2        0  \n",
       "3        0  \n",
       "4        0  \n",
       "\n",
       "[5 rows x 156 columns]"
      ]
     },
     "execution_count": 18,
     "metadata": {},
     "output_type": "execute_result"
    }
   ],
   "source": [
    "def cats_to_binary(categories):\n",
    "    '''\n",
    "    Takes an iterable of categories and returns an array with 1 at the category indexes and zeros everywhere else.\n",
    "    \n",
    "    INPUT\n",
    "        iterable of categories\n",
    "    \n",
    "    OUTPUT\n",
    "        numpy array with 1 at the category indexes and zeros everywhere else\n",
    "    '''\n",
    "    return np.in1d(cats, categories).astype('int8')\n",
    "\n",
    "print(\"One-hot encoding...\", end = \" \")\n",
    "\n",
    "df_1hot = df_lemm.copy()\n",
    "\n",
    "# populate cats_df with the information from df\n",
    "bincat_arr = np.array([cats_to_binary(cat_list) for cat_list in df_1hot['category']]).transpose()\n",
    "bincat_dict = {key:value for (key,value) in zip(cats, bincat_arr)}\n",
    "bincat_df = pd.DataFrame.from_dict(bincat_dict)\n",
    "\n",
    "# concatenate df with the columns in cats_df\n",
    "df_1hot = pd.concat([df_1hot, bincat_df], axis=1, sort=False)\n",
    "\n",
    "# drop the category column\n",
    "df_1hot.drop(['category'], axis=1, inplace=True)\n",
    "\n",
    "print(\"Done!\")\n",
    "\n",
    "# show the new columns of the data frame\n",
    "pd.set_option('display.max_colwidth', 10)\n",
    "df_1hot.head()"
   ]
  },
  {
   "cell_type": "markdown",
   "metadata": {},
   "source": [
    "<h2> Analysis of the data </h2>"
   ]
  },
  {
   "cell_type": "markdown",
   "metadata": {},
   "source": [
    "Here is how the categories in our data set are distributed."
   ]
  },
  {
   "cell_type": "code",
   "execution_count": 12,
   "metadata": {
    "scrolled": true
   },
   "outputs": [
    {
     "data": {
      "text/plain": [
       "count    153.00...\n",
       "mean     14.450980\n",
       "std      11.656792\n",
       "min       0.000000\n",
       "25%       5.000000\n",
       "50%      12.000000\n",
       "75%      20.000000\n",
       "max      55.000000\n",
       "dtype: float64"
      ]
     },
     "execution_count": 12,
     "metadata": {},
     "output_type": "execute_result"
    }
   ],
   "source": [
    "# save a dataframe with the amount of papers in each category\n",
    "sum_cats = bincat_df.apply(lambda x: x.sum())\n",
    "\n",
    "# get statistical information about the distribution of the amount of papers\n",
    "sum_cats.describe()"
   ]
  },
  {
   "cell_type": "code",
   "execution_count": 13,
   "metadata": {
    "scrolled": false
   },
   "outputs": [
    {
     "data": {
      "image/png": "[encoded data removed]",
      "text/plain": [
       "<Figure size 1440x720 with 1 Axes>"
      ]
     },
     "metadata": {
      "needs_background": "light"
     },
     "output_type": "display_data"
    }
   ],
   "source": [
    "# plot the distribution of the amount of papers in each category\n",
    "plt.figure(figsize=(20,10))\n",
    "plt.bar(x=sum_cats.keys(), height=sum_cats.values)\n",
    "plt.xlabel('Categories', fontsize=13)\n",
    "plt.ylabel('Number of papers', fontsize=13)\n",
    "plt.title('Distribution of categories in data set', fontsize=18)\n",
    "plt.xticks([])\n",
    "plt.show()"
   ]
  },
  {
   "cell_type": "markdown",
   "metadata": {},
   "source": [
    "We see that our data is not particularly uniformly distributed. These are the categories with the most amount of papers in the data set."
   ]
  },
  {
   "cell_type": "code",
   "execution_count": 14,
   "metadata": {},
   "outputs": [
    {
     "data": {
      "text/html": [
       "<div>\n",
       "<style scoped>\n",
       "    .dataframe tbody tr th:only-of-type {\n",
       "        vertical-align: middle;\n",
       "    }\n",
       "\n",
       "    .dataframe tbody tr th {\n",
       "        vertical-align: top;\n",
       "    }\n",
       "\n",
       "    .dataframe thead th {\n",
       "        text-align: right;\n",
       "    }\n",
       "</style>\n",
       "<table border=\"1\" class=\"dataframe\">\n",
       "  <thead>\n",
       "    <tr style=\"text-align: right;\">\n",
       "      <th></th>\n",
       "      <th>category</th>\n",
       "      <th>description</th>\n",
       "      <th>count</th>\n",
       "    </tr>\n",
       "  </thead>\n",
       "  <tbody>\n",
       "    <tr>\n",
       "      <th>85</th>\n",
       "      <td>math.MP</td>\n",
       "      <td>Mathematical Physics</td>\n",
       "      <td>55</td>\n",
       "    </tr>\n",
       "    <tr>\n",
       "      <th>97</th>\n",
       "      <td>math-ph</td>\n",
       "      <td>Mathematical Physics</td>\n",
       "      <td>55</td>\n",
       "    </tr>\n",
       "    <tr>\n",
       "      <th>146</th>\n",
       "      <td>quant-ph</td>\n",
       "      <td>Quantum Physics</td>\n",
       "      <td>52</td>\n",
       "    </tr>\n",
       "    <tr>\n",
       "      <th>63</th>\n",
       "      <td>hep-ph</td>\n",
       "      <td>High Energy Physics - Phenomenology</td>\n",
       "      <td>51</td>\n",
       "    </tr>\n",
       "    <tr>\n",
       "      <th>38</th>\n",
       "      <td>cs.LG</td>\n",
       "      <td>Learning</td>\n",
       "      <td>49</td>\n",
       "    </tr>\n",
       "  </tbody>\n",
       "</table>\n",
       "</div>"
      ],
      "text/plain": [
       "     category                          description  count\n",
       "85    math.MP                 Mathematical Physics     55\n",
       "97    math-ph                 Mathematical Physics     55\n",
       "146  quant-ph                      Quantum Physics     52\n",
       "63     hep-ph  High Energy Physics - Phenomenology     51\n",
       "38      cs.LG                             Learning     49"
      ]
     },
     "execution_count": 14,
     "metadata": {},
     "output_type": "execute_result"
    }
   ],
   "source": [
    "# add the counts to the dataframe and sort \n",
    "cats_df['count'] = sum_cats.values\n",
    "cats_df = cats_df.sort_values(by=['count'], ascending=False)\n",
    "\n",
    "pd.set_option('display.max_colwidth', 50)\n",
    "cats_df.head()"
   ]
  },
  {
   "cell_type": "markdown",
   "metadata": {},
   "source": [
    "<h2> ELMo feature extraction </h2>"
   ]
  },
  {
   "cell_type": "markdown",
   "metadata": {},
   "source": [
    "To build our model we have to extract features from the titles and abstracts. We will be using ELMo, a state-of-the-art NLP framework developed by AllenNLP, which converts text input into vectors, with similar words being closer to each other. We will need the following extra packages."
   ]
  },
  {
   "cell_type": "markdown",
   "metadata": {},
   "source": [
    "Next, we download the ELMo model. It is over 350mb in size, so it might take a little while."
   ]
  },
  {
   "cell_type": "code",
   "execution_count": null,
   "metadata": {},
   "outputs": [],
   "source": [
    "if not os.path.isdir(\"elmo\"):\n",
    "    # download ELMo model\n",
    "    print(\"Downloading compressed ELMo model...\", end = \" \")\n",
    "    url = \"https://tfhub.dev/google/elmo/2?tf-hub-format=compressed\"\n",
    "    wget.download(url, out=\"elmo.tar.gz\")\n",
    "    print(\"Done!\")\n",
    "\n",
    "    # uncompress ELMo model\n",
    "    print(\"Uncompressing into the 'elmo' directory...\", end = \" \")\n",
    "    os.system(\"mkdir elmo\") # create directory\n",
    "    with tarfile.open(\"elmo.tar.gz\") as tar:\n",
    "        tar.extractall(\"elmo\")\n",
    "    os.remove(\"elmo.tar.gz\")\n",
    "    print(\"Done!\")\n",
    "else:\n",
    "    print(\"The 'elmo' directory already exists, so assuming that the model has been downloaded.\")"
   ]
  },
  {
   "cell_type": "markdown",
   "metadata": {},
   "source": [
    "We now need to extract ELMo features from our cleaned text data. This is done using the `extract` function from `elmo.py`. This usually takes a LONG time."
   ]
  },
  {
   "cell_type": "code",
   "execution_count": null,
   "metadata": {},
   "outputs": [],
   "source": [
    "from elmo import extract\n",
    "\n",
    "if not os.path.isfile(f\"data/{file_name}_elmo.pickle\"):\n",
    "    # extract ELMo data\n",
    "    elmo_data = extract(\n",
    "        df_1hot['clean_text'], \n",
    "        batch_size = 10 # lower batch size gives less accurate vectors but requires less RAM\n",
    "    )\n",
    "\n",
    "    # save ELMo data\n",
    "    with open(f\"data/{file_name}_elmo.pickle\", \"wb\") as pickle_out:\n",
    "        pickle.dump(elmo_data, pickle_out)\n",
    "\n",
    "    print(f\"ELMo extraction completed. Also saved elmo data to data/{file_name}.elmo.pickle.\")\n",
    "else:\n",
    "    # load ELMo data\n",
    "    with open(f\"data/{file_name}_elmo.pickle\", \"rb\") as pickle_in:\n",
    "        elmo_data = pickle.load(pickle_in)\n",
    "\n",
    "    print(f\"ELMo data loaded from data/{file_name}_elmo.pickle.\")\n",
    "\n",
    "print(f\"Dimensions of elmo_data: {elmo_data.shape}\")\n",
    "\n",
    "df_elmo = pd.DataFrame(elmo_data)\n",
    "df_elmo = df_elmo.join(pd.DataFrame(df_1hot.drop(columns=['title', 'abstract', 'clean_text'])))\n",
    "df_elmo.head()"
   ]
  },
  {
   "cell_type": "markdown",
   "metadata": {},
   "source": [
    "<h2> Building the model </h2>"
   ]
  },
  {
   "cell_type": "markdown",
   "metadata": {},
   "source": [
    "We are now done manipulating our data, and the time has come to build a model. We will be building a logistic regression model for every category."
   ]
  },
  {
   "cell_type": "raw",
   "metadata": {},
   "source": [
    "from sklearn.model_selection import train_test_split\n",
    "from sklearn.linear_model import LogisticRegression"
   ]
  },
  {
   "cell_type": "raw",
   "metadata": {},
   "source": [
    "Y_test = []\n",
    "Y_hat = []\n",
    "lregs = np.asarray([])\n",
    "\n",
    "for cat in cats:\n",
    "        \n",
    "    X_train, X_test, y_train, y_test = train_test_split(df_elmo, df_elmo[cat], test_size=0.2)\n",
    "    Y_test.append(y_test)\n",
    "    \n",
    "    try:\n",
    "        lreg = LogisticRegression(C=0.0001, solver='liblinear')\n",
    "        lreg.fit(X_train, y_train)\n",
    "        Y_hat.append(lreg.predict(X_test))\n",
    "        lregs.append(lreg)\n",
    "    except:\n",
    "        Y_hat.append(np.array([0] * len(y_test)))"
   ]
  },
  {
   "cell_type": "markdown",
   "metadata": {},
   "source": [
    "<h2> Testing the model </h2>"
   ]
  },
  {
   "cell_type": "markdown",
   "metadata": {},
   "source": [
    "We now check whether our model is capable of predicting the categories for the papers in our test set."
   ]
  },
  {
   "cell_type": "raw",
   "metadata": {},
   "source": [
    "￼\n",
    "from sklearn.metrics import f1_score\n",
    "from statistics import mean\n",
    "In [ ]:\n",
    "from sklearn.metrics import f1_score\n",
    "from statistics import mean"
   ]
  },
  {
   "cell_type": "raw",
   "metadata": {},
   "source": [
    "f1s = [f1_score(x, y) for (x,y) in zip(Y_test, Y_hat)]\n",
    "\n",
    "print(f\"The average f1 score for the model is {mean(f1s)}.\")"
   ]
  }
 ],
 "metadata": {
  "kernelspec": {
   "display_name": "Python 3",
   "language": "python",
   "name": "python3"
  },
  "language_info": {
   "codemirror_mode": {
    "name": "ipython",
    "version": 3
   },
   "file_extension": ".py",
   "mimetype": "text/x-python",
   "name": "python",
   "nbconvert_exporter": "python",
   "pygments_lexer": "ipython3",
   "version": "3.7.1"
  }
 },
 "nbformat": 4,
 "nbformat_minor": 2
}
