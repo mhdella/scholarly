{
 "cells": [
  {
   "cell_type": "code",
   "execution_count": 4,
   "metadata": {},
   "outputs": [],
   "source": [
    "import pathlib\n",
    "import os\n",
    "import pandas as pd"
   ]
  },
  {
   "cell_type": "code",
   "execution_count": 5,
   "metadata": {},
   "outputs": [],
   "source": [
    "home_dir = str(pathlib.Path.home())\n",
    "data_path = os.path.join(home_dir, \"pCloudDrive\", \"public_folder\",\n",
    "    \"scholarly_data\")\n",
    "file_path = os.path.join(data_path, f'arxiv_agg.csv')"
   ]
  },
  {
   "cell_type": "code",
   "execution_count": 16,
   "metadata": {},
   "outputs": [
    {
     "data": {
      "text/html": [
       "<div>\n",
       "<style scoped>\n",
       "    .dataframe tbody tr th:only-of-type {\n",
       "        vertical-align: middle;\n",
       "    }\n",
       "\n",
       "    .dataframe tbody tr th {\n",
       "        vertical-align: top;\n",
       "    }\n",
       "\n",
       "    .dataframe thead th {\n",
       "        text-align: right;\n",
       "    }\n",
       "</style>\n",
       "<table border=\"1\" class=\"dataframe\">\n",
       "  <thead>\n",
       "    <tr style=\"text-align: right;\">\n",
       "      <th></th>\n",
       "      <th>1</th>\n",
       "      <th>2</th>\n",
       "      <th>3</th>\n",
       "      <th>4</th>\n",
       "      <th>5</th>\n",
       "      <th>6</th>\n",
       "      <th>7</th>\n",
       "    </tr>\n",
       "  </thead>\n",
       "  <tbody>\n",
       "    <tr>\n",
       "      <th>0</th>\n",
       "      <td>1</td>\n",
       "      <td>0</td>\n",
       "      <td>0</td>\n",
       "      <td>0</td>\n",
       "      <td>0</td>\n",
       "      <td>0</td>\n",
       "      <td>0</td>\n",
       "    </tr>\n",
       "    <tr>\n",
       "      <th>1</th>\n",
       "      <td>1</td>\n",
       "      <td>0</td>\n",
       "      <td>0</td>\n",
       "      <td>0</td>\n",
       "      <td>0</td>\n",
       "      <td>0</td>\n",
       "      <td>0</td>\n",
       "    </tr>\n",
       "    <tr>\n",
       "      <th>2</th>\n",
       "      <td>1</td>\n",
       "      <td>0</td>\n",
       "      <td>0</td>\n",
       "      <td>0</td>\n",
       "      <td>0</td>\n",
       "      <td>0</td>\n",
       "      <td>0</td>\n",
       "    </tr>\n",
       "    <tr>\n",
       "      <th>3</th>\n",
       "      <td>1</td>\n",
       "      <td>0</td>\n",
       "      <td>0</td>\n",
       "      <td>0</td>\n",
       "      <td>0</td>\n",
       "      <td>0</td>\n",
       "      <td>0</td>\n",
       "    </tr>\n",
       "    <tr>\n",
       "      <th>4</th>\n",
       "      <td>1</td>\n",
       "      <td>0</td>\n",
       "      <td>0</td>\n",
       "      <td>0</td>\n",
       "      <td>0</td>\n",
       "      <td>0</td>\n",
       "      <td>0</td>\n",
       "    </tr>\n",
       "  </tbody>\n",
       "</table>\n",
       "</div>"
      ],
      "text/plain": [
       "   1  2  3  4  5  6  7\n",
       "0  1  0  0  0  0  0  0\n",
       "1  1  0  0  0  0  0  0\n",
       "2  1  0  0  0  0  0  0\n",
       "3  1  0  0  0  0  0  0\n",
       "4  1  0  0  0  0  0  0"
      ]
     },
     "execution_count": 16,
     "metadata": {},
     "output_type": "execute_result"
    }
   ],
   "source": [
    "df = pd.read_csv(file_path, usecols = range(1, 8), header = None)\n",
    "df.head()"
   ]
  },
  {
   "cell_type": "code",
   "execution_count": 14,
   "metadata": {},
   "outputs": [
    {
     "data": {
      "text/plain": [
       "1      2.690160\n",
       "2      4.666292\n",
       "3     14.916073\n",
       "4    103.801227\n",
       "5      3.484860\n",
       "6     26.380267\n",
       "7     80.426543\n",
       "dtype: float64"
      ]
     },
     "execution_count": 14,
     "metadata": {},
     "output_type": "execute_result"
    }
   ],
   "source": [
    "weights = sum(df.sum()) / df.sum()\n",
    "weights"
   ]
  },
  {
   "cell_type": "code",
   "execution_count": 15,
   "metadata": {},
   "outputs": [
    {
     "data": {
      "text/plain": [
       "0          2.690160\n",
       "1          2.690160\n",
       "2          2.690160\n",
       "3          2.690160\n",
       "4          2.690160\n",
       "5          2.690160\n",
       "6          2.690160\n",
       "7          2.690160\n",
       "8          2.690160\n",
       "9          2.690160\n",
       "10         2.690160\n",
       "11         2.690160\n",
       "12         2.690160\n",
       "13         6.175020\n",
       "14         2.690160\n",
       "15         2.690160\n",
       "16         2.690160\n",
       "17         2.690160\n",
       "18         2.690160\n",
       "19         2.690160\n",
       "20         2.690160\n",
       "21         2.690160\n",
       "22         2.690160\n",
       "23         6.175020\n",
       "24         2.690160\n",
       "25         2.690160\n",
       "26         2.690160\n",
       "27         2.690160\n",
       "28         2.690160\n",
       "29         2.690160\n",
       "            ...    \n",
       "999033    18.400933\n",
       "999034    18.400933\n",
       "999035    18.400933\n",
       "999036    18.400933\n",
       "999037    18.400933\n",
       "999038    18.400933\n",
       "999039    23.067225\n",
       "999040    18.400933\n",
       "999041    18.400933\n",
       "999042    18.400933\n",
       "999043    18.400933\n",
       "999044    23.067225\n",
       "999045    18.400933\n",
       "999046    18.400933\n",
       "999047    18.400933\n",
       "999048    18.400933\n",
       "999049    18.400933\n",
       "999050    23.067225\n",
       "999051    18.400933\n",
       "999052    98.827476\n",
       "999053    18.400933\n",
       "999054    23.067225\n",
       "999055    47.471361\n",
       "999056    18.400933\n",
       "999057    23.067225\n",
       "999058    18.400933\n",
       "999059    18.400933\n",
       "999060    18.400933\n",
       "999061    98.827476\n",
       "999062    18.400933\n",
       "Length: 999063, dtype: float64"
      ]
     },
     "execution_count": 15,
     "metadata": {},
     "output_type": "execute_result"
    }
   ],
   "source": [
    "df.dot(weights)"
   ]
  },
  {
   "cell_type": "code",
   "execution_count": null,
   "metadata": {},
   "outputs": [],
   "source": []
  }
 ],
 "metadata": {
  "kernelspec": {
   "display_name": "Python 3",
   "language": "python",
   "name": "python3"
  },
  "language_info": {
   "codemirror_mode": {
    "name": "ipython",
    "version": 3
   },
   "file_extension": ".py",
   "mimetype": "text/x-python",
   "name": "python",
   "nbconvert_exporter": "python",
   "pygments_lexer": "ipython3",
   "version": "3.7.4"
  }
 },
 "nbformat": 4,
 "nbformat_minor": 2
}
